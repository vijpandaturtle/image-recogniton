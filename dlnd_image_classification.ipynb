{
 "cells": [
  {
   "cell_type": "markdown",
   "metadata": {
    "collapsed": true,
    "deletable": true,
    "editable": true
   },
   "source": [
    "# Image Classification\n",
    "In this project, you'll classify images from the [CIFAR-10 dataset](https://www.cs.toronto.edu/~kriz/cifar.html).  The dataset consists of airplanes, dogs, cats, and other objects. You'll preprocess the images, then train a convolutional neural network on all the samples. The images need to be normalized and the labels need to be one-hot encoded.  You'll get to apply what you learned and build a convolutional, max pooling, dropout, and fully connected layers.  At the end, you'll get to see your neural network's predictions on the sample images.\n",
    "## Get the Data\n",
    "Run the following cell to download the [CIFAR-10 dataset for python](https://www.cs.toronto.edu/~kriz/cifar-10-python.tar.gz)."
   ]
  },
  {
   "cell_type": "code",
   "execution_count": 18,
   "metadata": {
    "collapsed": false,
    "deletable": true,
    "editable": true
   },
   "outputs": [
    {
     "name": "stdout",
     "output_type": "stream",
     "text": [
      "All files found!\n"
     ]
    }
   ],
   "source": [
    "\"\"\"\n",
    "DON'T MODIFY ANYTHING IN THIS CELL THAT IS BELOW THIS LINE\n",
    "\"\"\"\n",
    "from urllib.request import urlretrieve\n",
    "from os.path import isfile, isdir\n",
    "from tqdm import tqdm\n",
    "import problem_unittests as tests\n",
    "import tarfile\n",
    "\n",
    "cifar10_dataset_folder_path = 'cifar-10-batches-py'\n",
    "\n",
    "class DLProgress(tqdm):\n",
    "    last_block = 0\n",
    "\n",
    "    def hook(self, block_num=1, block_size=1, total_size=None):\n",
    "        self.total = total_size\n",
    "        self.update((block_num - self.last_block) * block_size)\n",
    "        self.last_block = block_num\n",
    "\n",
    "if not isfile('cifar-10-python.tar.gz'):\n",
    "    with DLProgress(unit='B', unit_scale=True, miniters=1, desc='CIFAR-10 Dataset') as pbar:\n",
    "        urlretrieve(\n",
    "            'https://www.cs.toronto.edu/~kriz/cifar-10-python.tar.gz',\n",
    "            'cifar-10-python.tar.gz',\n",
    "            pbar.hook)\n",
    "\n",
    "if not isdir(cifar10_dataset_folder_path):\n",
    "    with tarfile.open('cifar-10-python.tar.gz') as tar:\n",
    "        tar.extractall()\n",
    "        tar.close()\n",
    "\n",
    "\n",
    "tests.test_folder_path(cifar10_dataset_folder_path)"
   ]
  },
  {
   "cell_type": "markdown",
   "metadata": {
    "deletable": true,
    "editable": true
   },
   "source": [
    "## Explore the Data\n",
    "The dataset is broken into batches to prevent your machine from running out of memory.  The CIFAR-10 dataset consists of 5 batches, named `data_batch_1`, `data_batch_2`, etc.. Each batch contains the labels and images that are one of the following:\n",
    "* airplane\n",
    "* automobile\n",
    "* bird\n",
    "* cat\n",
    "* deer\n",
    "* dog\n",
    "* frog\n",
    "* horse\n",
    "* ship\n",
    "* truck\n",
    "\n",
    "Understanding a dataset is part of making predictions on the data.  Play around with the code cell below by changing the `batch_id` and `sample_id`. The `batch_id` is the id for a batch (1-5). The `sample_id` is the id for a image and label pair in the batch.\n",
    "\n",
    "Ask yourself \"What are all possible labels?\", \"What is the range of values for the image data?\", \"Are the labels in order or random?\".  Answers to questions like these will help you preprocess the data and end up with better predictions."
   ]
  },
  {
   "cell_type": "code",
   "execution_count": 19,
   "metadata": {
    "collapsed": false,
    "deletable": true,
    "editable": true
   },
   "outputs": [
    {
     "name": "stdout",
     "output_type": "stream",
     "text": [
      "\n",
      "Stats of batch 1:\n",
      "Samples: 10000\n",
      "Label Counts: {0: 1005, 1: 974, 2: 1032, 3: 1016, 4: 999, 5: 937, 6: 1030, 7: 1001, 8: 1025, 9: 981}\n",
      "First 20 Labels: [6, 9, 9, 4, 1, 1, 2, 7, 8, 3, 4, 7, 7, 2, 9, 9, 9, 3, 2, 6]\n",
      "\n",
      "Example of Image 5:\n",
      "Image - Min Value: 0 Max Value: 252\n",
      "Image - Shape: (32, 32, 3)\n",
      "Label - Label Id: 1 Name: automobile\n"
     ]
    },
    {
     "data": {
      "image/png": "[encoded data removed]",
      "text/plain": [
       "<matplotlib.figure.Figure at 0x7f904d455c50>"
      ]
     },
     "metadata": {
      "image/png": {
       "height": 250,
       "width": 253
      }
     },
     "output_type": "display_data"
    }
   ],
   "source": [
    "%matplotlib inline\n",
    "%config InlineBackend.figure_format = 'retina'\n",
    "\n",
    "import helper\n",
    "import numpy as np\n",
    "\n",
    "# Explore the dataset\n",
    "batch_id = 1\n",
    "sample_id = 5\n",
    "helper.display_stats(cifar10_dataset_folder_path, batch_id, sample_id)"
   ]
  },
  {
   "cell_type": "markdown",
   "metadata": {
    "deletable": true,
    "editable": true
   },
   "source": [
    "## Implement Preprocess Functions\n",
    "### Normalize\n",
    "In the cell below, implement the `normalize` function to take in image data, `x`, and return it as a normalized Numpy array. The values should be in the range of 0 to 1, inclusive.  The return object should be the same shape as `x`."
   ]
  },
  {
   "cell_type": "code",
   "execution_count": 20,
   "metadata": {
    "collapsed": false,
    "deletable": true,
    "editable": true
   },
   "outputs": [
    {
     "name": "stdout",
     "output_type": "stream",
     "text": [
      "Tests Passed\n"
     ]
    }
   ],
   "source": [
    "def normalize(x):\n",
    "    \"\"\"\n",
    "    Normalize a list of sample image data in the range of 0 to 1\n",
    "    : x: List of image data.  The image shape is (32, 32, 3)\n",
    "    : return: Numpy array of normalize data\n",
    "    \"\"\"\n",
    "    # Here the maximum value is already known to us so it's better to use the actual value.\n",
    "    x = x/255.0\n",
    "    return np.array(x)\n",
    "\n",
    "\n",
    "\"\"\"\n",
    "DON'T MODIFY ANYTHING IN THIS CELL THAT IS BELOW THIS LINE\n",
    "\"\"\"\n",
    "tests.test_normalize(normalize)"
   ]
  },
  {
   "cell_type": "markdown",
   "metadata": {
    "deletable": true,
    "editable": true
   },
   "source": [
    "### One-hot encode\n",
    "Just like the previous code cell, you'll be implementing a function for preprocessing.  This time, you'll implement the `one_hot_encode` function. The input, `x`, are a list of labels.  Implement the function to return the list of labels as One-Hot encoded Numpy array.  The possible values for labels are 0 to 9. The one-hot encoding function should return the same encoding for each value between each call to `one_hot_encode`.  Make sure to save the map of encodings outside the function.\n",
    "\n",
    "Hint: Don't reinvent the wheel."
   ]
  },
  {
   "cell_type": "code",
   "execution_count": 21,
   "metadata": {
    "collapsed": false,
    "deletable": true,
    "editable": true
   },
   "outputs": [
    {
     "name": "stdout",
     "output_type": "stream",
     "text": [
      "Tests Passed\n"
     ]
    }
   ],
   "source": [
    "def one_hot_encode(x):\n",
    "    \"\"\"\n",
    "    One hot encode a list of sample labels. Return a one-hot encoded vector for each label.\n",
    "    : x: List of sample Labels\n",
    "    : return: Numpy array of one-hot encoded labels\n",
    "    \"\"\"\n",
    "    zero_vector = np.zeros(shape=(len(x),10))\n",
    "    for i in range(len(x)):\n",
    "        for j in range(10):\n",
    "            zero_vector[i][j] = (j==x[i])       \n",
    "    return zero_vector\n",
    "\n",
    "\n",
    "\"\"\"\n",
    "DON'T MODIFY ANYTHING IN THIS CELL THAT IS BELOW THIS LINE\n",
    "\"\"\"\n",
    "tests.test_one_hot_encode(one_hot_encode)"
   ]
  },
  {
   "cell_type": "markdown",
   "metadata": {
    "deletable": true,
    "editable": true
   },
   "source": [
    "### Randomize Data\n",
    "As you saw from exploring the data above, the order of the samples are randomized.  It doesn't hurt to randomize it again, but you don't need to for this dataset."
   ]
  },
  {
   "cell_type": "markdown",
   "metadata": {
    "deletable": true,
    "editable": true
   },
   "source": [
    "## Preprocess all the data and save it\n",
    "Running the code cell below will preprocess all the CIFAR-10 data and save it to file. The code below also uses 10% of the training data for validation."
   ]
  },
  {
   "cell_type": "code",
   "execution_count": 22,
   "metadata": {
    "collapsed": false,
    "deletable": true,
    "editable": true
   },
   "outputs": [],
   "source": [
    "\"\"\"\n",
    "DON'T MODIFY ANYTHING IN THIS CELL\n",
    "\"\"\"\n",
    "# Preprocess Training, Validation, and Testing Data\n",
    "helper.preprocess_and_save_data(cifar10_dataset_folder_path, normalize, one_hot_encode)"
   ]
  },
  {
   "cell_type": "markdown",
   "metadata": {
    "deletable": true,
    "editable": true
   },
   "source": [
    "# Check Point\n",
    "This is your first checkpoint.  If you ever decide to come back to this notebook or have to restart the notebook, you can start from here.  The preprocessed data has been saved to disk."
   ]
  },
  {
   "cell_type": "code",
   "execution_count": 23,
   "metadata": {
    "collapsed": true,
    "deletable": true,
    "editable": true
   },
   "outputs": [],
   "source": [
    "\"\"\"\n",
    "DON'T MODIFY ANYTHING IN THIS CELL\n",
    "\"\"\"\n",
    "import pickle\n",
    "import problem_unittests as tests\n",
    "import helper\n",
    "\n",
    "# Load the Preprocessed Validation data\n",
    "valid_features, valid_labels = pickle.load(open('preprocess_validation.p', mode='rb'))"
   ]
  },
  {
   "cell_type": "markdown",
   "metadata": {
    "deletable": true,
    "editable": true
   },
   "source": [
    "## Build the network\n",
    "For the neural network, you'll build each layer into a function.  Most of the code you've seen has been outside of functions. To test your code more thoroughly, we require that you put each layer in a function.  This allows us to give you better feedback and test for simple mistakes using our unittests before you submit your project.\n",
    "\n",
    ">**Note:** If you're finding it hard to dedicate enough time for this course each week, we've provided a small shortcut to this part of the project. In the next couple of problems, you'll have the option to use classes from the [TensorFlow Layers](https://www.tensorflow.org/api_docs/python/tf/layers) or [TensorFlow Layers (contrib)](https://www.tensorflow.org/api_guides/python/contrib.layers) packages to build each layer, except the layers you build in the \"Convolutional and Max Pooling Layer\" section.  TF Layers is similar to Keras's and TFLearn's abstraction to layers, so it's easy to pickup.\n",
    "\n",
    ">However, if you would like to get the most out of this course, try to solve all the problems _without_ using anything from the TF Layers packages. You **can** still use classes from other packages that happen to have the same name as ones you find in TF Layers! For example, instead of using the TF Layers version of the `conv2d` class, [tf.layers.conv2d](https://www.tensorflow.org/api_docs/python/tf/layers/conv2d), you would want to use the TF Neural Network version of `conv2d`, [tf.nn.conv2d](https://www.tensorflow.org/api_docs/python/tf/nn/conv2d). \n",
    "\n",
    "Let's begin!\n",
    "\n",
    "### Input\n",
    "The neural network needs to read the image data, one-hot encoded labels, and dropout keep probability. Implement the following functions\n",
    "* Implement `neural_net_image_input`\n",
    " * Return a [TF Placeholder](https://www.tensorflow.org/api_docs/python/tf/placeholder)\n",
    " * Set the shape using `image_shape` with batch size set to `None`.\n",
    " * Name the TensorFlow placeholder \"x\" using the TensorFlow `name` parameter in the [TF Placeholder](https://www.tensorflow.org/api_docs/python/tf/placeholder).\n",
    "* Implement `neural_net_label_input`\n",
    " * Return a [TF Placeholder](https://www.tensorflow.org/api_docs/python/tf/placeholder)\n",
    " * Set the shape using `n_classes` with batch size set to `None`.\n",
    " * Name the TensorFlow placeholder \"y\" using the TensorFlow `name` parameter in the [TF Placeholder](https://www.tensorflow.org/api_docs/python/tf/placeholder).\n",
    "* Implement `neural_net_keep_prob_input`\n",
    " * Return a [TF Placeholder](https://www.tensorflow.org/api_docs/python/tf/placeholder) for dropout keep probability.\n",
    " * Name the TensorFlow placeholder \"keep_prob\" using the TensorFlow `name` parameter in the [TF Placeholder](https://www.tensorflow.org/api_docs/python/tf/placeholder).\n",
    "\n",
    "These names will be used at the end of the project to load your saved model.\n",
    "\n",
    "Note: `None` for shapes in TensorFlow allow for a dynamic size."
   ]
  },
  {
   "cell_type": "code",
   "execution_count": 24,
   "metadata": {
    "collapsed": false,
    "deletable": true,
    "editable": true
   },
   "outputs": [
    {
     "name": "stdout",
     "output_type": "stream",
     "text": [
      "Image Input Tests Passed.\n",
      "Label Input Tests Passed.\n",
      "Keep Prob Tests Passed.\n"
     ]
    }
   ],
   "source": [
    "import tensorflow as tf\n",
    "\n",
    "def neural_net_image_input(image_shape):\n",
    "    \"\"\"\n",
    "    Return a Tensor for a bach of image input\n",
    "    : image_shape: Shape of the images\n",
    "    : return: Tensor for image input.\n",
    "    \"\"\"\n",
    "    return tf.placeholder(tf.float32,shape=[None,image_shape[0],image_shape[1],image_shape[2]], name='x')\n",
    "         \n",
    "\n",
    "\n",
    "def neural_net_label_input(n_classes):\n",
    "    \"\"\"\n",
    "    Return a Tensor for a batch of label input\n",
    "    : n_classes: Number of classes\n",
    "    : return: Tensor for label input.\n",
    "    \"\"\"\n",
    "    return tf.placeholder(tf.float32,shape=[None, n_classes], name='y')\n",
    "     \n",
    "\n",
    "\n",
    "def neural_net_keep_prob_input():\n",
    "    \"\"\"\n",
    "    Return a Tensor for keep probability\n",
    "    : return: Tensor for keep probability.\n",
    "    \"\"\"\n",
    "    return tf.placeholder(tf.float32, shape=None, name='keep_prob')\n",
    "    \n",
    "\n",
    "\n",
    "\"\"\"\n",
    "DON'T MODIFY ANYTHING IN THIS CELL THAT IS BELOW THIS LINE\n",
    "\"\"\"\n",
    "tf.reset_default_graph()\n",
    "tests.test_nn_image_inputs(neural_net_image_input)\n",
    "tests.test_nn_label_inputs(neural_net_label_input)\n",
    "tests.test_nn_keep_prob_inputs(neural_net_keep_prob_input)"
   ]
  },
  {
   "cell_type": "markdown",
   "metadata": {
    "deletable": true,
    "editable": true
   },
   "source": [
    "### Convolution and Max Pooling Layer\n",
    "Convolution layers have a lot of success with images. For this code cell, you should implement the function `conv2d_maxpool` to apply convolution then max pooling:\n",
    "* Create the weight and bias using `conv_ksize`, `conv_num_outputs` and the shape of `x_tensor`.\n",
    "* Apply a convolution to `x_tensor` using weight and `conv_strides`.\n",
    " * We recommend you use same padding, but you're welcome to use any padding.\n",
    "* Add bias\n",
    "* Add a nonlinear activation to the convolution.\n",
    "* Apply Max Pooling using `pool_ksize` and `pool_strides`.\n",
    " * We recommend you use same padding, but you're welcome to use any padding.\n",
    "\n",
    "**Note:** You **can't** use [TensorFlow Layers](https://www.tensorflow.org/api_docs/python/tf/layers) or [TensorFlow Layers (contrib)](https://www.tensorflow.org/api_guides/python/contrib.layers) for **this** layer, but you can still use TensorFlow's [Neural Network](https://www.tensorflow.org/api_docs/python/tf/nn) package. You may still use the shortcut option for all the **other** layers."
   ]
  },
  {
   "cell_type": "code",
   "execution_count": 25,
   "metadata": {
    "collapsed": false,
    "deletable": true,
    "editable": true
   },
   "outputs": [
    {
     "name": "stdout",
     "output_type": "stream",
     "text": [
      "Tests Passed\n"
     ]
    }
   ],
   "source": [
    "def conv2d_maxpool(x_tensor, conv_num_outputs, conv_ksize, conv_strides, pool_ksize, pool_strides):\n",
    "    \"\"\"\n",
    "    Apply convolution then max pooling to x_tensor\n",
    "    :param x_tensor: TensorFlow Tensor\n",
    "    :param conv_num_outputs: Number of outputs for the convolutional layer\n",
    "    :param conv_ksize: kernal size 2-D Tuple for the convolutional layer\n",
    "    :param conv_strides: Stride 2-D Tuple for convolution\n",
    "    :param pool_ksize: kernal size 2-D Tuple for pool\n",
    "    :param pool_strides: Stride 2-D Tuple for pool\n",
    "    : return: A tensor that represents convolution and max pooling of x_tensor\n",
    "    \"\"\"\n",
    "    # TODO: Implement Function\n",
    "    depth = int(x_tensor.get_shape().as_list()[3])\n",
    "    weights = tf.Variable(tf.truncated_normal([conv_ksize[0],conv_ksize[1],depth,conv_num_outputs], stddev=0.05))\n",
    "    bias = tf.Variable(tf.zeros([conv_num_outputs]))\n",
    "    \n",
    "    # Convolutional layer + Maxpooling layer\n",
    "    conv_layer = tf.nn.conv2d(x_tensor, weights, strides=[1,conv_strides[0],conv_strides[1], 1], padding='SAME')\n",
    "    conv_layer = tf.nn.bias_add(conv_layer, bias)\n",
    "    conv_layer = tf.nn.relu(conv_layer)\n",
    "    conv_layer = tf.nn.max_pool(conv_layer, ksize=[1, pool_ksize[0], pool_ksize[1],1], strides=[1, pool_strides[0], pool_strides[1], 1], padding=\"SAME\")\n",
    "    return conv_layer\n",
    "\n",
    "\n",
    "\n",
    "\n",
    "\"\"\"\n",
    "DON'T MODIFY ANYTHING IN THIS CELL THAT IS BELOW THIS LINE\n",
    "\"\"\"\n",
    "tests.test_con_pool(conv2d_maxpool)"
   ]
  },
  {
   "cell_type": "markdown",
   "metadata": {
    "deletable": true,
    "editable": true
   },
   "source": [
    "### Flatten Layer\n",
    "Implement the `flatten` function to change the dimension of `x_tensor` from a 4-D tensor to a 2-D tensor.  The output should be the shape (*Batch Size*, *Flattened Image Size*). Shortcut option: you can use classes from the [TensorFlow Layers](https://www.tensorflow.org/api_docs/python/tf/layers) or [TensorFlow Layers (contrib)](https://www.tensorflow.org/api_guides/python/contrib.layers) packages for this layer. For more of a challenge, only use other TensorFlow packages."
   ]
  },
  {
   "cell_type": "code",
   "execution_count": 26,
   "metadata": {
    "collapsed": false,
    "deletable": true,
    "editable": true
   },
   "outputs": [
    {
     "name": "stdout",
     "output_type": "stream",
     "text": [
      "Tests Passed\n"
     ]
    }
   ],
   "source": [
    "def flatten(x_tensor):\n",
    "    \"\"\"\n",
    "    Flatten x_tensor to (Batch Size, Flattened Image Size)\n",
    "    : x_tensor: A tensor of size (Batch Size, ...), where ... are the image dimensions.\n",
    "    : return: A tensor of size (Batch Size, Flattened Image Size).\n",
    "    \"\"\"\n",
    "    # Storing the dimensions of the tensor as a list into a variable to make it easily accessible.\n",
    "    list_dim = x_tensor.get_shape().as_list()\n",
    "    # Here the reshape function returns a tensor of reduced dimensionality, 2-D in this case with batch size as none.\n",
    "    flattened_tensor = tf.reshape(x_tensor, [-1, list_dim[1]*list_dim[2]*list_dim[3]])\n",
    "    return flattened_tensor\n",
    "\n",
    "\n",
    "\"\"\"\n",
    "DON'T MODIFY ANYTHING IN THIS CELL THAT IS BELOW THIS LINE\n",
    "\"\"\"\n",
    "tests.test_flatten(flatten)"
   ]
  },
  {
   "cell_type": "markdown",
   "metadata": {
    "deletable": true,
    "editable": true
   },
   "source": [
    "### Fully-Connected Layer\n",
    "Implement the `fully_conn` function to apply a fully connected layer to `x_tensor` with the shape (*Batch Size*, *num_outputs*). Shortcut option: you can use classes from the [TensorFlow Layers](https://www.tensorflow.org/api_docs/python/tf/layers) or [TensorFlow Layers (contrib)](https://www.tensorflow.org/api_guides/python/contrib.layers) packages for this layer. For more of a challenge, only use other TensorFlow packages."
   ]
  },
  {
   "cell_type": "code",
   "execution_count": 27,
   "metadata": {
    "collapsed": false,
    "deletable": true,
    "editable": true
   },
   "outputs": [
    {
     "name": "stdout",
     "output_type": "stream",
     "text": [
      "Tests Passed\n"
     ]
    }
   ],
   "source": [
    "def fully_conn(x_tensor, num_outputs):\n",
    "    \"\"\"\n",
    "    Apply a fully connected layer to x_tensor using weight and bias\n",
    "    : x_tensor: A 2-D tensor where the first dimension is batch size.\n",
    "    : num_outputs: The number of output that the new tensor should be.\n",
    "    : return: A 2-D tensor where the second dimension is num_outputs.\n",
    "    \"\"\"\n",
    "    dimension = x_tensor.get_shape().as_list()[1]\n",
    "    # Here I'm defining separate weights and bias for the fully connected layer..these weights live inside of this function.\n",
    "    weights_full = tf.Variable(tf.truncated_normal([dimension, num_outputs], stddev = 0.05))\n",
    "    bias_full = tf.Variable(tf.zeros([num_outputs]))\n",
    "    # This is a regular hidden layer with weights and biases.\n",
    "    fully_connected = tf.add(tf.matmul(x_tensor, weights_full),bias_full)\n",
    "    fully_connected = tf.nn.relu(fully_connected)\n",
    "    return fully_connected\n",
    "\n",
    "\n",
    "\"\"\"\n",
    "DON'T MODIFY ANYTHING IN THIS CELL THAT IS BELOW THIS LINE\n",
    "\"\"\"\n",
    "tests.test_fully_conn(fully_conn)"
   ]
  },
  {
   "cell_type": "markdown",
   "metadata": {
    "deletable": true,
    "editable": true
   },
   "source": [
    "### Output Layer\n",
    "Implement the `output` function to apply a fully connected layer to `x_tensor` with the shape (*Batch Size*, *num_outputs*). Shortcut option: you can use classes from the [TensorFlow Layers](https://www.tensorflow.org/api_docs/python/tf/layers) or [TensorFlow Layers (contrib)](https://www.tensorflow.org/api_guides/python/contrib.layers) packages for this layer. For more of a challenge, only use other TensorFlow packages.\n",
    "\n",
    "**Note:** Activation, softmax, or cross entropy should **not** be applied to this."
   ]
  },
  {
   "cell_type": "code",
   "execution_count": 28,
   "metadata": {
    "collapsed": false,
    "deletable": true,
    "editable": true
   },
   "outputs": [
    {
     "name": "stdout",
     "output_type": "stream",
     "text": [
      "Tests Passed\n"
     ]
    }
   ],
   "source": [
    "def output(x_tensor, num_outputs):\n",
    "    \"\"\"\n",
    "    Apply a output layer to x_tensor using weight and bias\n",
    "    : x_tensor: A 2-D tensor where the first dimension is batch size.\n",
    "    : num_outputs: The number of output that the new tensor should be.\n",
    "    : return: A 2-D tensor where the second dimension is num_outputs.\n",
    "    \"\"\"\n",
    "    new_dimension = x_tensor.get_shape().as_list()[1]\n",
    "    # This is very similar to the fully connected layer.\n",
    "    weights_out = tf.Variable(tf.truncated_normal([new_dimension, num_outputs], stddev = 0.05))\n",
    "    bias_out = tf.Variable(tf.zeros([num_outputs]))\n",
    "    #Implementing the output layer.\n",
    "    output_layer = tf.add(tf.matmul(x_tensor, weights_out), bias_out)\n",
    "    return output_layer\n",
    "\n",
    "\n",
    "\"\"\"\n",
    "DON'T MODIFY ANYTHING IN THIS CELL THAT IS BELOW THIS LINE\n",
    "\"\"\"\n",
    "tests.test_output(output)"
   ]
  },
  {
   "cell_type": "markdown",
   "metadata": {
    "deletable": true,
    "editable": true
   },
   "source": [
    "### Create Convolutional Model\n",
    "Implement the function `conv_net` to create a convolutional neural network model. The function takes in a batch of images, `x`, and outputs logits.  Use the layers you created above to create this model:\n",
    "\n",
    "* Apply 1, 2, or 3 Convolution and Max Pool layers\n",
    "* Apply a Flatten Layer\n",
    "* Apply 1, 2, or 3 Fully Connected Layers\n",
    "* Apply an Output Layer\n",
    "* Return the output\n",
    "* Apply [TensorFlow's Dropout](https://www.tensorflow.org/api_docs/python/tf/nn/dropout) to one or more layers in the model using `keep_prob`. "
   ]
  },
  {
   "cell_type": "code",
   "execution_count": 29,
   "metadata": {
    "collapsed": false,
    "deletable": true,
    "editable": true
   },
   "outputs": [
    {
     "name": "stdout",
     "output_type": "stream",
     "text": [
      "Neural Network Built!\n"
     ]
    }
   ],
   "source": [
    "def conv_net(x, keep_prob):\n",
    "    \"\"\"\n",
    "    Create a convolutional neural network model\n",
    "    : x: Placeholder tensor that holds image data.\n",
    "    : keep_prob: Placeholder tensor that hold dropout keep probability.\n",
    "    : return: Tensor that represents logits\n",
    "    \"\"\"\n",
    "    conv_ksize = (3,3)\n",
    "    conv_strides = (1,1)\n",
    "    pool_ksize = (3,3)\n",
    "    pool_strides = (2,2)\n",
    "    keep_prob = 0.5\n",
    "    \n",
    "    # The first three convolutional + maxpooling layers\n",
    "    neural_net = conv2d_maxpool(x, 54, (5,5), (1,1), (2,2), (1,1))\n",
    "    neural_net = conv2d_maxpool(neural_net, 64, (1,1), (2,2), (4,4), (2,2))\n",
    "    neural_net = conv2d_maxpool(neural_net, 72, (2,2), (1,1), (2,2), (1,1))\n",
    "\n",
    "    # Layer to flatten the tensor from the convolutional layers\n",
    "    neural_net = flatten(neural_net)\n",
    "    \n",
    "    # Two fully connected layers with dropout\n",
    "    neural_net = fully_conn(neural_net, 1024)\n",
    "    neural_net = tf.nn.dropout(neural_net, keep_prob)\n",
    "    neural_net = fully_conn(neural_net, 1024)\n",
    "    neural_net = tf.nn.dropout(neural_net, keep_prob)\n",
    "    neural_net = fully_conn(neural_net, 1024)\n",
    "    \n",
    "    # Layer for output\n",
    "    neural_net = output(neural_net, 10)\n",
    "    \n",
    "    # TODO: return output\n",
    "    return neural_net\n",
    "\n",
    "\n",
    "\"\"\"\n",
    "DON'T MODIFY ANYTHING IN THIS CELL THAT IS BELOW THIS LINE\n",
    "\"\"\"\n",
    "\n",
    "##############################\n",
    "## Build the Neural Network ##\n",
    "##############################\n",
    "\n",
    "# Remove previous weights, bias, inputs, etc..\n",
    "tf.reset_default_graph()\n",
    "\n",
    "# Inputs\n",
    "x = neural_net_image_input((32, 32, 3))\n",
    "y = neural_net_label_input(10)\n",
    "keep_prob = neural_net_keep_prob_input()\n",
    "\n",
    "# Model\n",
    "logits = conv_net(x, keep_prob)\n",
    "\n",
    "# Name logits Tensor, so that is can be loaded from disk after training\n",
    "logits = tf.identity(logits, name='logits')\n",
    "\n",
    "# Loss and Optimizer\n",
    "cost = tf.reduce_mean(tf.nn.softmax_cross_entropy_with_logits(logits=logits, labels=y))\n",
    "optimizer = tf.train.AdamOptimizer().minimize(cost)\n",
    "\n",
    "# Accuracy\n",
    "correct_pred = tf.equal(tf.argmax(logits, 1), tf.argmax(y, 1))\n",
    "accuracy = tf.reduce_mean(tf.cast(correct_pred, tf.float32), name='accuracy')\n",
    "\n",
    "tests.test_conv_net(conv_net)"
   ]
  },
  {
   "cell_type": "markdown",
   "metadata": {
    "deletable": true,
    "editable": true
   },
   "source": [
    "## Train the Neural Network\n",
    "### Single Optimization\n",
    "Implement the function `train_neural_network` to do a single optimization.  The optimization should use `optimizer` to optimize in `session` with a `feed_dict` of the following:\n",
    "* `x` for image input\n",
    "* `y` for labels\n",
    "* `keep_prob` for keep probability for dropout\n",
    "\n",
    "This function will be called for each batch, so `tf.global_variables_initializer()` has already been called.\n",
    "\n",
    "Note: Nothing needs to be returned. This function is only optimizing the neural network."
   ]
  },
  {
   "cell_type": "code",
   "execution_count": 30,
   "metadata": {
    "collapsed": false,
    "deletable": true,
    "editable": true
   },
   "outputs": [
    {
     "name": "stdout",
     "output_type": "stream",
     "text": [
      "Tests Passed\n"
     ]
    }
   ],
   "source": [
    "def train_neural_network(session, optimizer, keep_probability, feature_batch, label_batch):\n",
    "    \"\"\"\n",
    "    Optimize the session on a batch of images and labels\n",
    "    : session: Current TensorFlow session\n",
    "    : optimizer: TensorFlow optimizer function\n",
    "    : keep_probability: keep probability\n",
    "    : feature_batch: Batch of Numpy image data\n",
    "    : label_batch: Batch of Numpy label data\n",
    "    \"\"\"\n",
    "    # Optimizing the neural network\n",
    "    session.run(optimizer, feed_dict={x:feature_batch, y:label_batch, keep_prob:keep_probability})\n",
    "    pass\n",
    "\n",
    "\n",
    "\"\"\"\n",
    "DON'T MODIFY ANYTHING IN THIS CELL THAT IS BELOW THIS LINE\n",
    "\"\"\"\n",
    "tests.test_train_nn(train_neural_network)"
   ]
  },
  {
   "cell_type": "markdown",
   "metadata": {
    "deletable": true,
    "editable": true
   },
   "source": [
    "### Show Stats\n",
    "Implement the function `print_stats` to print loss and validation accuracy.  Use the global variables `valid_features` and `valid_labels` to calculate validation accuracy.  Use a keep probability of `1.0` to calculate the loss and validation accuracy."
   ]
  },
  {
   "cell_type": "code",
   "execution_count": 31,
   "metadata": {
    "collapsed": false,
    "deletable": true,
    "editable": true
   },
   "outputs": [],
   "source": [
    "def print_stats(session, feature_batch, label_batch, cost, accuracy):\n",
    "    \"\"\"\n",
    "    Print information about loss and validation accuracy\n",
    "    : session: Current TensorFlow session\n",
    "    : feature_batch: Batch of Numpy image data\n",
    "    : label_batch: Batch of Numpy label data\n",
    "    : cost: TensorFlow cost function\n",
    "    : accuracy: TensorFlow accuracy function\n",
    "    \"\"\"\n",
    "   # Calculating loss and validation accuracy.\n",
    "    loss = sess.run(cost, feed_dict={x: feature_batch, y: label_batch, keep_prob: 1.})\n",
    "    valid_acc = sess.run(accuracy, feed_dict={\n",
    "                x: valid_features,\n",
    "                y: valid_labels,\n",
    "                keep_prob: 1.})\n",
    "    print(\"loss\", loss, \"valid_acc\", valid_acc)\n",
    "    pass"
   ]
  },
  {
   "cell_type": "markdown",
   "metadata": {
    "deletable": true,
    "editable": true
   },
   "source": [
    "### Hyperparameters\n",
    "Tune the following parameters:\n",
    "* Set `epochs` to the number of iterations until the network stops learning or start overfitting\n",
    "* Set `batch_size` to the highest number that your machine has memory for.  Most people set them to common sizes of memory:\n",
    " * 64\n",
    " * 128\n",
    " * 256\n",
    " * ...\n",
    "* Set `keep_probability` to the probability of keeping a node using dropout"
   ]
  },
  {
   "cell_type": "code",
   "execution_count": 32,
   "metadata": {
    "collapsed": true,
    "deletable": true,
    "editable": true
   },
   "outputs": [],
   "source": [
    "# TODO: Tune Parameters\n",
    "epochs = 50\n",
    "batch_size = 128\n",
    "keep_probability = 0.5"
   ]
  },
  {
   "cell_type": "markdown",
   "metadata": {
    "deletable": true,
    "editable": true
   },
   "source": [
    "### Train on a Single CIFAR-10 Batch\n",
    "Instead of training the neural network on all the CIFAR-10 batches of data, let's use a single batch. This should save time while you iterate on the model to get a better accuracy.  Once the final validation accuracy is 50% or greater, run the model on all the data in the next section."
   ]
  },
  {
   "cell_type": "code",
   "execution_count": 33,
   "metadata": {
    "collapsed": false,
    "deletable": true,
    "editable": true
   },
   "outputs": [
    {
     "name": "stdout",
     "output_type": "stream",
     "text": [
      "Checking the Training on a Single Batch...\n",
      "Epoch  1, CIFAR-10 Batch 1:  loss 1.93561 valid_acc 0.336\n",
      "Epoch  2, CIFAR-10 Batch 1:  loss 1.64377 valid_acc 0.405\n",
      "Epoch  3, CIFAR-10 Batch 1:  loss 1.55706 valid_acc 0.4674\n",
      "Epoch  4, CIFAR-10 Batch 1:  loss 1.24047 valid_acc 0.4728\n",
      "Epoch  5, CIFAR-10 Batch 1:  loss 1.20299 valid_acc 0.4772\n",
      "Epoch  6, CIFAR-10 Batch 1:  loss 1.06019 valid_acc 0.5058\n",
      "Epoch  7, CIFAR-10 Batch 1:  loss 1.02768 valid_acc 0.5238\n",
      "Epoch  8, CIFAR-10 Batch 1:  loss 0.912111 valid_acc 0.5312\n",
      "Epoch  9, CIFAR-10 Batch 1:  loss 0.765543 valid_acc 0.5382\n",
      "Epoch 10, CIFAR-10 Batch 1:  loss 0.829548 valid_acc 0.5348\n",
      "Epoch 11, CIFAR-10 Batch 1:  loss 0.592515 valid_acc 0.5328\n",
      "Epoch 12, CIFAR-10 Batch 1:  loss 0.554978 valid_acc 0.528\n",
      "Epoch 13, CIFAR-10 Batch 1:  loss 0.543049 valid_acc 0.5558\n",
      "Epoch 14, CIFAR-10 Batch 1:  loss 0.594519 valid_acc 0.5296\n",
      "Epoch 15, CIFAR-10 Batch 1:  loss 0.392242 valid_acc 0.5302\n",
      "Epoch 16, CIFAR-10 Batch 1:  loss 0.317988 valid_acc 0.5498\n",
      "Epoch 17, CIFAR-10 Batch 1:  loss 0.351718 valid_acc 0.5442\n",
      "Epoch 18, CIFAR-10 Batch 1:  loss 0.332586 valid_acc 0.561\n",
      "Epoch 19, CIFAR-10 Batch 1:  loss 0.224193 valid_acc 0.5514\n",
      "Epoch 20, CIFAR-10 Batch 1:  loss 0.260227 valid_acc 0.549\n",
      "Epoch 21, CIFAR-10 Batch 1:  loss 0.248261 valid_acc 0.5456\n",
      "Epoch 22, CIFAR-10 Batch 1:  loss 0.272961 valid_acc 0.5332\n",
      "Epoch 23, CIFAR-10 Batch 1:  loss 0.139584 valid_acc 0.5434\n",
      "Epoch 24, CIFAR-10 Batch 1:  loss 0.306397 valid_acc 0.5446\n",
      "Epoch 25, CIFAR-10 Batch 1:  loss 0.106959 valid_acc 0.5542\n",
      "Epoch 26, CIFAR-10 Batch 1:  loss 0.115839 valid_acc 0.5598\n",
      "Epoch 27, CIFAR-10 Batch 1:  loss 0.289373 valid_acc 0.5572\n",
      "Epoch 28, CIFAR-10 Batch 1:  loss 0.221821 valid_acc 0.5306\n",
      "Epoch 29, CIFAR-10 Batch 1:  loss 0.0798222 valid_acc 0.5472\n",
      "Epoch 30, CIFAR-10 Batch 1:  loss 0.0620605 valid_acc 0.5462\n",
      "Epoch 31, CIFAR-10 Batch 1:  loss 0.0811559 valid_acc 0.5688\n",
      "Epoch 32, CIFAR-10 Batch 1:  loss 0.11593 valid_acc 0.564\n",
      "Epoch 33, CIFAR-10 Batch 1:  loss 0.1231 valid_acc 0.5536\n",
      "Epoch 34, CIFAR-10 Batch 1:  loss 0.0635886 valid_acc 0.5404\n",
      "Epoch 35, CIFAR-10 Batch 1:  loss 0.0762222 valid_acc 0.548\n",
      "Epoch 36, CIFAR-10 Batch 1:  loss 0.047542 valid_acc 0.5488\n",
      "Epoch 37, CIFAR-10 Batch 1:  loss 0.092983 valid_acc 0.543\n",
      "Epoch 38, CIFAR-10 Batch 1:  loss 0.111576 valid_acc 0.5476\n",
      "Epoch 39, CIFAR-10 Batch 1:  loss 0.0438162 valid_acc 0.555\n",
      "Epoch 40, CIFAR-10 Batch 1:  loss 0.0614842 valid_acc 0.5592\n",
      "Epoch 41, CIFAR-10 Batch 1:  loss 0.00744618 valid_acc 0.5476\n",
      "Epoch 42, CIFAR-10 Batch 1:  loss 0.032944 valid_acc 0.5554\n",
      "Epoch 43, CIFAR-10 Batch 1:  loss 0.0130953 valid_acc 0.5488\n",
      "Epoch 44, CIFAR-10 Batch 1:  loss 0.0689285 valid_acc 0.5554\n",
      "Epoch 45, CIFAR-10 Batch 1:  loss 0.0221064 valid_acc 0.5644\n",
      "Epoch 46, CIFAR-10 Batch 1:  loss 0.0649968 valid_acc 0.5584\n",
      "Epoch 47, CIFAR-10 Batch 1:  loss 0.163828 valid_acc 0.562\n",
      "Epoch 48, CIFAR-10 Batch 1:  loss 0.0545022 valid_acc 0.5558\n",
      "Epoch 49, CIFAR-10 Batch 1:  loss 0.0372873 valid_acc 0.5684\n",
      "Epoch 50, CIFAR-10 Batch 1:  loss 0.11681 valid_acc 0.5594\n"
     ]
    }
   ],
   "source": [
    "\"\"\"\n",
    "DON'T MODIFY ANYTHING IN THIS CELL\n",
    "\"\"\"\n",
    "print('Checking the Training on a Single Batch...')\n",
    "with tf.Session() as sess:\n",
    "    # Initializing the variables\n",
    "    sess.run(tf.global_variables_initializer())\n",
    "    \n",
    "    # Training cycle\n",
    "    for epoch in range(epochs):\n",
    "        batch_i = 1\n",
    "        for batch_features, batch_labels in helper.load_preprocess_training_batch(batch_i, batch_size):\n",
    "            train_neural_network(sess, optimizer, keep_probability, batch_features, batch_labels)\n",
    "        print('Epoch {:>2}, CIFAR-10 Batch {}:  '.format(epoch + 1, batch_i), end='')\n",
    "        print_stats(sess, batch_features, batch_labels, cost, accuracy)"
   ]
  },
  {
   "cell_type": "markdown",
   "metadata": {
    "deletable": true,
    "editable": true
   },
   "source": [
    "### Fully Train the Model\n",
    "Now that you got a good accuracy with a single CIFAR-10 batch, try it with all five batches."
   ]
  },
  {
   "cell_type": "code",
   "execution_count": 34,
   "metadata": {
    "collapsed": false,
    "deletable": true,
    "editable": true
   },
   "outputs": [
    {
     "name": "stdout",
     "output_type": "stream",
     "text": [
      "Training...\n",
      "Epoch  1, CIFAR-10 Batch 1:  loss 2.10609 valid_acc 0.2636\n",
      "Epoch  1, CIFAR-10 Batch 2:  loss 1.56023 valid_acc 0.3704\n",
      "Epoch  1, CIFAR-10 Batch 3:  loss 1.35618 valid_acc 0.4266\n",
      "Epoch  1, CIFAR-10 Batch 4:  loss 1.45245 valid_acc 0.4734\n",
      "Epoch  1, CIFAR-10 Batch 5:  loss 1.41055 valid_acc 0.5062\n",
      "Epoch  2, CIFAR-10 Batch 1:  loss 1.38925 valid_acc 0.5022\n",
      "Epoch  2, CIFAR-10 Batch 2:  loss 1.26053 valid_acc 0.4942\n",
      "Epoch  2, CIFAR-10 Batch 3:  loss 1.18441 valid_acc 0.518\n",
      "Epoch  2, CIFAR-10 Batch 4:  loss 1.13695 valid_acc 0.5404\n",
      "Epoch  2, CIFAR-10 Batch 5:  loss 1.1123 valid_acc 0.5618\n",
      "Epoch  3, CIFAR-10 Batch 1:  loss 1.02868 valid_acc 0.5586\n",
      "Epoch  3, CIFAR-10 Batch 2:  loss 1.06088 valid_acc 0.5584\n",
      "Epoch  3, CIFAR-10 Batch 3:  loss 0.986721 valid_acc 0.5698\n",
      "Epoch  3, CIFAR-10 Batch 4:  loss 0.897337 valid_acc 0.5954\n",
      "Epoch  3, CIFAR-10 Batch 5:  loss 1.09542 valid_acc 0.6058\n",
      "Epoch  4, CIFAR-10 Batch 1:  loss 0.958356 valid_acc 0.6088\n",
      "Epoch  4, CIFAR-10 Batch 2:  loss 0.878226 valid_acc 0.5922\n",
      "Epoch  4, CIFAR-10 Batch 3:  loss 0.744258 valid_acc 0.6084\n",
      "Epoch  4, CIFAR-10 Batch 4:  loss 0.76187 valid_acc 0.622\n",
      "Epoch  4, CIFAR-10 Batch 5:  loss 0.810958 valid_acc 0.6104\n",
      "Epoch  5, CIFAR-10 Batch 1:  loss 0.735857 valid_acc 0.6208\n",
      "Epoch  5, CIFAR-10 Batch 2:  loss 0.657547 valid_acc 0.599\n",
      "Epoch  5, CIFAR-10 Batch 3:  loss 0.66212 valid_acc 0.6414\n",
      "Epoch  5, CIFAR-10 Batch 4:  loss 0.698913 valid_acc 0.6378\n",
      "Epoch  5, CIFAR-10 Batch 5:  loss 0.647161 valid_acc 0.6324\n",
      "Epoch  6, CIFAR-10 Batch 1:  loss 0.874341 valid_acc 0.6516\n",
      "Epoch  6, CIFAR-10 Batch 2:  loss 0.728908 valid_acc 0.6466\n",
      "Epoch  6, CIFAR-10 Batch 3:  loss 0.501654 valid_acc 0.6558\n",
      "Epoch  6, CIFAR-10 Batch 4:  loss 0.560717 valid_acc 0.6524\n",
      "Epoch  6, CIFAR-10 Batch 5:  loss 0.605765 valid_acc 0.635\n",
      "Epoch  7, CIFAR-10 Batch 1:  loss 0.756969 valid_acc 0.6468\n",
      "Epoch  7, CIFAR-10 Batch 2:  loss 0.380843 valid_acc 0.667\n",
      "Epoch  7, CIFAR-10 Batch 3:  loss 0.434191 valid_acc 0.6656\n",
      "Epoch  7, CIFAR-10 Batch 4:  loss 0.583821 valid_acc 0.665\n",
      "Epoch  7, CIFAR-10 Batch 5:  loss 0.585231 valid_acc 0.6406\n",
      "Epoch  8, CIFAR-10 Batch 1:  loss 0.585346 valid_acc 0.6516\n",
      "Epoch  8, CIFAR-10 Batch 2:  loss 0.518784 valid_acc 0.6678\n",
      "Epoch  8, CIFAR-10 Batch 3:  loss 0.309192 valid_acc 0.676\n",
      "Epoch  8, CIFAR-10 Batch 4:  loss 0.473889 valid_acc 0.6604\n",
      "Epoch  8, CIFAR-10 Batch 5:  loss 0.456809 valid_acc 0.6478\n",
      "Epoch  9, CIFAR-10 Batch 1:  loss 0.527244 valid_acc 0.6606\n",
      "Epoch  9, CIFAR-10 Batch 2:  loss 0.485309 valid_acc 0.6764\n",
      "Epoch  9, CIFAR-10 Batch 3:  loss 0.310247 valid_acc 0.676\n",
      "Epoch  9, CIFAR-10 Batch 4:  loss 0.347347 valid_acc 0.6514\n",
      "Epoch  9, CIFAR-10 Batch 5:  loss 0.407218 valid_acc 0.667\n",
      "Epoch 10, CIFAR-10 Batch 1:  loss 0.464583 valid_acc 0.6584\n",
      "Epoch 10, CIFAR-10 Batch 2:  loss 0.473091 valid_acc 0.6768\n",
      "Epoch 10, CIFAR-10 Batch 3:  loss 0.352605 valid_acc 0.6744\n",
      "Epoch 10, CIFAR-10 Batch 4:  loss 0.302399 valid_acc 0.6362\n",
      "Epoch 10, CIFAR-10 Batch 5:  loss 0.318911 valid_acc 0.6706\n",
      "Epoch 11, CIFAR-10 Batch 1:  loss 0.497068 valid_acc 0.6688\n",
      "Epoch 11, CIFAR-10 Batch 2:  loss 0.374369 valid_acc 0.671\n",
      "Epoch 11, CIFAR-10 Batch 3:  loss 0.240084 valid_acc 0.6966\n",
      "Epoch 11, CIFAR-10 Batch 4:  loss 0.234618 valid_acc 0.6634\n",
      "Epoch 11, CIFAR-10 Batch 5:  loss 0.356379 valid_acc 0.6692\n",
      "Epoch 12, CIFAR-10 Batch 1:  loss 0.39165 valid_acc 0.6808\n",
      "Epoch 12, CIFAR-10 Batch 2:  loss 0.346453 valid_acc 0.6674\n",
      "Epoch 12, CIFAR-10 Batch 3:  loss 0.373404 valid_acc 0.6732\n",
      "Epoch 12, CIFAR-10 Batch 4:  loss 0.275338 valid_acc 0.6714\n",
      "Epoch 12, CIFAR-10 Batch 5:  loss 0.32322 valid_acc 0.674\n",
      "Epoch 13, CIFAR-10 Batch 1:  loss 0.373303 valid_acc 0.6752\n",
      "Epoch 13, CIFAR-10 Batch 2:  loss 0.230318 valid_acc 0.6778\n",
      "Epoch 13, CIFAR-10 Batch 3:  loss 0.211747 valid_acc 0.6712\n",
      "Epoch 13, CIFAR-10 Batch 4:  loss 0.302657 valid_acc 0.6868\n",
      "Epoch 13, CIFAR-10 Batch 5:  loss 0.324223 valid_acc 0.6726\n",
      "Epoch 14, CIFAR-10 Batch 1:  loss 0.180115 valid_acc 0.6858\n",
      "Epoch 14, CIFAR-10 Batch 2:  loss 0.306533 valid_acc 0.6798\n",
      "Epoch 14, CIFAR-10 Batch 3:  loss 0.185794 valid_acc 0.682\n",
      "Epoch 14, CIFAR-10 Batch 4:  loss 0.423017 valid_acc 0.6842\n",
      "Epoch 14, CIFAR-10 Batch 5:  loss 0.161938 valid_acc 0.6882\n",
      "Epoch 15, CIFAR-10 Batch 1:  loss 0.212843 valid_acc 0.6826\n",
      "Epoch 15, CIFAR-10 Batch 2:  loss 0.315322 valid_acc 0.6704\n",
      "Epoch 15, CIFAR-10 Batch 3:  loss 0.339228 valid_acc 0.6588\n",
      "Epoch 15, CIFAR-10 Batch 4:  loss 0.462788 valid_acc 0.6772\n",
      "Epoch 15, CIFAR-10 Batch 5:  loss 0.266121 valid_acc 0.6906\n",
      "Epoch 16, CIFAR-10 Batch 1:  loss 0.208991 valid_acc 0.687\n",
      "Epoch 16, CIFAR-10 Batch 2:  loss 0.261129 valid_acc 0.6868\n",
      "Epoch 16, CIFAR-10 Batch 3:  loss 0.181117 valid_acc 0.6734\n",
      "Epoch 16, CIFAR-10 Batch 4:  loss 0.268014 valid_acc 0.6792\n",
      "Epoch 16, CIFAR-10 Batch 5:  loss 0.223748 valid_acc 0.6816\n",
      "Epoch 17, CIFAR-10 Batch 1:  loss 0.134824 valid_acc 0.6774\n",
      "Epoch 17, CIFAR-10 Batch 2:  loss 0.36262 valid_acc 0.6902\n",
      "Epoch 17, CIFAR-10 Batch 3:  loss 0.243608 valid_acc 0.6772\n",
      "Epoch 17, CIFAR-10 Batch 4:  loss 0.286956 valid_acc 0.6712\n",
      "Epoch 17, CIFAR-10 Batch 5:  loss 0.205319 valid_acc 0.6784\n",
      "Epoch 18, CIFAR-10 Batch 1:  loss 0.0827491 valid_acc 0.6732\n",
      "Epoch 18, CIFAR-10 Batch 2:  loss 0.294185 valid_acc 0.6712\n",
      "Epoch 18, CIFAR-10 Batch 3:  loss 0.116852 valid_acc 0.668\n",
      "Epoch 18, CIFAR-10 Batch 4:  loss 0.343584 valid_acc 0.683\n",
      "Epoch 18, CIFAR-10 Batch 5:  loss 0.192391 valid_acc 0.6576\n",
      "Epoch 19, CIFAR-10 Batch 1:  loss 0.174124 valid_acc 0.6704\n",
      "Epoch 19, CIFAR-10 Batch 2:  loss 0.200666 valid_acc 0.6746\n",
      "Epoch 19, CIFAR-10 Batch 3:  loss 0.134212 valid_acc 0.6806\n",
      "Epoch 19, CIFAR-10 Batch 4:  loss 0.235722 valid_acc 0.6822\n",
      "Epoch 19, CIFAR-10 Batch 5:  loss 0.1578 valid_acc 0.6812\n",
      "Epoch 20, CIFAR-10 Batch 1:  loss 0.160385 valid_acc 0.6796\n",
      "Epoch 20, CIFAR-10 Batch 2:  loss 0.285749 valid_acc 0.674\n",
      "Epoch 20, CIFAR-10 Batch 3:  loss 0.166395 valid_acc 0.6774\n",
      "Epoch 20, CIFAR-10 Batch 4:  loss 0.277458 valid_acc 0.6756\n",
      "Epoch 20, CIFAR-10 Batch 5:  loss 0.166926 valid_acc 0.6728\n",
      "Epoch 21, CIFAR-10 Batch 1:  loss 0.158494 valid_acc 0.6792\n",
      "Epoch 21, CIFAR-10 Batch 2:  loss 0.220626 valid_acc 0.6852\n",
      "Epoch 21, CIFAR-10 Batch 3:  loss 0.163322 valid_acc 0.6866\n",
      "Epoch 21, CIFAR-10 Batch 4:  loss 0.205072 valid_acc 0.6732\n",
      "Epoch 21, CIFAR-10 Batch 5:  loss 0.252384 valid_acc 0.6908\n",
      "Epoch 22, CIFAR-10 Batch 1:  loss 0.07133 valid_acc 0.687\n",
      "Epoch 22, CIFAR-10 Batch 2:  loss 0.154813 valid_acc 0.6788\n",
      "Epoch 22, CIFAR-10 Batch 3:  loss 0.0803145 valid_acc 0.672\n",
      "Epoch 22, CIFAR-10 Batch 4:  loss 0.130264 valid_acc 0.679\n",
      "Epoch 22, CIFAR-10 Batch 5:  loss 0.179245 valid_acc 0.6862\n",
      "Epoch 23, CIFAR-10 Batch 1:  loss 0.114328 valid_acc 0.6834\n",
      "Epoch 23, CIFAR-10 Batch 2:  loss 0.189714 valid_acc 0.6838\n",
      "Epoch 23, CIFAR-10 Batch 3:  loss 0.179593 valid_acc 0.6766\n",
      "Epoch 23, CIFAR-10 Batch 4:  loss 0.277996 valid_acc 0.6808\n",
      "Epoch 23, CIFAR-10 Batch 5:  loss 0.129247 valid_acc 0.6792\n",
      "Epoch 24, CIFAR-10 Batch 1:  loss 0.135039 valid_acc 0.6766\n",
      "Epoch 24, CIFAR-10 Batch 2:  loss 0.166746 valid_acc 0.6708\n",
      "Epoch 24, CIFAR-10 Batch 3:  loss 0.109088 valid_acc 0.6738\n",
      "Epoch 24, CIFAR-10 Batch 4:  loss 0.150048 valid_acc 0.6864\n",
      "Epoch 24, CIFAR-10 Batch 5:  loss 0.218218 valid_acc 0.6838\n",
      "Epoch 25, CIFAR-10 Batch 1:  loss 0.091246 valid_acc 0.6806\n",
      "Epoch 25, CIFAR-10 Batch 2:  loss 0.145014 valid_acc 0.66\n",
      "Epoch 25, CIFAR-10 Batch 3:  loss 0.0546501 valid_acc 0.6834\n",
      "Epoch 25, CIFAR-10 Batch 4:  loss 0.229344 valid_acc 0.6868\n",
      "Epoch 25, CIFAR-10 Batch 5:  loss 0.0908482 valid_acc 0.68\n",
      "Epoch 26, CIFAR-10 Batch 1:  loss 0.0770443 valid_acc 0.6792\n",
      "Epoch 26, CIFAR-10 Batch 2:  loss 0.25564 valid_acc 0.6762\n",
      "Epoch 26, CIFAR-10 Batch 3:  loss 0.177031 valid_acc 0.684\n",
      "Epoch 26, CIFAR-10 Batch 4:  loss 0.110574 valid_acc 0.6766\n",
      "Epoch 26, CIFAR-10 Batch 5:  loss 0.167744 valid_acc 0.6842\n",
      "Epoch 27, CIFAR-10 Batch 1:  loss 0.103573 valid_acc 0.6852\n",
      "Epoch 27, CIFAR-10 Batch 2:  loss 0.0906368 valid_acc 0.6724\n",
      "Epoch 27, CIFAR-10 Batch 3:  loss 0.110292 valid_acc 0.6866\n",
      "Epoch 27, CIFAR-10 Batch 4:  loss 0.2639 valid_acc 0.6772\n",
      "Epoch 27, CIFAR-10 Batch 5:  loss 0.116308 valid_acc 0.6898\n",
      "Epoch 28, CIFAR-10 Batch 1:  loss 0.0704514 valid_acc 0.6922\n",
      "Epoch 28, CIFAR-10 Batch 2:  loss 0.188693 valid_acc 0.675\n",
      "Epoch 28, CIFAR-10 Batch 3:  loss 0.110085 valid_acc 0.6842\n",
      "Epoch 28, CIFAR-10 Batch 4:  loss 0.145429 valid_acc 0.6744\n",
      "Epoch 28, CIFAR-10 Batch 5:  loss 0.282864 valid_acc 0.6766\n",
      "Epoch 29, CIFAR-10 Batch 1:  loss 0.170984 valid_acc 0.6804\n",
      "Epoch 29, CIFAR-10 Batch 2:  loss 0.1182 valid_acc 0.6798\n",
      "Epoch 29, CIFAR-10 Batch 3:  loss 0.046088 valid_acc 0.6928\n",
      "Epoch 29, CIFAR-10 Batch 4:  loss 0.202835 valid_acc 0.6672\n",
      "Epoch 29, CIFAR-10 Batch 5:  loss 0.11699 valid_acc 0.6766\n",
      "Epoch 30, CIFAR-10 Batch 1:  loss 0.133366 valid_acc 0.6692\n",
      "Epoch 30, CIFAR-10 Batch 2:  loss 0.123482 valid_acc 0.6936\n",
      "Epoch 30, CIFAR-10 Batch 3:  loss 0.0873435 valid_acc 0.6632\n",
      "Epoch 30, CIFAR-10 Batch 4:  loss 0.119593 valid_acc 0.6662\n",
      "Epoch 30, CIFAR-10 Batch 5:  loss 0.142927 valid_acc 0.6902\n",
      "Epoch 31, CIFAR-10 Batch 1:  loss 0.100913 valid_acc 0.6678\n",
      "Epoch 31, CIFAR-10 Batch 2:  loss 0.0677921 valid_acc 0.6884\n",
      "Epoch 31, CIFAR-10 Batch 3:  loss 0.0821261 valid_acc 0.6892\n",
      "Epoch 31, CIFAR-10 Batch 4:  loss 0.269369 valid_acc 0.6556\n",
      "Epoch 31, CIFAR-10 Batch 5:  loss 0.161605 valid_acc 0.6748\n",
      "Epoch 32, CIFAR-10 Batch 1:  loss 0.217836 valid_acc 0.6872\n",
      "Epoch 32, CIFAR-10 Batch 2:  loss 0.128421 valid_acc 0.672\n",
      "Epoch 32, CIFAR-10 Batch 3:  loss 0.217259 valid_acc 0.6716\n",
      "Epoch 32, CIFAR-10 Batch 4:  loss 0.0615538 valid_acc 0.6556\n",
      "Epoch 32, CIFAR-10 Batch 5:  loss 0.115313 valid_acc 0.6854\n",
      "Epoch 33, CIFAR-10 Batch 1:  loss 0.214959 valid_acc 0.6804\n",
      "Epoch 33, CIFAR-10 Batch 2:  loss 0.162075 valid_acc 0.6774\n",
      "Epoch 33, CIFAR-10 Batch 3:  loss 0.0227941 valid_acc 0.6778\n",
      "Epoch 33, CIFAR-10 Batch 4:  loss 0.153679 valid_acc 0.682\n",
      "Epoch 33, CIFAR-10 Batch 5:  loss 0.180195 valid_acc 0.6834\n",
      "Epoch 34, CIFAR-10 Batch 1:  loss 0.118685 valid_acc 0.6754\n",
      "Epoch 34, CIFAR-10 Batch 2:  loss 0.125231 valid_acc 0.6606\n",
      "Epoch 34, CIFAR-10 Batch 3:  loss 0.106835 valid_acc 0.6728\n",
      "Epoch 34, CIFAR-10 Batch 4:  loss 0.0853148 valid_acc 0.6798\n",
      "Epoch 34, CIFAR-10 Batch 5:  loss 0.230302 valid_acc 0.6976\n",
      "Epoch 35, CIFAR-10 Batch 1:  loss 0.206639 valid_acc 0.6806\n",
      "Epoch 35, CIFAR-10 Batch 2:  loss 0.179546 valid_acc 0.6874\n",
      "Epoch 35, CIFAR-10 Batch 3:  loss 0.0795709 valid_acc 0.676\n",
      "Epoch 35, CIFAR-10 Batch 4:  loss 0.148775 valid_acc 0.6878\n",
      "Epoch 35, CIFAR-10 Batch 5:  loss 0.14969 valid_acc 0.6908\n",
      "Epoch 36, CIFAR-10 Batch 1:  loss 0.147585 valid_acc 0.6664\n",
      "Epoch 36, CIFAR-10 Batch 2:  loss 0.174331 valid_acc 0.6732\n",
      "Epoch 36, CIFAR-10 Batch 3:  loss 0.0774888 valid_acc 0.6866\n",
      "Epoch 36, CIFAR-10 Batch 4:  loss 0.148356 valid_acc 0.6732\n",
      "Epoch 36, CIFAR-10 Batch 5:  loss 0.057259 valid_acc 0.6802\n",
      "Epoch 37, CIFAR-10 Batch 1:  loss 0.219466 valid_acc 0.6802\n",
      "Epoch 37, CIFAR-10 Batch 2:  loss 0.0617371 valid_acc 0.6794\n",
      "Epoch 37, CIFAR-10 Batch 3:  loss 0.120667 valid_acc 0.6788\n",
      "Epoch 37, CIFAR-10 Batch 4:  loss 0.118197 valid_acc 0.6814\n",
      "Epoch 37, CIFAR-10 Batch 5:  loss 0.117916 valid_acc 0.684\n",
      "Epoch 38, CIFAR-10 Batch 1:  loss 0.0674419 valid_acc 0.6834\n",
      "Epoch 38, CIFAR-10 Batch 2:  loss 0.0792074 valid_acc 0.6918\n",
      "Epoch 38, CIFAR-10 Batch 3:  loss 0.0681768 valid_acc 0.6842\n",
      "Epoch 38, CIFAR-10 Batch 4:  loss 0.0311324 valid_acc 0.6746\n",
      "Epoch 38, CIFAR-10 Batch 5:  loss 0.0830958 valid_acc 0.6834\n",
      "Epoch 39, CIFAR-10 Batch 1:  loss 0.113027 valid_acc 0.6716\n",
      "Epoch 39, CIFAR-10 Batch 2:  loss 0.201658 valid_acc 0.6776\n",
      "Epoch 39, CIFAR-10 Batch 3:  loss 0.153913 valid_acc 0.6796\n",
      "Epoch 39, CIFAR-10 Batch 4:  loss 0.105828 valid_acc 0.6648\n",
      "Epoch 39, CIFAR-10 Batch 5:  loss 0.170638 valid_acc 0.6832\n",
      "Epoch 40, CIFAR-10 Batch 1:  loss 0.0339878 valid_acc 0.6772\n",
      "Epoch 40, CIFAR-10 Batch 2:  loss 0.107896 valid_acc 0.6836\n",
      "Epoch 40, CIFAR-10 Batch 3:  loss 0.0482645 valid_acc 0.6912\n",
      "Epoch 40, CIFAR-10 Batch 4:  loss 0.133267 valid_acc 0.6724\n",
      "Epoch 40, CIFAR-10 Batch 5:  loss 0.122928 valid_acc 0.6802\n",
      "Epoch 41, CIFAR-10 Batch 1:  loss 0.0626127 valid_acc 0.672\n",
      "Epoch 41, CIFAR-10 Batch 2:  loss 0.0365189 valid_acc 0.6906\n",
      "Epoch 41, CIFAR-10 Batch 3:  loss 0.0799866 valid_acc 0.676\n",
      "Epoch 41, CIFAR-10 Batch 4:  loss 0.135901 valid_acc 0.6768\n",
      "Epoch 41, CIFAR-10 Batch 5:  loss 0.111556 valid_acc 0.6786\n",
      "Epoch 42, CIFAR-10 Batch 1:  loss 0.0857583 valid_acc 0.6792\n",
      "Epoch 42, CIFAR-10 Batch 2:  loss 0.156192 valid_acc 0.674\n",
      "Epoch 42, CIFAR-10 Batch 3:  loss 0.0522628 valid_acc 0.6794\n",
      "Epoch 42, CIFAR-10 Batch 4:  loss 0.110376 valid_acc 0.6898\n",
      "Epoch 42, CIFAR-10 Batch 5:  loss 0.0759207 valid_acc 0.6918\n",
      "Epoch 43, CIFAR-10 Batch 1:  loss 0.106286 valid_acc 0.6698\n",
      "Epoch 43, CIFAR-10 Batch 2:  loss 0.0956864 valid_acc 0.6932\n",
      "Epoch 43, CIFAR-10 Batch 3:  loss 0.0325439 valid_acc 0.6832\n",
      "Epoch 43, CIFAR-10 Batch 4:  loss 0.184827 valid_acc 0.6792\n",
      "Epoch 43, CIFAR-10 Batch 5:  loss 0.0694894 valid_acc 0.6796\n",
      "Epoch 44, CIFAR-10 Batch 1:  loss 0.0454125 valid_acc 0.678\n",
      "Epoch 44, CIFAR-10 Batch 2:  loss 0.108701 valid_acc 0.6898\n",
      "Epoch 44, CIFAR-10 Batch 3:  loss 0.0607294 valid_acc 0.6854\n",
      "Epoch 44, CIFAR-10 Batch 4:  loss 0.032688 valid_acc 0.6788\n",
      "Epoch 44, CIFAR-10 Batch 5:  loss 0.223132 valid_acc 0.6866\n",
      "Epoch 45, CIFAR-10 Batch 1:  loss 0.120387 valid_acc 0.673\n",
      "Epoch 45, CIFAR-10 Batch 2:  loss 0.178758 valid_acc 0.6854\n",
      "Epoch 45, CIFAR-10 Batch 3:  loss 0.143792 valid_acc 0.6912\n",
      "Epoch 45, CIFAR-10 Batch 4:  loss 0.175753 valid_acc 0.6924\n",
      "Epoch 45, CIFAR-10 Batch 5:  loss 0.0394614 valid_acc 0.683\n",
      "Epoch 46, CIFAR-10 Batch 1:  loss 0.118559 valid_acc 0.6724\n",
      "Epoch 46, CIFAR-10 Batch 2:  loss 0.104407 valid_acc 0.6926\n",
      "Epoch 46, CIFAR-10 Batch 3:  loss 0.0160181 valid_acc 0.6842\n",
      "Epoch 46, CIFAR-10 Batch 4:  loss 0.0479183 valid_acc 0.687\n",
      "Epoch 46, CIFAR-10 Batch 5:  loss 0.0295727 valid_acc 0.6912\n",
      "Epoch 47, CIFAR-10 Batch 1:  loss 0.0410355 valid_acc 0.6646\n",
      "Epoch 47, CIFAR-10 Batch 2:  loss 0.0538636 valid_acc 0.6794\n",
      "Epoch 47, CIFAR-10 Batch 3:  loss 0.0769505 valid_acc 0.675\n",
      "Epoch 47, CIFAR-10 Batch 4:  loss 0.0439713 valid_acc 0.688\n",
      "Epoch 47, CIFAR-10 Batch 5:  loss 0.0698251 valid_acc 0.6828\n",
      "Epoch 48, CIFAR-10 Batch 1:  loss 0.0790145 valid_acc 0.6736\n",
      "Epoch 48, CIFAR-10 Batch 2:  loss 0.0283679 valid_acc 0.6918\n",
      "Epoch 48, CIFAR-10 Batch 3:  loss 0.116912 valid_acc 0.6808\n",
      "Epoch 48, CIFAR-10 Batch 4:  loss 0.141154 valid_acc 0.6788\n",
      "Epoch 48, CIFAR-10 Batch 5:  loss 0.0501524 valid_acc 0.6826\n",
      "Epoch 49, CIFAR-10 Batch 1:  loss 0.171436 valid_acc 0.6702\n",
      "Epoch 49, CIFAR-10 Batch 2:  loss 0.135384 valid_acc 0.6818\n",
      "Epoch 49, CIFAR-10 Batch 3:  loss 0.0894319 valid_acc 0.6816\n",
      "Epoch 49, CIFAR-10 Batch 4:  loss 0.117273 valid_acc 0.6848\n",
      "Epoch 49, CIFAR-10 Batch 5:  loss 0.0498236 valid_acc 0.6884\n",
      "Epoch 50, CIFAR-10 Batch 1:  loss 0.0793377 valid_acc 0.6924\n",
      "Epoch 50, CIFAR-10 Batch 2:  loss 0.110816 valid_acc 0.6906\n",
      "Epoch 50, CIFAR-10 Batch 3:  loss 0.0599469 valid_acc 0.6786\n",
      "Epoch 50, CIFAR-10 Batch 4:  loss 0.0341409 valid_acc 0.686\n",
      "Epoch 50, CIFAR-10 Batch 5:  loss 0.069043 valid_acc 0.6842\n"
     ]
    },
    {
     "ename": "ResourceExhaustedError",
     "evalue": "image_classification.data-00000-of-00001.tempstate11114255216039161207\n\t [[Node: save/SaveV2 = SaveV2[dtypes=[DT_FLOAT, DT_FLOAT, DT_FLOAT, DT_FLOAT, DT_FLOAT, DT_FLOAT, DT_FLOAT, DT_FLOAT, DT_FLOAT, DT_FLOAT, DT_FLOAT, DT_FLOAT, DT_FLOAT, DT_FLOAT, DT_FLOAT, DT_FLOAT, DT_FLOAT, DT_FLOAT, DT_FLOAT, DT_FLOAT, DT_FLOAT, DT_FLOAT, DT_FLOAT, DT_FLOAT, DT_FLOAT, DT_FLOAT, DT_FLOAT, DT_FLOAT, DT_FLOAT, DT_FLOAT, DT_FLOAT, DT_FLOAT, DT_FLOAT, DT_FLOAT, DT_FLOAT, DT_FLOAT, DT_FLOAT, DT_FLOAT, DT_FLOAT, DT_FLOAT, DT_FLOAT, DT_FLOAT, DT_FLOAT, DT_FLOAT, DT_FLOAT, DT_FLOAT, DT_FLOAT, DT_FLOAT, DT_FLOAT, DT_FLOAT, DT_FLOAT, DT_FLOAT, DT_FLOAT, DT_FLOAT, DT_FLOAT, DT_FLOAT, DT_FLOAT, DT_FLOAT], _device=\"/job:localhost/replica:0/task:0/cpu:0\"](_recv_save/Const_0, save/SaveV2/tensor_names, save/SaveV2/shape_and_slices, Variable/_27, Variable/Adam/_29, Variable/Adam_1/_31, Variable_1/_33, Variable_1/Adam/_35, Variable_1/Adam_1/_37, Variable_10/_39, Variable_10/Adam/_41, Variable_10/Adam_1/_43, Variable_11/_45, Variable_11/Adam/_47, Variable_11/Adam_1/_49, Variable_12/_51, Variable_12/Adam/_53, Variable_12/Adam_1/_55, Variable_13/_57, Variable_13/Adam/_59, Variable_13/Adam_1/_61, Variable_14/_63, Variable_15/_65, Variable_16/_67, Variable_17/_69, Variable_18/_71, Variable_19/_73, Variable_2/_75, Variable_2/Adam/_77, Variable_2/Adam_1/_79, Variable_20/_81, Variable_21/_83, Variable_22/_85, Variable_23/_87, Variable_24/_89, Variable_25/_91, Variable_26/_93, Variable_27/_95, Variable_3/_97, Variable_3/Adam/_99, Variable_3/Adam_1/_101, Variable_4/_103, Variable_4/Adam/_105, Variable_4/Adam_1/_107, Variable_5/_109, Variable_5/Adam/_111, Variable_5/Adam_1/_113, Variable_6/_115, Variable_6/Adam/_117, Variable_6/Adam_1/_119, Variable_7/_121, Variable_7/Adam/_123, Variable_7/Adam_1/_125, Variable_8/_127, Variable_8/Adam/_129, Variable_8/Adam_1/_131, Variable_9/_133, Variable_9/Adam/_135, Variable_9/Adam_1/_137, beta1_power/_139, beta2_power/_141)]]\n\nCaused by op 'save/SaveV2', defined at:\n  File \"/home/carnd/anaconda3/envs/dl/lib/python3.5/runpy.py\", line 184, in _run_module_as_main\n    \"__main__\", mod_spec)\n  File \"/home/carnd/anaconda3/envs/dl/lib/python3.5/runpy.py\", line 85, in _run_code\n    exec(code, run_globals)\n  File \"/home/carnd/anaconda3/envs/dl/lib/python3.5/site-packages/ipykernel/__main__.py\", line 3, in <module>\n    app.launch_new_instance()\n  File \"/home/carnd/anaconda3/envs/dl/lib/python3.5/site-packages/traitlets/config/application.py\", line 658, in launch_instance\n    app.start()\n  File \"/home/carnd/anaconda3/envs/dl/lib/python3.5/site-packages/ipykernel/kernelapp.py\", line 474, in start\n    ioloop.IOLoop.instance().start()\n  File \"/home/carnd/anaconda3/envs/dl/lib/python3.5/site-packages/zmq/eventloop/ioloop.py\", line 177, in start\n    super(ZMQIOLoop, self).start()\n  File \"/home/carnd/anaconda3/envs/dl/lib/python3.5/site-packages/tornado/ioloop.py\", line 887, in start\n    handler_func(fd_obj, events)\n  File \"/home/carnd/anaconda3/envs/dl/lib/python3.5/site-packages/tornado/stack_context.py\", line 275, in null_wrapper\n    return fn(*args, **kwargs)\n  File \"/home/carnd/anaconda3/envs/dl/lib/python3.5/site-packages/zmq/eventloop/zmqstream.py\", line 440, in _handle_events\n    self._handle_recv()\n  File \"/home/carnd/anaconda3/envs/dl/lib/python3.5/site-packages/zmq/eventloop/zmqstream.py\", line 472, in _handle_recv\n    self._run_callback(callback, msg)\n  File \"/home/carnd/anaconda3/envs/dl/lib/python3.5/site-packages/zmq/eventloop/zmqstream.py\", line 414, in _run_callback\n    callback(*args, **kwargs)\n  File \"/home/carnd/anaconda3/envs/dl/lib/python3.5/site-packages/tornado/stack_context.py\", line 275, in null_wrapper\n    return fn(*args, **kwargs)\n  File \"/home/carnd/anaconda3/envs/dl/lib/python3.5/site-packages/ipykernel/kernelbase.py\", line 276, in dispatcher\n    return self.dispatch_shell(stream, msg)\n  File \"/home/carnd/anaconda3/envs/dl/lib/python3.5/site-packages/ipykernel/kernelbase.py\", line 228, in dispatch_shell\n    handler(stream, idents, msg)\n  File \"/home/carnd/anaconda3/envs/dl/lib/python3.5/site-packages/ipykernel/kernelbase.py\", line 390, in execute_request\n    user_expressions, allow_stdin)\n  File \"/home/carnd/anaconda3/envs/dl/lib/python3.5/site-packages/ipykernel/ipkernel.py\", line 196, in do_execute\n    res = shell.run_cell(code, store_history=store_history, silent=silent)\n  File \"/home/carnd/anaconda3/envs/dl/lib/python3.5/site-packages/ipykernel/zmqshell.py\", line 501, in run_cell\n    return super(ZMQInteractiveShell, self).run_cell(*args, **kwargs)\n  File \"/home/carnd/anaconda3/envs/dl/lib/python3.5/site-packages/IPython/core/interactiveshell.py\", line 2717, in run_cell\n    interactivity=interactivity, compiler=compiler, result=result)\n  File \"/home/carnd/anaconda3/envs/dl/lib/python3.5/site-packages/IPython/core/interactiveshell.py\", line 2821, in run_ast_nodes\n    if self.run_code(code, result):\n  File \"/home/carnd/anaconda3/envs/dl/lib/python3.5/site-packages/IPython/core/interactiveshell.py\", line 2881, in run_code\n    exec(code_obj, self.user_global_ns, self.user_ns)\n  File \"<ipython-input-34-9df3032ebe9d>\", line 22, in <module>\n    saver = tf.train.Saver()\n  File \"/home/carnd/anaconda3/envs/dl/lib/python3.5/site-packages/tensorflow/python/training/saver.py\", line 1051, in __init__\n    self.build()\n  File \"/home/carnd/anaconda3/envs/dl/lib/python3.5/site-packages/tensorflow/python/training/saver.py\", line 1081, in build\n    restore_sequentially=self._restore_sequentially)\n  File \"/home/carnd/anaconda3/envs/dl/lib/python3.5/site-packages/tensorflow/python/training/saver.py\", line 673, in build\n    save_tensor = self._AddSaveOps(filename_tensor, saveables)\n  File \"/home/carnd/anaconda3/envs/dl/lib/python3.5/site-packages/tensorflow/python/training/saver.py\", line 271, in _AddSaveOps\n    save = self.save_op(filename_tensor, saveables)\n  File \"/home/carnd/anaconda3/envs/dl/lib/python3.5/site-packages/tensorflow/python/training/saver.py\", line 214, in save_op\n    tensors)\n  File \"/home/carnd/anaconda3/envs/dl/lib/python3.5/site-packages/tensorflow/python/ops/gen_io_ops.py\", line 779, in save_v2\n    tensors=tensors, name=name)\n  File \"/home/carnd/anaconda3/envs/dl/lib/python3.5/site-packages/tensorflow/python/framework/op_def_library.py\", line 763, in apply_op\n    op_def=op_def)\n  File \"/home/carnd/anaconda3/envs/dl/lib/python3.5/site-packages/tensorflow/python/framework/ops.py\", line 2395, in create_op\n    original_op=self._default_original_op, op_def=op_def)\n  File \"/home/carnd/anaconda3/envs/dl/lib/python3.5/site-packages/tensorflow/python/framework/ops.py\", line 1264, in __init__\n    self._traceback = _extract_stack()\n\nResourceExhaustedError (see above for traceback): image_classification.data-00000-of-00001.tempstate11114255216039161207\n\t [[Node: save/SaveV2 = SaveV2[dtypes=[DT_FLOAT, DT_FLOAT, DT_FLOAT, DT_FLOAT, DT_FLOAT, DT_FLOAT, DT_FLOAT, DT_FLOAT, DT_FLOAT, DT_FLOAT, DT_FLOAT, DT_FLOAT, DT_FLOAT, DT_FLOAT, DT_FLOAT, DT_FLOAT, DT_FLOAT, DT_FLOAT, DT_FLOAT, DT_FLOAT, DT_FLOAT, DT_FLOAT, DT_FLOAT, DT_FLOAT, DT_FLOAT, DT_FLOAT, DT_FLOAT, DT_FLOAT, DT_FLOAT, DT_FLOAT, DT_FLOAT, DT_FLOAT, DT_FLOAT, DT_FLOAT, DT_FLOAT, DT_FLOAT, DT_FLOAT, DT_FLOAT, DT_FLOAT, DT_FLOAT, DT_FLOAT, DT_FLOAT, DT_FLOAT, DT_FLOAT, DT_FLOAT, DT_FLOAT, DT_FLOAT, DT_FLOAT, DT_FLOAT, DT_FLOAT, DT_FLOAT, DT_FLOAT, DT_FLOAT, DT_FLOAT, DT_FLOAT, DT_FLOAT, DT_FLOAT, DT_FLOAT], _device=\"/job:localhost/replica:0/task:0/cpu:0\"](_recv_save/Const_0, save/SaveV2/tensor_names, save/SaveV2/shape_and_slices, Variable/_27, Variable/Adam/_29, Variable/Adam_1/_31, Variable_1/_33, Variable_1/Adam/_35, Variable_1/Adam_1/_37, Variable_10/_39, Variable_10/Adam/_41, Variable_10/Adam_1/_43, Variable_11/_45, Variable_11/Adam/_47, Variable_11/Adam_1/_49, Variable_12/_51, Variable_12/Adam/_53, Variable_12/Adam_1/_55, Variable_13/_57, Variable_13/Adam/_59, Variable_13/Adam_1/_61, Variable_14/_63, Variable_15/_65, Variable_16/_67, Variable_17/_69, Variable_18/_71, Variable_19/_73, Variable_2/_75, Variable_2/Adam/_77, Variable_2/Adam_1/_79, Variable_20/_81, Variable_21/_83, Variable_22/_85, Variable_23/_87, Variable_24/_89, Variable_25/_91, Variable_26/_93, Variable_27/_95, Variable_3/_97, Variable_3/Adam/_99, Variable_3/Adam_1/_101, Variable_4/_103, Variable_4/Adam/_105, Variable_4/Adam_1/_107, Variable_5/_109, Variable_5/Adam/_111, Variable_5/Adam_1/_113, Variable_6/_115, Variable_6/Adam/_117, Variable_6/Adam_1/_119, Variable_7/_121, Variable_7/Adam/_123, Variable_7/Adam_1/_125, Variable_8/_127, Variable_8/Adam/_129, Variable_8/Adam_1/_131, Variable_9/_133, Variable_9/Adam/_135, Variable_9/Adam_1/_137, beta1_power/_139, beta2_power/_141)]]\n",
     "output_type": "error",
     "traceback": [
      "\u001b[0;31m---------------------------------------------------------------------------\u001b[0m",
      "\u001b[0;31mResourceExhaustedError\u001b[0m                    Traceback (most recent call last)",
      "\u001b[0;32m/home/carnd/anaconda3/envs/dl/lib/python3.5/site-packages/tensorflow/python/client/session.py\u001b[0m in \u001b[0;36m_do_call\u001b[0;34m(self, fn, *args)\u001b[0m\n\u001b[1;32m   1021\u001b[0m     \u001b[0;32mtry\u001b[0m\u001b[0;34m:\u001b[0m\u001b[0;34m\u001b[0m\u001b[0m\n\u001b[0;32m-> 1022\u001b[0;31m       \u001b[0;32mreturn\u001b[0m \u001b[0mfn\u001b[0m\u001b[0;34m(\u001b[0m\u001b[0;34m*\u001b[0m\u001b[0margs\u001b[0m\u001b[0;34m)\u001b[0m\u001b[0;34m\u001b[0m\u001b[0m\n\u001b[0m\u001b[1;32m   1023\u001b[0m     \u001b[0;32mexcept\u001b[0m \u001b[0merrors\u001b[0m\u001b[0;34m.\u001b[0m\u001b[0mOpError\u001b[0m \u001b[0;32mas\u001b[0m \u001b[0me\u001b[0m\u001b[0;34m:\u001b[0m\u001b[0;34m\u001b[0m\u001b[0m\n",
      "\u001b[0;32m/home/carnd/anaconda3/envs/dl/lib/python3.5/site-packages/tensorflow/python/client/session.py\u001b[0m in \u001b[0;36m_run_fn\u001b[0;34m(session, feed_dict, fetch_list, target_list, options, run_metadata)\u001b[0m\n\u001b[1;32m   1003\u001b[0m                                  \u001b[0mfeed_dict\u001b[0m\u001b[0;34m,\u001b[0m \u001b[0mfetch_list\u001b[0m\u001b[0;34m,\u001b[0m \u001b[0mtarget_list\u001b[0m\u001b[0;34m,\u001b[0m\u001b[0;34m\u001b[0m\u001b[0m\n\u001b[0;32m-> 1004\u001b[0;31m                                  status, run_metadata)\n\u001b[0m\u001b[1;32m   1005\u001b[0m \u001b[0;34m\u001b[0m\u001b[0m\n",
      "\u001b[0;32m/home/carnd/anaconda3/envs/dl/lib/python3.5/contextlib.py\u001b[0m in \u001b[0;36m__exit__\u001b[0;34m(self, type, value, traceback)\u001b[0m\n\u001b[1;32m     65\u001b[0m             \u001b[0;32mtry\u001b[0m\u001b[0;34m:\u001b[0m\u001b[0;34m\u001b[0m\u001b[0m\n\u001b[0;32m---> 66\u001b[0;31m                 \u001b[0mnext\u001b[0m\u001b[0;34m(\u001b[0m\u001b[0mself\u001b[0m\u001b[0;34m.\u001b[0m\u001b[0mgen\u001b[0m\u001b[0;34m)\u001b[0m\u001b[0;34m\u001b[0m\u001b[0m\n\u001b[0m\u001b[1;32m     67\u001b[0m             \u001b[0;32mexcept\u001b[0m \u001b[0mStopIteration\u001b[0m\u001b[0;34m:\u001b[0m\u001b[0;34m\u001b[0m\u001b[0m\n",
      "\u001b[0;32m/home/carnd/anaconda3/envs/dl/lib/python3.5/site-packages/tensorflow/python/framework/errors_impl.py\u001b[0m in \u001b[0;36mraise_exception_on_not_ok_status\u001b[0;34m()\u001b[0m\n\u001b[1;32m    468\u001b[0m           \u001b[0mcompat\u001b[0m\u001b[0;34m.\u001b[0m\u001b[0mas_text\u001b[0m\u001b[0;34m(\u001b[0m\u001b[0mpywrap_tensorflow\u001b[0m\u001b[0;34m.\u001b[0m\u001b[0mTF_Message\u001b[0m\u001b[0;34m(\u001b[0m\u001b[0mstatus\u001b[0m\u001b[0;34m)\u001b[0m\u001b[0;34m)\u001b[0m\u001b[0;34m,\u001b[0m\u001b[0;34m\u001b[0m\u001b[0m\n\u001b[0;32m--> 469\u001b[0;31m           pywrap_tensorflow.TF_GetCode(status))\n\u001b[0m\u001b[1;32m    470\u001b[0m   \u001b[0;32mfinally\u001b[0m\u001b[0;34m:\u001b[0m\u001b[0;34m\u001b[0m\u001b[0m\n",
      "\u001b[0;31mResourceExhaustedError\u001b[0m: image_classification.data-00000-of-00001.tempstate11114255216039161207\n\t [[Node: save/SaveV2 = SaveV2[dtypes=[DT_FLOAT, DT_FLOAT, DT_FLOAT, DT_FLOAT, DT_FLOAT, DT_FLOAT, DT_FLOAT, DT_FLOAT, DT_FLOAT, DT_FLOAT, DT_FLOAT, DT_FLOAT, DT_FLOAT, DT_FLOAT, DT_FLOAT, DT_FLOAT, DT_FLOAT, DT_FLOAT, DT_FLOAT, DT_FLOAT, DT_FLOAT, DT_FLOAT, DT_FLOAT, DT_FLOAT, DT_FLOAT, DT_FLOAT, DT_FLOAT, DT_FLOAT, DT_FLOAT, DT_FLOAT, DT_FLOAT, DT_FLOAT, DT_FLOAT, DT_FLOAT, DT_FLOAT, DT_FLOAT, DT_FLOAT, DT_FLOAT, DT_FLOAT, DT_FLOAT, DT_FLOAT, DT_FLOAT, DT_FLOAT, DT_FLOAT, DT_FLOAT, DT_FLOAT, DT_FLOAT, DT_FLOAT, DT_FLOAT, DT_FLOAT, DT_FLOAT, DT_FLOAT, DT_FLOAT, DT_FLOAT, DT_FLOAT, DT_FLOAT, DT_FLOAT, DT_FLOAT], _device=\"/job:localhost/replica:0/task:0/cpu:0\"](_recv_save/Const_0, save/SaveV2/tensor_names, save/SaveV2/shape_and_slices, Variable/_27, Variable/Adam/_29, Variable/Adam_1/_31, Variable_1/_33, Variable_1/Adam/_35, Variable_1/Adam_1/_37, Variable_10/_39, Variable_10/Adam/_41, Variable_10/Adam_1/_43, Variable_11/_45, Variable_11/Adam/_47, Variable_11/Adam_1/_49, Variable_12/_51, Variable_12/Adam/_53, Variable_12/Adam_1/_55, Variable_13/_57, Variable_13/Adam/_59, Variable_13/Adam_1/_61, Variable_14/_63, Variable_15/_65, Variable_16/_67, Variable_17/_69, Variable_18/_71, Variable_19/_73, Variable_2/_75, Variable_2/Adam/_77, Variable_2/Adam_1/_79, Variable_20/_81, Variable_21/_83, Variable_22/_85, Variable_23/_87, Variable_24/_89, Variable_25/_91, Variable_26/_93, Variable_27/_95, Variable_3/_97, Variable_3/Adam/_99, Variable_3/Adam_1/_101, Variable_4/_103, Variable_4/Adam/_105, Variable_4/Adam_1/_107, Variable_5/_109, Variable_5/Adam/_111, Variable_5/Adam_1/_113, Variable_6/_115, Variable_6/Adam/_117, Variable_6/Adam_1/_119, Variable_7/_121, Variable_7/Adam/_123, Variable_7/Adam_1/_125, Variable_8/_127, Variable_8/Adam/_129, Variable_8/Adam_1/_131, Variable_9/_133, Variable_9/Adam/_135, Variable_9/Adam_1/_137, beta1_power/_139, beta2_power/_141)]]",
      "\nDuring handling of the above exception, another exception occurred:\n",
      "\u001b[0;31mResourceExhaustedError\u001b[0m                    Traceback (most recent call last)",
      "\u001b[0;32m<ipython-input-34-9df3032ebe9d>\u001b[0m in \u001b[0;36m<module>\u001b[0;34m()\u001b[0m\n\u001b[1;32m     21\u001b[0m     \u001b[0;31m# Save Model\u001b[0m\u001b[0;34m\u001b[0m\u001b[0;34m\u001b[0m\u001b[0m\n\u001b[1;32m     22\u001b[0m     \u001b[0msaver\u001b[0m \u001b[0;34m=\u001b[0m \u001b[0mtf\u001b[0m\u001b[0;34m.\u001b[0m\u001b[0mtrain\u001b[0m\u001b[0;34m.\u001b[0m\u001b[0mSaver\u001b[0m\u001b[0;34m(\u001b[0m\u001b[0;34m)\u001b[0m\u001b[0;34m\u001b[0m\u001b[0m\n\u001b[0;32m---> 23\u001b[0;31m     \u001b[0msave_path\u001b[0m \u001b[0;34m=\u001b[0m \u001b[0msaver\u001b[0m\u001b[0;34m.\u001b[0m\u001b[0msave\u001b[0m\u001b[0;34m(\u001b[0m\u001b[0msess\u001b[0m\u001b[0;34m,\u001b[0m \u001b[0msave_model_path\u001b[0m\u001b[0;34m)\u001b[0m\u001b[0;34m\u001b[0m\u001b[0m\n\u001b[0m",
      "\u001b[0;32m/home/carnd/anaconda3/envs/dl/lib/python3.5/site-packages/tensorflow/python/training/saver.py\u001b[0m in \u001b[0;36msave\u001b[0;34m(self, sess, save_path, global_step, latest_filename, meta_graph_suffix, write_meta_graph, write_state)\u001b[0m\n\u001b[1;32m   1372\u001b[0m       model_checkpoint_path = sess.run(\n\u001b[1;32m   1373\u001b[0m           \u001b[0mself\u001b[0m\u001b[0;34m.\u001b[0m\u001b[0msaver_def\u001b[0m\u001b[0;34m.\u001b[0m\u001b[0msave_tensor_name\u001b[0m\u001b[0;34m,\u001b[0m\u001b[0;34m\u001b[0m\u001b[0m\n\u001b[0;32m-> 1374\u001b[0;31m           {self.saver_def.filename_tensor_name: checkpoint_file})\n\u001b[0m\u001b[1;32m   1375\u001b[0m       \u001b[0mmodel_checkpoint_path\u001b[0m \u001b[0;34m=\u001b[0m \u001b[0mcompat\u001b[0m\u001b[0;34m.\u001b[0m\u001b[0mas_str\u001b[0m\u001b[0;34m(\u001b[0m\u001b[0mmodel_checkpoint_path\u001b[0m\u001b[0;34m)\u001b[0m\u001b[0;34m\u001b[0m\u001b[0m\n\u001b[1;32m   1376\u001b[0m       \u001b[0;32mif\u001b[0m \u001b[0mwrite_state\u001b[0m\u001b[0;34m:\u001b[0m\u001b[0;34m\u001b[0m\u001b[0m\n",
      "\u001b[0;32m/home/carnd/anaconda3/envs/dl/lib/python3.5/site-packages/tensorflow/python/client/session.py\u001b[0m in \u001b[0;36mrun\u001b[0;34m(self, fetches, feed_dict, options, run_metadata)\u001b[0m\n\u001b[1;32m    765\u001b[0m     \u001b[0;32mtry\u001b[0m\u001b[0;34m:\u001b[0m\u001b[0;34m\u001b[0m\u001b[0m\n\u001b[1;32m    766\u001b[0m       result = self._run(None, fetches, feed_dict, options_ptr,\n\u001b[0;32m--> 767\u001b[0;31m                          run_metadata_ptr)\n\u001b[0m\u001b[1;32m    768\u001b[0m       \u001b[0;32mif\u001b[0m \u001b[0mrun_metadata\u001b[0m\u001b[0;34m:\u001b[0m\u001b[0;34m\u001b[0m\u001b[0m\n\u001b[1;32m    769\u001b[0m         \u001b[0mproto_data\u001b[0m \u001b[0;34m=\u001b[0m \u001b[0mtf_session\u001b[0m\u001b[0;34m.\u001b[0m\u001b[0mTF_GetBuffer\u001b[0m\u001b[0;34m(\u001b[0m\u001b[0mrun_metadata_ptr\u001b[0m\u001b[0;34m)\u001b[0m\u001b[0;34m\u001b[0m\u001b[0m\n",
      "\u001b[0;32m/home/carnd/anaconda3/envs/dl/lib/python3.5/site-packages/tensorflow/python/client/session.py\u001b[0m in \u001b[0;36m_run\u001b[0;34m(self, handle, fetches, feed_dict, options, run_metadata)\u001b[0m\n\u001b[1;32m    963\u001b[0m     \u001b[0;32mif\u001b[0m \u001b[0mfinal_fetches\u001b[0m \u001b[0;32mor\u001b[0m \u001b[0mfinal_targets\u001b[0m\u001b[0;34m:\u001b[0m\u001b[0;34m\u001b[0m\u001b[0m\n\u001b[1;32m    964\u001b[0m       results = self._do_run(handle, final_targets, final_fetches,\n\u001b[0;32m--> 965\u001b[0;31m                              feed_dict_string, options, run_metadata)\n\u001b[0m\u001b[1;32m    966\u001b[0m     \u001b[0;32melse\u001b[0m\u001b[0;34m:\u001b[0m\u001b[0;34m\u001b[0m\u001b[0m\n\u001b[1;32m    967\u001b[0m       \u001b[0mresults\u001b[0m \u001b[0;34m=\u001b[0m \u001b[0;34m[\u001b[0m\u001b[0;34m]\u001b[0m\u001b[0;34m\u001b[0m\u001b[0m\n",
      "\u001b[0;32m/home/carnd/anaconda3/envs/dl/lib/python3.5/site-packages/tensorflow/python/client/session.py\u001b[0m in \u001b[0;36m_do_run\u001b[0;34m(self, handle, target_list, fetch_list, feed_dict, options, run_metadata)\u001b[0m\n\u001b[1;32m   1013\u001b[0m     \u001b[0;32mif\u001b[0m \u001b[0mhandle\u001b[0m \u001b[0;32mis\u001b[0m \u001b[0;32mNone\u001b[0m\u001b[0;34m:\u001b[0m\u001b[0;34m\u001b[0m\u001b[0m\n\u001b[1;32m   1014\u001b[0m       return self._do_call(_run_fn, self._session, feed_dict, fetch_list,\n\u001b[0;32m-> 1015\u001b[0;31m                            target_list, options, run_metadata)\n\u001b[0m\u001b[1;32m   1016\u001b[0m     \u001b[0;32melse\u001b[0m\u001b[0;34m:\u001b[0m\u001b[0;34m\u001b[0m\u001b[0m\n\u001b[1;32m   1017\u001b[0m       return self._do_call(_prun_fn, self._session, handle, feed_dict,\n",
      "\u001b[0;32m/home/carnd/anaconda3/envs/dl/lib/python3.5/site-packages/tensorflow/python/client/session.py\u001b[0m in \u001b[0;36m_do_call\u001b[0;34m(self, fn, *args)\u001b[0m\n\u001b[1;32m   1033\u001b[0m         \u001b[0;32mexcept\u001b[0m \u001b[0mKeyError\u001b[0m\u001b[0;34m:\u001b[0m\u001b[0;34m\u001b[0m\u001b[0m\n\u001b[1;32m   1034\u001b[0m           \u001b[0;32mpass\u001b[0m\u001b[0;34m\u001b[0m\u001b[0m\n\u001b[0;32m-> 1035\u001b[0;31m       \u001b[0;32mraise\u001b[0m \u001b[0mtype\u001b[0m\u001b[0;34m(\u001b[0m\u001b[0me\u001b[0m\u001b[0;34m)\u001b[0m\u001b[0;34m(\u001b[0m\u001b[0mnode_def\u001b[0m\u001b[0;34m,\u001b[0m \u001b[0mop\u001b[0m\u001b[0;34m,\u001b[0m \u001b[0mmessage\u001b[0m\u001b[0;34m)\u001b[0m\u001b[0;34m\u001b[0m\u001b[0m\n\u001b[0m\u001b[1;32m   1036\u001b[0m \u001b[0;34m\u001b[0m\u001b[0m\n\u001b[1;32m   1037\u001b[0m   \u001b[0;32mdef\u001b[0m \u001b[0m_extend_graph\u001b[0m\u001b[0;34m(\u001b[0m\u001b[0mself\u001b[0m\u001b[0;34m)\u001b[0m\u001b[0;34m:\u001b[0m\u001b[0;34m\u001b[0m\u001b[0m\n",
      "\u001b[0;31mResourceExhaustedError\u001b[0m: image_classification.data-00000-of-00001.tempstate11114255216039161207\n\t [[Node: save/SaveV2 = SaveV2[dtypes=[DT_FLOAT, DT_FLOAT, DT_FLOAT, DT_FLOAT, DT_FLOAT, DT_FLOAT, DT_FLOAT, DT_FLOAT, DT_FLOAT, DT_FLOAT, DT_FLOAT, DT_FLOAT, DT_FLOAT, DT_FLOAT, DT_FLOAT, DT_FLOAT, DT_FLOAT, DT_FLOAT, DT_FLOAT, DT_FLOAT, DT_FLOAT, DT_FLOAT, DT_FLOAT, DT_FLOAT, DT_FLOAT, DT_FLOAT, DT_FLOAT, DT_FLOAT, DT_FLOAT, DT_FLOAT, DT_FLOAT, DT_FLOAT, DT_FLOAT, DT_FLOAT, DT_FLOAT, DT_FLOAT, DT_FLOAT, DT_FLOAT, DT_FLOAT, DT_FLOAT, DT_FLOAT, DT_FLOAT, DT_FLOAT, DT_FLOAT, DT_FLOAT, DT_FLOAT, DT_FLOAT, DT_FLOAT, DT_FLOAT, DT_FLOAT, DT_FLOAT, DT_FLOAT, DT_FLOAT, DT_FLOAT, DT_FLOAT, DT_FLOAT, DT_FLOAT, DT_FLOAT], _device=\"/job:localhost/replica:0/task:0/cpu:0\"](_recv_save/Const_0, save/SaveV2/tensor_names, save/SaveV2/shape_and_slices, Variable/_27, Variable/Adam/_29, Variable/Adam_1/_31, Variable_1/_33, Variable_1/Adam/_35, Variable_1/Adam_1/_37, Variable_10/_39, Variable_10/Adam/_41, Variable_10/Adam_1/_43, Variable_11/_45, Variable_11/Adam/_47, Variable_11/Adam_1/_49, Variable_12/_51, Variable_12/Adam/_53, Variable_12/Adam_1/_55, Variable_13/_57, Variable_13/Adam/_59, Variable_13/Adam_1/_61, Variable_14/_63, Variable_15/_65, Variable_16/_67, Variable_17/_69, Variable_18/_71, Variable_19/_73, Variable_2/_75, Variable_2/Adam/_77, Variable_2/Adam_1/_79, Variable_20/_81, Variable_21/_83, Variable_22/_85, Variable_23/_87, Variable_24/_89, Variable_25/_91, Variable_26/_93, Variable_27/_95, Variable_3/_97, Variable_3/Adam/_99, Variable_3/Adam_1/_101, Variable_4/_103, Variable_4/Adam/_105, Variable_4/Adam_1/_107, Variable_5/_109, Variable_5/Adam/_111, Variable_5/Adam_1/_113, Variable_6/_115, Variable_6/Adam/_117, Variable_6/Adam_1/_119, Variable_7/_121, Variable_7/Adam/_123, Variable_7/Adam_1/_125, Variable_8/_127, Variable_8/Adam/_129, Variable_8/Adam_1/_131, Variable_9/_133, Variable_9/Adam/_135, Variable_9/Adam_1/_137, beta1_power/_139, beta2_power/_141)]]\n\nCaused by op 'save/SaveV2', defined at:\n  File \"/home/carnd/anaconda3/envs/dl/lib/python3.5/runpy.py\", line 184, in _run_module_as_main\n    \"__main__\", mod_spec)\n  File \"/home/carnd/anaconda3/envs/dl/lib/python3.5/runpy.py\", line 85, in _run_code\n    exec(code, run_globals)\n  File \"/home/carnd/anaconda3/envs/dl/lib/python3.5/site-packages/ipykernel/__main__.py\", line 3, in <module>\n    app.launch_new_instance()\n  File \"/home/carnd/anaconda3/envs/dl/lib/python3.5/site-packages/traitlets/config/application.py\", line 658, in launch_instance\n    app.start()\n  File \"/home/carnd/anaconda3/envs/dl/lib/python3.5/site-packages/ipykernel/kernelapp.py\", line 474, in start\n    ioloop.IOLoop.instance().start()\n  File \"/home/carnd/anaconda3/envs/dl/lib/python3.5/site-packages/zmq/eventloop/ioloop.py\", line 177, in start\n    super(ZMQIOLoop, self).start()\n  File \"/home/carnd/anaconda3/envs/dl/lib/python3.5/site-packages/tornado/ioloop.py\", line 887, in start\n    handler_func(fd_obj, events)\n  File \"/home/carnd/anaconda3/envs/dl/lib/python3.5/site-packages/tornado/stack_context.py\", line 275, in null_wrapper\n    return fn(*args, **kwargs)\n  File \"/home/carnd/anaconda3/envs/dl/lib/python3.5/site-packages/zmq/eventloop/zmqstream.py\", line 440, in _handle_events\n    self._handle_recv()\n  File \"/home/carnd/anaconda3/envs/dl/lib/python3.5/site-packages/zmq/eventloop/zmqstream.py\", line 472, in _handle_recv\n    self._run_callback(callback, msg)\n  File \"/home/carnd/anaconda3/envs/dl/lib/python3.5/site-packages/zmq/eventloop/zmqstream.py\", line 414, in _run_callback\n    callback(*args, **kwargs)\n  File \"/home/carnd/anaconda3/envs/dl/lib/python3.5/site-packages/tornado/stack_context.py\", line 275, in null_wrapper\n    return fn(*args, **kwargs)\n  File \"/home/carnd/anaconda3/envs/dl/lib/python3.5/site-packages/ipykernel/kernelbase.py\", line 276, in dispatcher\n    return self.dispatch_shell(stream, msg)\n  File \"/home/carnd/anaconda3/envs/dl/lib/python3.5/site-packages/ipykernel/kernelbase.py\", line 228, in dispatch_shell\n    handler(stream, idents, msg)\n  File \"/home/carnd/anaconda3/envs/dl/lib/python3.5/site-packages/ipykernel/kernelbase.py\", line 390, in execute_request\n    user_expressions, allow_stdin)\n  File \"/home/carnd/anaconda3/envs/dl/lib/python3.5/site-packages/ipykernel/ipkernel.py\", line 196, in do_execute\n    res = shell.run_cell(code, store_history=store_history, silent=silent)\n  File \"/home/carnd/anaconda3/envs/dl/lib/python3.5/site-packages/ipykernel/zmqshell.py\", line 501, in run_cell\n    return super(ZMQInteractiveShell, self).run_cell(*args, **kwargs)\n  File \"/home/carnd/anaconda3/envs/dl/lib/python3.5/site-packages/IPython/core/interactiveshell.py\", line 2717, in run_cell\n    interactivity=interactivity, compiler=compiler, result=result)\n  File \"/home/carnd/anaconda3/envs/dl/lib/python3.5/site-packages/IPython/core/interactiveshell.py\", line 2821, in run_ast_nodes\n    if self.run_code(code, result):\n  File \"/home/carnd/anaconda3/envs/dl/lib/python3.5/site-packages/IPython/core/interactiveshell.py\", line 2881, in run_code\n    exec(code_obj, self.user_global_ns, self.user_ns)\n  File \"<ipython-input-34-9df3032ebe9d>\", line 22, in <module>\n    saver = tf.train.Saver()\n  File \"/home/carnd/anaconda3/envs/dl/lib/python3.5/site-packages/tensorflow/python/training/saver.py\", line 1051, in __init__\n    self.build()\n  File \"/home/carnd/anaconda3/envs/dl/lib/python3.5/site-packages/tensorflow/python/training/saver.py\", line 1081, in build\n    restore_sequentially=self._restore_sequentially)\n  File \"/home/carnd/anaconda3/envs/dl/lib/python3.5/site-packages/tensorflow/python/training/saver.py\", line 673, in build\n    save_tensor = self._AddSaveOps(filename_tensor, saveables)\n  File \"/home/carnd/anaconda3/envs/dl/lib/python3.5/site-packages/tensorflow/python/training/saver.py\", line 271, in _AddSaveOps\n    save = self.save_op(filename_tensor, saveables)\n  File \"/home/carnd/anaconda3/envs/dl/lib/python3.5/site-packages/tensorflow/python/training/saver.py\", line 214, in save_op\n    tensors)\n  File \"/home/carnd/anaconda3/envs/dl/lib/python3.5/site-packages/tensorflow/python/ops/gen_io_ops.py\", line 779, in save_v2\n    tensors=tensors, name=name)\n  File \"/home/carnd/anaconda3/envs/dl/lib/python3.5/site-packages/tensorflow/python/framework/op_def_library.py\", line 763, in apply_op\n    op_def=op_def)\n  File \"/home/carnd/anaconda3/envs/dl/lib/python3.5/site-packages/tensorflow/python/framework/ops.py\", line 2395, in create_op\n    original_op=self._default_original_op, op_def=op_def)\n  File \"/home/carnd/anaconda3/envs/dl/lib/python3.5/site-packages/tensorflow/python/framework/ops.py\", line 1264, in __init__\n    self._traceback = _extract_stack()\n\nResourceExhaustedError (see above for traceback): image_classification.data-00000-of-00001.tempstate11114255216039161207\n\t [[Node: save/SaveV2 = SaveV2[dtypes=[DT_FLOAT, DT_FLOAT, DT_FLOAT, DT_FLOAT, DT_FLOAT, DT_FLOAT, DT_FLOAT, DT_FLOAT, DT_FLOAT, DT_FLOAT, DT_FLOAT, DT_FLOAT, DT_FLOAT, DT_FLOAT, DT_FLOAT, DT_FLOAT, DT_FLOAT, DT_FLOAT, DT_FLOAT, DT_FLOAT, DT_FLOAT, DT_FLOAT, DT_FLOAT, DT_FLOAT, DT_FLOAT, DT_FLOAT, DT_FLOAT, DT_FLOAT, DT_FLOAT, DT_FLOAT, DT_FLOAT, DT_FLOAT, DT_FLOAT, DT_FLOAT, DT_FLOAT, DT_FLOAT, DT_FLOAT, DT_FLOAT, DT_FLOAT, DT_FLOAT, DT_FLOAT, DT_FLOAT, DT_FLOAT, DT_FLOAT, DT_FLOAT, DT_FLOAT, DT_FLOAT, DT_FLOAT, DT_FLOAT, DT_FLOAT, DT_FLOAT, DT_FLOAT, DT_FLOAT, DT_FLOAT, DT_FLOAT, DT_FLOAT, DT_FLOAT, DT_FLOAT], _device=\"/job:localhost/replica:0/task:0/cpu:0\"](_recv_save/Const_0, save/SaveV2/tensor_names, save/SaveV2/shape_and_slices, Variable/_27, Variable/Adam/_29, Variable/Adam_1/_31, Variable_1/_33, Variable_1/Adam/_35, Variable_1/Adam_1/_37, Variable_10/_39, Variable_10/Adam/_41, Variable_10/Adam_1/_43, Variable_11/_45, Variable_11/Adam/_47, Variable_11/Adam_1/_49, Variable_12/_51, Variable_12/Adam/_53, Variable_12/Adam_1/_55, Variable_13/_57, Variable_13/Adam/_59, Variable_13/Adam_1/_61, Variable_14/_63, Variable_15/_65, Variable_16/_67, Variable_17/_69, Variable_18/_71, Variable_19/_73, Variable_2/_75, Variable_2/Adam/_77, Variable_2/Adam_1/_79, Variable_20/_81, Variable_21/_83, Variable_22/_85, Variable_23/_87, Variable_24/_89, Variable_25/_91, Variable_26/_93, Variable_27/_95, Variable_3/_97, Variable_3/Adam/_99, Variable_3/Adam_1/_101, Variable_4/_103, Variable_4/Adam/_105, Variable_4/Adam_1/_107, Variable_5/_109, Variable_5/Adam/_111, Variable_5/Adam_1/_113, Variable_6/_115, Variable_6/Adam/_117, Variable_6/Adam_1/_119, Variable_7/_121, Variable_7/Adam/_123, Variable_7/Adam_1/_125, Variable_8/_127, Variable_8/Adam/_129, Variable_8/Adam_1/_131, Variable_9/_133, Variable_9/Adam/_135, Variable_9/Adam_1/_137, beta1_power/_139, beta2_power/_141)]]\n"
     ]
    }
   ],
   "source": [
    "\"\"\"\n",
    "DON'T MODIFY ANYTHING IN THIS CELL\n",
    "\"\"\"\n",
    "save_model_path = './image_classification'\n",
    "\n",
    "print('Training...')\n",
    "with tf.Session() as sess:\n",
    "    # Initializing the variables\n",
    "    sess.run(tf.global_variables_initializer())\n",
    "    \n",
    "    # Training cycle\n",
    "    for epoch in range(epochs):\n",
    "        # Loop over all batches\n",
    "        n_batches = 5\n",
    "        for batch_i in range(1, n_batches + 1):\n",
    "            for batch_features, batch_labels in helper.load_preprocess_training_batch(batch_i, batch_size):\n",
    "                train_neural_network(sess, optimizer, keep_probability, batch_features, batch_labels)\n",
    "            print('Epoch {:>2}, CIFAR-10 Batch {}:  '.format(epoch + 1, batch_i), end='')\n",
    "            print_stats(sess, batch_features, batch_labels, cost, accuracy)\n",
    "            \n",
    "    # Save Model\n",
    "    saver = tf.train.Saver()\n",
    "    save_path = saver.save(sess, save_model_path)"
   ]
  },
  {
   "cell_type": "markdown",
   "metadata": {
    "deletable": true,
    "editable": true
   },
   "source": [
    "# Checkpoint\n",
    "The model has been saved to disk.\n",
    "## Test Model\n",
    "Test your model against the test dataset.  This will be your final accuracy. You should have an accuracy greater than 50%. If you don't, keep tweaking the model architecture and parameters."
   ]
  },
  {
   "cell_type": "code",
   "execution_count": 35,
   "metadata": {
    "collapsed": false,
    "deletable": true,
    "editable": true
   },
   "outputs": [
    {
     "name": "stdout",
     "output_type": "stream",
     "text": [
      "Testing Accuracy: 0.09889240506329114\n",
      "\n"
     ]
    },
    {
     "data": {
      "image/png": "[encoded data removed]",
      "text/plain": [
       "<matplotlib.figure.Figure at 0x7f903a454518>"
      ]
     },
     "metadata": {
      "image/png": {
       "height": 319,
       "width": 355
      }
     },
     "output_type": "display_data"
    }
   ],
   "source": [
    "\"\"\"\n",
    "DON'T MODIFY ANYTHING IN THIS CELL\n",
    "\"\"\"\n",
    "%matplotlib inline\n",
    "%config InlineBackend.figure_format = 'retina'\n",
    "\n",
    "import tensorflow as tf\n",
    "import pickle\n",
    "import helper\n",
    "import random\n",
    "\n",
    "# Set batch size if not already set\n",
    "try:\n",
    "    if batch_size:\n",
    "        pass\n",
    "except NameError:\n",
    "    batch_size = 64\n",
    "\n",
    "save_model_path = './image_classification'\n",
    "n_samples = 4\n",
    "top_n_predictions = 3\n",
    "\n",
    "def test_model():\n",
    "    \"\"\"\n",
    "    Test the saved model against the test dataset\n",
    "    \"\"\"\n",
    "\n",
    "    test_features, test_labels = pickle.load(open('preprocess_training.p', mode='rb'))\n",
    "    loaded_graph = tf.Graph()\n",
    "\n",
    "    with tf.Session(graph=loaded_graph) as sess:\n",
    "        # Load model\n",
    "        loader = tf.train.import_meta_graph(save_model_path + '.meta')\n",
    "        loader.restore(sess, save_model_path)\n",
    "\n",
    "        # Get Tensors from loaded model\n",
    "        loaded_x = loaded_graph.get_tensor_by_name('x:0')\n",
    "        loaded_y = loaded_graph.get_tensor_by_name('y:0')\n",
    "        loaded_keep_prob = loaded_graph.get_tensor_by_name('keep_prob:0')\n",
    "        loaded_logits = loaded_graph.get_tensor_by_name('logits:0')\n",
    "        loaded_acc = loaded_graph.get_tensor_by_name('accuracy:0')\n",
    "        \n",
    "        # Get accuracy in batches for memory limitations\n",
    "        test_batch_acc_total = 0\n",
    "        test_batch_count = 0\n",
    "        \n",
    "        for train_feature_batch, train_label_batch in helper.batch_features_labels(test_features, test_labels, batch_size):\n",
    "            test_batch_acc_total += sess.run(\n",
    "                loaded_acc,\n",
    "                feed_dict={loaded_x: train_feature_batch, loaded_y: train_label_batch, loaded_keep_prob: 1.0})\n",
    "            test_batch_count += 1\n",
    "\n",
    "        print('Testing Accuracy: {}\\n'.format(test_batch_acc_total/test_batch_count))\n",
    "\n",
    "        # Print Random Samples\n",
    "        random_test_features, random_test_labels = tuple(zip(*random.sample(list(zip(test_features, test_labels)), n_samples)))\n",
    "        random_test_predictions = sess.run(\n",
    "            tf.nn.top_k(tf.nn.softmax(loaded_logits), top_n_predictions),\n",
    "            feed_dict={loaded_x: random_test_features, loaded_y: random_test_labels, loaded_keep_prob: 1.0})\n",
    "        helper.display_image_predictions(random_test_features, random_test_labels, random_test_predictions)\n",
    "\n",
    "\n",
    "test_model()"
   ]
  },
  {
   "cell_type": "markdown",
   "metadata": {
    "deletable": true,
    "editable": true
   },
   "source": [
    "## Why 50-70% Accuracy?\n",
    "You might be wondering why you can't get an accuracy any higher. First things first, 50% isn't bad for a simple CNN.  Pure guessing would get you 10% accuracy. However, you might notice people are getting scores [well above 70%](http://rodrigob.github.io/are_we_there_yet/build/classification_datasets_results.html#43494641522d3130).  That's because we haven't taught you all there is to know about neural networks. We still need to cover a few more techniques.\n",
    "## Submitting This Project\n",
    "When submitting this project, make sure to run all the cells before saving the notebook.  Save the notebook file as \"dlnd_image_classification.ipynb\" and save it as a HTML file under \"File\" -> \"Download as\".  Include the \"helper.py\" and \"problem_unittests.py\" files in your submission."
   ]
  }
 ],
 "metadata": {
  "kernelspec": {
   "display_name": "Python 3",
   "language": "python",
   "name": "python3"
  },
  "widgets": {
   "state": {},
   "version": "1.1.2"
  }
 },
 "nbformat": 4,
 "nbformat_minor": 0
}
