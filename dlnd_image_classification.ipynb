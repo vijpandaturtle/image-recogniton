{
 "cells": [
  {
   "cell_type": "markdown",
   "metadata": {
    "collapsed": true,
    "deletable": true,
    "editable": true
   },
   "source": [
    "# Image Classification\n",
    "In this project, you'll classify images from the [CIFAR-10 dataset](https://www.cs.toronto.edu/~kriz/cifar.html).  The dataset consists of airplanes, dogs, cats, and other objects. You'll preprocess the images, then train a convolutional neural network on all the samples. The images need to be normalized and the labels need to be one-hot encoded.  You'll get to apply what you learned and build a convolutional, max pooling, dropout, and fully connected layers.  At the end, you'll get to see your neural network's predictions on the sample images.\n",
    "## Get the Data\n",
    "Run the following cell to download the [CIFAR-10 dataset for python](https://www.cs.toronto.edu/~kriz/cifar-10-python.tar.gz)."
   ]
  },
  {
   "cell_type": "code",
   "execution_count": 1,
   "metadata": {
    "collapsed": false,
    "deletable": true,
    "editable": true
   },
   "outputs": [
    {
     "name": "stdout",
     "output_type": "stream",
     "text": [
      "All files found!\n"
     ]
    }
   ],
   "source": [
    "\"\"\"\n",
    "DON'T MODIFY ANYTHING IN THIS CELL THAT IS BELOW THIS LINE\n",
    "\"\"\"\n",
    "from urllib.request import urlretrieve\n",
    "from os.path import isfile, isdir\n",
    "from tqdm import tqdm\n",
    "import problem_unittests as tests\n",
    "import tarfile\n",
    "\n",
    "cifar10_dataset_folder_path = 'cifar-10-batches-py'\n",
    "\n",
    "class DLProgress(tqdm):\n",
    "    last_block = 0\n",
    "\n",
    "    def hook(self, block_num=1, block_size=1, total_size=None):\n",
    "        self.total = total_size\n",
    "        self.update((block_num - self.last_block) * block_size)\n",
    "        self.last_block = block_num\n",
    "\n",
    "if not isfile('cifar-10-python.tar.gz'):\n",
    "    with DLProgress(unit='B', unit_scale=True, miniters=1, desc='CIFAR-10 Dataset') as pbar:\n",
    "        urlretrieve(\n",
    "            'https://www.cs.toronto.edu/~kriz/cifar-10-python.tar.gz',\n",
    "            'cifar-10-python.tar.gz',\n",
    "            pbar.hook)\n",
    "\n",
    "if not isdir(cifar10_dataset_folder_path):\n",
    "    with tarfile.open('cifar-10-python.tar.gz') as tar:\n",
    "        tar.extractall()\n",
    "        tar.close()\n",
    "\n",
    "\n",
    "tests.test_folder_path(cifar10_dataset_folder_path)"
   ]
  },
  {
   "cell_type": "markdown",
   "metadata": {
    "deletable": true,
    "editable": true
   },
   "source": [
    "## Explore the Data\n",
    "The dataset is broken into batches to prevent your machine from running out of memory.  The CIFAR-10 dataset consists of 5 batches, named `data_batch_1`, `data_batch_2`, etc.. Each batch contains the labels and images that are one of the following:\n",
    "* airplane\n",
    "* automobile\n",
    "* bird\n",
    "* cat\n",
    "* deer\n",
    "* dog\n",
    "* frog\n",
    "* horse\n",
    "* ship\n",
    "* truck\n",
    "\n",
    "Understanding a dataset is part of making predictions on the data.  Play around with the code cell below by changing the `batch_id` and `sample_id`. The `batch_id` is the id for a batch (1-5). The `sample_id` is the id for a image and label pair in the batch.\n",
    "\n",
    "Ask yourself \"What are all possible labels?\", \"What is the range of values for the image data?\", \"Are the labels in order or random?\".  Answers to questions like these will help you preprocess the data and end up with better predictions."
   ]
  },
  {
   "cell_type": "code",
   "execution_count": 2,
   "metadata": {
    "collapsed": false,
    "deletable": true,
    "editable": true
   },
   "outputs": [
    {
     "name": "stdout",
     "output_type": "stream",
     "text": [
      "\n",
      "Stats of batch 1:\n",
      "Samples: 10000\n",
      "Label Counts: {0: 1005, 1: 974, 2: 1032, 3: 1016, 4: 999, 5: 937, 6: 1030, 7: 1001, 8: 1025, 9: 981}\n",
      "First 20 Labels: [6, 9, 9, 4, 1, 1, 2, 7, 8, 3, 4, 7, 7, 2, 9, 9, 9, 3, 2, 6]\n",
      "\n",
      "Example of Image 5:\n",
      "Image - Min Value: 0 Max Value: 252\n",
      "Image - Shape: (32, 32, 3)\n",
      "Label - Label Id: 1 Name: automobile\n"
     ]
    },
    {
     "data": {
      "image/png": "[encoded data removed]",
      "text/plain": [
       "<matplotlib.figure.Figure at 0x7f0de4257400>"
      ]
     },
     "metadata": {
      "image/png": {
       "height": 250,
       "width": 253
      }
     },
     "output_type": "display_data"
    }
   ],
   "source": [
    "%matplotlib inline\n",
    "%config InlineBackend.figure_format = 'retina'\n",
    "\n",
    "import helper\n",
    "import numpy as np\n",
    "\n",
    "# Explore the dataset\n",
    "batch_id = 1\n",
    "sample_id = 5\n",
    "helper.display_stats(cifar10_dataset_folder_path, batch_id, sample_id)"
   ]
  },
  {
   "cell_type": "markdown",
   "metadata": {
    "deletable": true,
    "editable": true
   },
   "source": [
    "## Implement Preprocess Functions\n",
    "### Normalize\n",
    "In the cell below, implement the `normalize` function to take in image data, `x`, and return it as a normalized Numpy array. The values should be in the range of 0 to 1, inclusive.  The return object should be the same shape as `x`."
   ]
  },
  {
   "cell_type": "code",
   "execution_count": 3,
   "metadata": {
    "collapsed": false,
    "deletable": true,
    "editable": true
   },
   "outputs": [
    {
     "name": "stdout",
     "output_type": "stream",
     "text": [
      "Tests Passed\n"
     ]
    }
   ],
   "source": [
    "def normalize(x):\n",
    "    \"\"\"\n",
    "    Normalize a list of sample image data in the range of 0 to 1\n",
    "    : x: List of image data.  The image shape is (32, 32, 3)\n",
    "    : return: Numpy array of normalize data\n",
    "    \"\"\"\n",
    "    # Here the maximum value is already known to us so it's better to use the actual value.\n",
    "    x = x/255.0\n",
    "    return np.array(x)\n",
    "\n",
    "\n",
    "\"\"\"\n",
    "DON'T MODIFY ANYTHING IN THIS CELL THAT IS BELOW THIS LINE\n",
    "\"\"\"\n",
    "tests.test_normalize(normalize)"
   ]
  },
  {
   "cell_type": "markdown",
   "metadata": {
    "deletable": true,
    "editable": true
   },
   "source": [
    "### One-hot encode\n",
    "Just like the previous code cell, you'll be implementing a function for preprocessing.  This time, you'll implement the `one_hot_encode` function. The input, `x`, are a list of labels.  Implement the function to return the list of labels as One-Hot encoded Numpy array.  The possible values for labels are 0 to 9. The one-hot encoding function should return the same encoding for each value between each call to `one_hot_encode`.  Make sure to save the map of encodings outside the function.\n",
    "\n",
    "Hint: Don't reinvent the wheel."
   ]
  },
  {
   "cell_type": "code",
   "execution_count": 4,
   "metadata": {
    "collapsed": false,
    "deletable": true,
    "editable": true
   },
   "outputs": [
    {
     "name": "stdout",
     "output_type": "stream",
     "text": [
      "Tests Passed\n"
     ]
    }
   ],
   "source": [
    "def one_hot_encode(x):\n",
    "    \"\"\"\n",
    "    One hot encode a list of sample labels. Return a one-hot encoded vector for each label.\n",
    "    : x: List of sample Labels\n",
    "    : return: Numpy array of one-hot encoded labels\n",
    "    \"\"\"\n",
    "    zero_vector = np.zeros(shape=(len(x),10))\n",
    "    for i in range(len(x)):\n",
    "        for j in range(10):\n",
    "            zero_vector[i][j] = (j==x[i])       \n",
    "    return zero_vector\n",
    "\n",
    "\n",
    "\"\"\"\n",
    "DON'T MODIFY ANYTHING IN THIS CELL THAT IS BELOW THIS LINE\n",
    "\"\"\"\n",
    "tests.test_one_hot_encode(one_hot_encode)"
   ]
  },
  {
   "cell_type": "markdown",
   "metadata": {
    "deletable": true,
    "editable": true
   },
   "source": [
    "### Randomize Data\n",
    "As you saw from exploring the data above, the order of the samples are randomized.  It doesn't hurt to randomize it again, but you don't need to for this dataset."
   ]
  },
  {
   "cell_type": "markdown",
   "metadata": {
    "deletable": true,
    "editable": true
   },
   "source": [
    "## Preprocess all the data and save it\n",
    "Running the code cell below will preprocess all the CIFAR-10 data and save it to file. The code below also uses 10% of the training data for validation."
   ]
  },
  {
   "cell_type": "code",
   "execution_count": 5,
   "metadata": {
    "collapsed": false,
    "deletable": true,
    "editable": true
   },
   "outputs": [],
   "source": [
    "\"\"\"\n",
    "DON'T MODIFY ANYTHING IN THIS CELL\n",
    "\"\"\"\n",
    "# Preprocess Training, Validation, and Testing Data\n",
    "helper.preprocess_and_save_data(cifar10_dataset_folder_path, normalize, one_hot_encode)"
   ]
  },
  {
   "cell_type": "markdown",
   "metadata": {
    "deletable": true,
    "editable": true
   },
   "source": [
    "# Check Point\n",
    "This is your first checkpoint.  If you ever decide to come back to this notebook or have to restart the notebook, you can start from here.  The preprocessed data has been saved to disk."
   ]
  },
  {
   "cell_type": "code",
   "execution_count": 6,
   "metadata": {
    "collapsed": true,
    "deletable": true,
    "editable": true
   },
   "outputs": [],
   "source": [
    "\"\"\"\n",
    "DON'T MODIFY ANYTHING IN THIS CELL\n",
    "\"\"\"\n",
    "import pickle\n",
    "import problem_unittests as tests\n",
    "import helper\n",
    "\n",
    "# Load the Preprocessed Validation data\n",
    "valid_features, valid_labels = pickle.load(open('preprocess_validation.p', mode='rb'))"
   ]
  },
  {
   "cell_type": "markdown",
   "metadata": {
    "deletable": true,
    "editable": true
   },
   "source": [
    "## Build the network\n",
    "For the neural network, you'll build each layer into a function.  Most of the code you've seen has been outside of functions. To test your code more thoroughly, we require that you put each layer in a function.  This allows us to give you better feedback and test for simple mistakes using our unittests before you submit your project.\n",
    "\n",
    ">**Note:** If you're finding it hard to dedicate enough time for this course each week, we've provided a small shortcut to this part of the project. In the next couple of problems, you'll have the option to use classes from the [TensorFlow Layers](https://www.tensorflow.org/api_docs/python/tf/layers) or [TensorFlow Layers (contrib)](https://www.tensorflow.org/api_guides/python/contrib.layers) packages to build each layer, except the layers you build in the \"Convolutional and Max Pooling Layer\" section.  TF Layers is similar to Keras's and TFLearn's abstraction to layers, so it's easy to pickup.\n",
    "\n",
    ">However, if you would like to get the most out of this course, try to solve all the problems _without_ using anything from the TF Layers packages. You **can** still use classes from other packages that happen to have the same name as ones you find in TF Layers! For example, instead of using the TF Layers version of the `conv2d` class, [tf.layers.conv2d](https://www.tensorflow.org/api_docs/python/tf/layers/conv2d), you would want to use the TF Neural Network version of `conv2d`, [tf.nn.conv2d](https://www.tensorflow.org/api_docs/python/tf/nn/conv2d). \n",
    "\n",
    "Let's begin!\n",
    "\n",
    "### Input\n",
    "The neural network needs to read the image data, one-hot encoded labels, and dropout keep probability. Implement the following functions\n",
    "* Implement `neural_net_image_input`\n",
    " * Return a [TF Placeholder](https://www.tensorflow.org/api_docs/python/tf/placeholder)\n",
    " * Set the shape using `image_shape` with batch size set to `None`.\n",
    " * Name the TensorFlow placeholder \"x\" using the TensorFlow `name` parameter in the [TF Placeholder](https://www.tensorflow.org/api_docs/python/tf/placeholder).\n",
    "* Implement `neural_net_label_input`\n",
    " * Return a [TF Placeholder](https://www.tensorflow.org/api_docs/python/tf/placeholder)\n",
    " * Set the shape using `n_classes` with batch size set to `None`.\n",
    " * Name the TensorFlow placeholder \"y\" using the TensorFlow `name` parameter in the [TF Placeholder](https://www.tensorflow.org/api_docs/python/tf/placeholder).\n",
    "* Implement `neural_net_keep_prob_input`\n",
    " * Return a [TF Placeholder](https://www.tensorflow.org/api_docs/python/tf/placeholder) for dropout keep probability.\n",
    " * Name the TensorFlow placeholder \"keep_prob\" using the TensorFlow `name` parameter in the [TF Placeholder](https://www.tensorflow.org/api_docs/python/tf/placeholder).\n",
    "\n",
    "These names will be used at the end of the project to load your saved model.\n",
    "\n",
    "Note: `None` for shapes in TensorFlow allow for a dynamic size."
   ]
  },
  {
   "cell_type": "code",
   "execution_count": 7,
   "metadata": {
    "collapsed": false,
    "deletable": true,
    "editable": true
   },
   "outputs": [
    {
     "name": "stdout",
     "output_type": "stream",
     "text": [
      "Image Input Tests Passed.\n",
      "Label Input Tests Passed.\n",
      "Keep Prob Tests Passed.\n"
     ]
    }
   ],
   "source": [
    "import tensorflow as tf\n",
    "\n",
    "def neural_net_image_input(image_shape):\n",
    "    \"\"\"\n",
    "    Return a Tensor for a bach of image input\n",
    "    : image_shape: Shape of the images\n",
    "    : return: Tensor for image input.\n",
    "    \"\"\"\n",
    "    return tf.placeholder(tf.float32,shape=[None,image_shape[0],image_shape[1],image_shape[2]], name='x')\n",
    "         \n",
    "\n",
    "\n",
    "def neural_net_label_input(n_classes):\n",
    "    \"\"\"\n",
    "    Return a Tensor for a batch of label input\n",
    "    : n_classes: Number of classes\n",
    "    : return: Tensor for label input.\n",
    "    \"\"\"\n",
    "    return tf.placeholder(tf.float32,shape=[None, n_classes], name='y')\n",
    "     \n",
    "\n",
    "\n",
    "def neural_net_keep_prob_input():\n",
    "    \"\"\"\n",
    "    Return a Tensor for keep probability\n",
    "    : return: Tensor for keep probability.\n",
    "    \"\"\"\n",
    "    return tf.placeholder(tf.float32, shape=None, name='keep_prob')\n",
    "    \n",
    "\n",
    "\n",
    "\"\"\"\n",
    "DON'T MODIFY ANYTHING IN THIS CELL THAT IS BELOW THIS LINE\n",
    "\"\"\"\n",
    "tf.reset_default_graph()\n",
    "tests.test_nn_image_inputs(neural_net_image_input)\n",
    "tests.test_nn_label_inputs(neural_net_label_input)\n",
    "tests.test_nn_keep_prob_inputs(neural_net_keep_prob_input)"
   ]
  },
  {
   "cell_type": "markdown",
   "metadata": {
    "deletable": true,
    "editable": true
   },
   "source": [
    "### Convolution and Max Pooling Layer\n",
    "Convolution layers have a lot of success with images. For this code cell, you should implement the function `conv2d_maxpool` to apply convolution then max pooling:\n",
    "* Create the weight and bias using `conv_ksize`, `conv_num_outputs` and the shape of `x_tensor`.\n",
    "* Apply a convolution to `x_tensor` using weight and `conv_strides`.\n",
    " * We recommend you use same padding, but you're welcome to use any padding.\n",
    "* Add bias\n",
    "* Add a nonlinear activation to the convolution.\n",
    "* Apply Max Pooling using `pool_ksize` and `pool_strides`.\n",
    " * We recommend you use same padding, but you're welcome to use any padding.\n",
    "\n",
    "**Note:** You **can't** use [TensorFlow Layers](https://www.tensorflow.org/api_docs/python/tf/layers) or [TensorFlow Layers (contrib)](https://www.tensorflow.org/api_guides/python/contrib.layers) for **this** layer, but you can still use TensorFlow's [Neural Network](https://www.tensorflow.org/api_docs/python/tf/nn) package. You may still use the shortcut option for all the **other** layers."
   ]
  },
  {
   "cell_type": "code",
   "execution_count": 8,
   "metadata": {
    "collapsed": false,
    "deletable": true,
    "editable": true
   },
   "outputs": [
    {
     "name": "stdout",
     "output_type": "stream",
     "text": [
      "Tests Passed\n"
     ]
    }
   ],
   "source": [
    "def conv2d_maxpool(x_tensor, conv_num_outputs, conv_ksize, conv_strides, pool_ksize, pool_strides):\n",
    "    \"\"\"\n",
    "    Apply convolution then max pooling to x_tensor\n",
    "    :param x_tensor: TensorFlow Tensor\n",
    "    :param conv_num_outputs: Number of outputs for the convolutional layer\n",
    "    :param conv_ksize: kernal size 2-D Tuple for the convolutional layer\n",
    "    :param conv_strides: Stride 2-D Tuple for convolution\n",
    "    :param pool_ksize: kernal size 2-D Tuple for pool\n",
    "    :param pool_strides: Stride 2-D Tuple for pool\n",
    "    : return: A tensor that represents convolution and max pooling of x_tensor\n",
    "    \"\"\"\n",
    "    # TODO: Implement Function\n",
    "    depth = int(x_tensor.get_shape().as_list()[3])\n",
    "    weights = tf.Variable(tf.truncated_normal([conv_ksize[0],conv_ksize[1],depth,conv_num_outputs], stddev=0.05))\n",
    "    bias = tf.Variable(tf.zeros([conv_num_outputs]))\n",
    "    \n",
    "    # Convolutional layer + Maxpooling layer\n",
    "    conv_layer = tf.nn.conv2d(x_tensor, weights, strides=[1,conv_strides[0],conv_strides[1], 1], padding='SAME')\n",
    "    conv_layer = tf.nn.bias_add(conv_layer, bias)\n",
    "    conv_layer = tf.nn.relu(conv_layer)\n",
    "    conv_layer = tf.nn.max_pool(conv_layer, ksize=[1, pool_ksize[0], pool_ksize[1],1], strides=[1, pool_strides[0], pool_strides[1], 1], padding=\"SAME\")\n",
    "    return conv_layer\n",
    "\n",
    "\n",
    "\n",
    "\n",
    "\"\"\"\n",
    "DON'T MODIFY ANYTHING IN THIS CELL THAT IS BELOW THIS LINE\n",
    "\"\"\"\n",
    "tests.test_con_pool(conv2d_maxpool)"
   ]
  },
  {
   "cell_type": "markdown",
   "metadata": {
    "deletable": true,
    "editable": true
   },
   "source": [
    "### Flatten Layer\n",
    "Implement the `flatten` function to change the dimension of `x_tensor` from a 4-D tensor to a 2-D tensor.  The output should be the shape (*Batch Size*, *Flattened Image Size*). Shortcut option: you can use classes from the [TensorFlow Layers](https://www.tensorflow.org/api_docs/python/tf/layers) or [TensorFlow Layers (contrib)](https://www.tensorflow.org/api_guides/python/contrib.layers) packages for this layer. For more of a challenge, only use other TensorFlow packages."
   ]
  },
  {
   "cell_type": "code",
   "execution_count": 9,
   "metadata": {
    "collapsed": false,
    "deletable": true,
    "editable": true
   },
   "outputs": [
    {
     "name": "stdout",
     "output_type": "stream",
     "text": [
      "Tests Passed\n"
     ]
    }
   ],
   "source": [
    "def flatten(x_tensor):\n",
    "    \"\"\"\n",
    "    Flatten x_tensor to (Batch Size, Flattened Image Size)\n",
    "    : x_tensor: A tensor of size (Batch Size, ...), where ... are the image dimensions.\n",
    "    : return: A tensor of size (Batch Size, Flattened Image Size).\n",
    "    \"\"\"\n",
    "    # Storing the dimensions of the tensor as a list into a variable to make it easily accessible.\n",
    "    list_dim = x_tensor.get_shape().as_list()\n",
    "    # Here the reshape function returns a tensor of reduced dimensionality, 2-D in this case with batch size as none.\n",
    "    flattened_tensor = tf.reshape(x_tensor, [-1, list_dim[1]*list_dim[2]*list_dim[3]])\n",
    "    return flattened_tensor\n",
    "\n",
    "\n",
    "\"\"\"\n",
    "DON'T MODIFY ANYTHING IN THIS CELL THAT IS BELOW THIS LINE\n",
    "\"\"\"\n",
    "tests.test_flatten(flatten)"
   ]
  },
  {
   "cell_type": "markdown",
   "metadata": {
    "deletable": true,
    "editable": true
   },
   "source": [
    "### Fully-Connected Layer\n",
    "Implement the `fully_conn` function to apply a fully connected layer to `x_tensor` with the shape (*Batch Size*, *num_outputs*). Shortcut option: you can use classes from the [TensorFlow Layers](https://www.tensorflow.org/api_docs/python/tf/layers) or [TensorFlow Layers (contrib)](https://www.tensorflow.org/api_guides/python/contrib.layers) packages for this layer. For more of a challenge, only use other TensorFlow packages."
   ]
  },
  {
   "cell_type": "code",
   "execution_count": 10,
   "metadata": {
    "collapsed": false,
    "deletable": true,
    "editable": true
   },
   "outputs": [
    {
     "name": "stdout",
     "output_type": "stream",
     "text": [
      "Tests Passed\n"
     ]
    }
   ],
   "source": [
    "def fully_conn(x_tensor, num_outputs):\n",
    "    \"\"\"\n",
    "    Apply a fully connected layer to x_tensor using weight and bias\n",
    "    : x_tensor: A 2-D tensor where the first dimension is batch size.\n",
    "    : num_outputs: The number of output that the new tensor should be.\n",
    "    : return: A 2-D tensor where the second dimension is num_outputs.\n",
    "    \"\"\"\n",
    "    dimension = x_tensor.get_shape().as_list()[1]\n",
    "    # Here I'm defining separate weights and bias for the fully connected layer..these weights live inside of this function.\n",
    "    weights_full = tf.Variable(tf.truncated_normal([dimension, num_outputs], stddev = 0.05))\n",
    "    bias_full = tf.Variable(tf.zeros([num_outputs]))\n",
    "    # This is a regular hidden layer with weights and biases.\n",
    "    fully_connected = tf.add(tf.matmul(x_tensor, weights_full),bias_full)\n",
    "    fully_connected = tf.nn.relu(fully_connected)\n",
    "    return fully_connected\n",
    "\n",
    "\n",
    "\"\"\"\n",
    "DON'T MODIFY ANYTHING IN THIS CELL THAT IS BELOW THIS LINE\n",
    "\"\"\"\n",
    "tests.test_fully_conn(fully_conn)"
   ]
  },
  {
   "cell_type": "markdown",
   "metadata": {
    "deletable": true,
    "editable": true
   },
   "source": [
    "### Output Layer\n",
    "Implement the `output` function to apply a fully connected layer to `x_tensor` with the shape (*Batch Size*, *num_outputs*). Shortcut option: you can use classes from the [TensorFlow Layers](https://www.tensorflow.org/api_docs/python/tf/layers) or [TensorFlow Layers (contrib)](https://www.tensorflow.org/api_guides/python/contrib.layers) packages for this layer. For more of a challenge, only use other TensorFlow packages.\n",
    "\n",
    "**Note:** Activation, softmax, or cross entropy should **not** be applied to this."
   ]
  },
  {
   "cell_type": "code",
   "execution_count": 11,
   "metadata": {
    "collapsed": false,
    "deletable": true,
    "editable": true
   },
   "outputs": [
    {
     "name": "stdout",
     "output_type": "stream",
     "text": [
      "Tests Passed\n"
     ]
    }
   ],
   "source": [
    "def output(x_tensor, num_outputs):\n",
    "    \"\"\"\n",
    "    Apply a output layer to x_tensor using weight and bias\n",
    "    : x_tensor: A 2-D tensor where the first dimension is batch size.\n",
    "    : num_outputs: The number of output that the new tensor should be.\n",
    "    : return: A 2-D tensor where the second dimension is num_outputs.\n",
    "    \"\"\"\n",
    "    new_dimension = x_tensor.get_shape().as_list()[1]\n",
    "    # This is very similar to the fully connected layer.\n",
    "    weights_out = tf.Variable(tf.truncated_normal([new_dimension, num_outputs], stddev = 0.05))\n",
    "    bias_out = tf.Variable(tf.zeros([num_outputs]))\n",
    "    #Implementing the output layer.\n",
    "    output_layer = tf.add(tf.matmul(x_tensor, weights_out), bias_out)\n",
    "    return output_layer\n",
    "\n",
    "\n",
    "\"\"\"\n",
    "DON'T MODIFY ANYTHING IN THIS CELL THAT IS BELOW THIS LINE\n",
    "\"\"\"\n",
    "tests.test_output(output)"
   ]
  },
  {
   "cell_type": "markdown",
   "metadata": {
    "deletable": true,
    "editable": true
   },
   "source": [
    "### Create Convolutional Model\n",
    "Implement the function `conv_net` to create a convolutional neural network model. The function takes in a batch of images, `x`, and outputs logits.  Use the layers you created above to create this model:\n",
    "\n",
    "* Apply 1, 2, or 3 Convolution and Max Pool layers\n",
    "* Apply a Flatten Layer\n",
    "* Apply 1, 2, or 3 Fully Connected Layers\n",
    "* Apply an Output Layer\n",
    "* Return the output\n",
    "* Apply [TensorFlow's Dropout](https://www.tensorflow.org/api_docs/python/tf/nn/dropout) to one or more layers in the model using `keep_prob`. "
   ]
  },
  {
   "cell_type": "code",
   "execution_count": 12,
   "metadata": {
    "collapsed": false,
    "deletable": true,
    "editable": true
   },
   "outputs": [
    {
     "name": "stdout",
     "output_type": "stream",
     "text": [
      "Neural Network Built!\n"
     ]
    }
   ],
   "source": [
    "def conv_net(x, keep_prob):\n",
    "    \"\"\"\n",
    "    Create a convolutional neural network model\n",
    "    : x: Placeholder tensor that holds image data.\n",
    "    : keep_prob: Placeholder tensor that hold dropout keep probability.\n",
    "    : return: Tensor that represents logits\n",
    "    \"\"\"\n",
    "    conv_ksize = (3,3)\n",
    "    conv_strides = (1,1)\n",
    "    pool_ksize = (3,3)\n",
    "    pool_strides = (2,2)\n",
    "    keep_prob = 0.5\n",
    "    \n",
    "    # The first three convolutional + maxpooling layers\n",
    "    neural_net = conv2d_maxpool(x, 54, (5,5), (1,1), (2,2), (1,1))\n",
    "    neural_net = conv2d_maxpool(neural_net, 64, (1,1), (2,2), (4,4), (2,2))\n",
    "    neural_net = conv2d_maxpool(neural_net, 72, (2,2), (1,1), (2,2), (1,1))\n",
    "\n",
    "    # Layer to flatten the tensor from the convolutional layers\n",
    "    neural_net = flatten(neural_net)\n",
    "    \n",
    "    # Two fully connected layers with dropout\n",
    "    neural_net = fully_conn(neural_net, 1024)\n",
    "    neural_net = tf.nn.dropout(neural_net, keep_prob)\n",
    "    neural_net = fully_conn(neural_net, 1024)\n",
    "    neural_net = tf.nn.dropout(neural_net, keep_prob)\n",
    "    neural_net = fully_conn(neural_net, 1024)\n",
    "    \n",
    "    # Layer for output\n",
    "    neural_net = output(neural_net, 10)\n",
    "    \n",
    "    # TODO: return output\n",
    "    return neural_net\n",
    "\n",
    "\n",
    "\"\"\"\n",
    "DON'T MODIFY ANYTHING IN THIS CELL THAT IS BELOW THIS LINE\n",
    "\"\"\"\n",
    "\n",
    "##############################\n",
    "## Build the Neural Network ##\n",
    "##############################\n",
    "\n",
    "# Remove previous weights, bias, inputs, etc..\n",
    "tf.reset_default_graph()\n",
    "\n",
    "# Inputs\n",
    "x = neural_net_image_input((32, 32, 3))\n",
    "y = neural_net_label_input(10)\n",
    "keep_prob = neural_net_keep_prob_input()\n",
    "\n",
    "# Model\n",
    "logits = conv_net(x, keep_prob)\n",
    "\n",
    "# Name logits Tensor, so that is can be loaded from disk after training\n",
    "logits = tf.identity(logits, name='logits')\n",
    "\n",
    "# Loss and Optimizer\n",
    "cost = tf.reduce_mean(tf.nn.softmax_cross_entropy_with_logits(logits=logits, labels=y))\n",
    "optimizer = tf.train.AdamOptimizer().minimize(cost)\n",
    "\n",
    "# Accuracy\n",
    "correct_pred = tf.equal(tf.argmax(logits, 1), tf.argmax(y, 1))\n",
    "accuracy = tf.reduce_mean(tf.cast(correct_pred, tf.float32), name='accuracy')\n",
    "\n",
    "tests.test_conv_net(conv_net)"
   ]
  },
  {
   "cell_type": "markdown",
   "metadata": {
    "deletable": true,
    "editable": true
   },
   "source": [
    "## Train the Neural Network\n",
    "### Single Optimization\n",
    "Implement the function `train_neural_network` to do a single optimization.  The optimization should use `optimizer` to optimize in `session` with a `feed_dict` of the following:\n",
    "* `x` for image input\n",
    "* `y` for labels\n",
    "* `keep_prob` for keep probability for dropout\n",
    "\n",
    "This function will be called for each batch, so `tf.global_variables_initializer()` has already been called.\n",
    "\n",
    "Note: Nothing needs to be returned. This function is only optimizing the neural network."
   ]
  },
  {
   "cell_type": "code",
   "execution_count": 13,
   "metadata": {
    "collapsed": false,
    "deletable": true,
    "editable": true
   },
   "outputs": [
    {
     "name": "stdout",
     "output_type": "stream",
     "text": [
      "Tests Passed\n"
     ]
    }
   ],
   "source": [
    "def train_neural_network(session, optimizer, keep_probability, feature_batch, label_batch):\n",
    "    \"\"\"\n",
    "    Optimize the session on a batch of images and labels\n",
    "    : session: Current TensorFlow session\n",
    "    : optimizer: TensorFlow optimizer function\n",
    "    : keep_probability: keep probability\n",
    "    : feature_batch: Batch of Numpy image data\n",
    "    : label_batch: Batch of Numpy label data\n",
    "    \"\"\"\n",
    "    # Optimizing the neural network\n",
    "    session.run(optimizer, feed_dict={x:feature_batch, y:label_batch, keep_prob:keep_probability})\n",
    "    pass\n",
    "\n",
    "\n",
    "\"\"\"\n",
    "DON'T MODIFY ANYTHING IN THIS CELL THAT IS BELOW THIS LINE\n",
    "\"\"\"\n",
    "tests.test_train_nn(train_neural_network)"
   ]
  },
  {
   "cell_type": "markdown",
   "metadata": {
    "deletable": true,
    "editable": true
   },
   "source": [
    "### Show Stats\n",
    "Implement the function `print_stats` to print loss and validation accuracy.  Use the global variables `valid_features` and `valid_labels` to calculate validation accuracy.  Use a keep probability of `1.0` to calculate the loss and validation accuracy."
   ]
  },
  {
   "cell_type": "code",
   "execution_count": 14,
   "metadata": {
    "collapsed": false,
    "deletable": true,
    "editable": true
   },
   "outputs": [],
   "source": [
    "def print_stats(session, feature_batch, label_batch, cost, accuracy):\n",
    "    \"\"\"\n",
    "    Print information about loss and validation accuracy\n",
    "    : session: Current TensorFlow session\n",
    "    : feature_batch: Batch of Numpy image data\n",
    "    : label_batch: Batch of Numpy label data\n",
    "    : cost: TensorFlow cost function\n",
    "    : accuracy: TensorFlow accuracy function\n",
    "    \"\"\"\n",
    "   # Calculating loss and validation accuracy.\n",
    "    loss = sess.run(cost, feed_dict={x: feature_batch, y: label_batch, keep_prob: 1.})\n",
    "    valid_acc = sess.run(accuracy, feed_dict={\n",
    "                x: valid_features,\n",
    "                y: valid_labels,\n",
    "                keep_prob: 1.})\n",
    "    print(\"loss\", loss, \"valid_acc\", valid_acc)\n",
    "    pass"
   ]
  },
  {
   "cell_type": "markdown",
   "metadata": {
    "deletable": true,
    "editable": true
   },
   "source": [
    "### Hyperparameters\n",
    "Tune the following parameters:\n",
    "* Set `epochs` to the number of iterations until the network stops learning or start overfitting\n",
    "* Set `batch_size` to the highest number that your machine has memory for.  Most people set them to common sizes of memory:\n",
    " * 64\n",
    " * 128\n",
    " * 256\n",
    " * ...\n",
    "* Set `keep_probability` to the probability of keeping a node using dropout"
   ]
  },
  {
   "cell_type": "code",
   "execution_count": 15,
   "metadata": {
    "collapsed": true,
    "deletable": true,
    "editable": true
   },
   "outputs": [],
   "source": [
    "# TODO: Tune Parameters\n",
    "epochs = 30\n",
    "batch_size = 128\n",
    "keep_probability = 0.5"
   ]
  },
  {
   "cell_type": "markdown",
   "metadata": {
    "deletable": true,
    "editable": true
   },
   "source": [
    "### Train on a Single CIFAR-10 Batch\n",
    "Instead of training the neural network on all the CIFAR-10 batches of data, let's use a single batch. This should save time while you iterate on the model to get a better accuracy.  Once the final validation accuracy is 50% or greater, run the model on all the data in the next section."
   ]
  },
  {
   "cell_type": "code",
   "execution_count": 16,
   "metadata": {
    "collapsed": false,
    "deletable": true,
    "editable": true
   },
   "outputs": [
    {
     "name": "stdout",
     "output_type": "stream",
     "text": [
      "Checking the Training on a Single Batch...\n",
      "Epoch  1, CIFAR-10 Batch 1:  loss 1.94547 valid_acc 0.3116\n",
      "Epoch  2, CIFAR-10 Batch 1:  loss 1.72733 valid_acc 0.392\n",
      "Epoch  3, CIFAR-10 Batch 1:  loss 1.50792 valid_acc 0.447\n",
      "Epoch  4, CIFAR-10 Batch 1:  loss 1.3283 valid_acc 0.4622\n",
      "Epoch  5, CIFAR-10 Batch 1:  loss 1.26325 valid_acc 0.5016\n",
      "Epoch  6, CIFAR-10 Batch 1:  loss 1.13392 valid_acc 0.5148\n",
      "Epoch  7, CIFAR-10 Batch 1:  loss 1.02557 valid_acc 0.4998\n",
      "Epoch  8, CIFAR-10 Batch 1:  loss 0.927588 valid_acc 0.5164\n",
      "Epoch  9, CIFAR-10 Batch 1:  loss 0.821217 valid_acc 0.5292\n",
      "Epoch 10, CIFAR-10 Batch 1:  loss 0.72041 valid_acc 0.54\n",
      "Epoch 11, CIFAR-10 Batch 1:  loss 0.924396 valid_acc 0.5362\n",
      "Epoch 12, CIFAR-10 Batch 1:  loss 0.664479 valid_acc 0.5262\n",
      "Epoch 13, CIFAR-10 Batch 1:  loss 0.516927 valid_acc 0.5372\n",
      "Epoch 14, CIFAR-10 Batch 1:  loss 0.503722 valid_acc 0.5406\n",
      "Epoch 15, CIFAR-10 Batch 1:  loss 0.400349 valid_acc 0.524\n",
      "Epoch 16, CIFAR-10 Batch 1:  loss 0.369632 valid_acc 0.538\n",
      "Epoch 17, CIFAR-10 Batch 1:  loss 0.300739 valid_acc 0.5566\n",
      "Epoch 18, CIFAR-10 Batch 1:  loss 0.259441 valid_acc 0.5564\n",
      "Epoch 19, CIFAR-10 Batch 1:  loss 0.256511 valid_acc 0.5448\n",
      "Epoch 20, CIFAR-10 Batch 1:  loss 0.274456 valid_acc 0.5458\n",
      "Epoch 21, CIFAR-10 Batch 1:  loss 0.298978 valid_acc 0.5522\n",
      "Epoch 22, CIFAR-10 Batch 1:  loss 0.301676 valid_acc 0.5334\n",
      "Epoch 23, CIFAR-10 Batch 1:  loss 0.25946 valid_acc 0.5356\n",
      "Epoch 24, CIFAR-10 Batch 1:  loss 0.251261 valid_acc 0.548\n",
      "Epoch 25, CIFAR-10 Batch 1:  loss 0.122684 valid_acc 0.5484\n",
      "Epoch 26, CIFAR-10 Batch 1:  loss 0.169286 valid_acc 0.5458\n",
      "Epoch 27, CIFAR-10 Batch 1:  loss 0.247076 valid_acc 0.5444\n",
      "Epoch 28, CIFAR-10 Batch 1:  loss 0.0677481 valid_acc 0.5466\n",
      "Epoch 29, CIFAR-10 Batch 1:  loss 0.073961 valid_acc 0.554\n",
      "Epoch 30, CIFAR-10 Batch 1:  loss 0.10859 valid_acc 0.5502\n"
     ]
    }
   ],
   "source": [
    "\"\"\"\n",
    "DON'T MODIFY ANYTHING IN THIS CELL\n",
    "\"\"\"\n",
    "print('Checking the Training on a Single Batch...')\n",
    "with tf.Session() as sess:\n",
    "    # Initializing the variables\n",
    "    sess.run(tf.global_variables_initializer())\n",
    "    \n",
    "    # Training cycle\n",
    "    for epoch in range(epochs):\n",
    "        batch_i = 1\n",
    "        for batch_features, batch_labels in helper.load_preprocess_training_batch(batch_i, batch_size):\n",
    "            train_neural_network(sess, optimizer, keep_probability, batch_features, batch_labels)\n",
    "        print('Epoch {:>2}, CIFAR-10 Batch {}:  '.format(epoch + 1, batch_i), end='')\n",
    "        print_stats(sess, batch_features, batch_labels, cost, accuracy)"
   ]
  },
  {
   "cell_type": "markdown",
   "metadata": {
    "deletable": true,
    "editable": true
   },
   "source": [
    "### Fully Train the Model\n",
    "Now that you got a good accuracy with a single CIFAR-10 batch, try it with all five batches."
   ]
  },
  {
   "cell_type": "code",
   "execution_count": 17,
   "metadata": {
    "collapsed": false,
    "deletable": true,
    "editable": true
   },
   "outputs": [
    {
     "name": "stdout",
     "output_type": "stream",
     "text": [
      "Training...\n",
      "Epoch  1, CIFAR-10 Batch 1:  loss 1.97181 valid_acc 0.3444\n",
      "Epoch  1, CIFAR-10 Batch 2:  loss 1.58865 valid_acc 0.3984\n",
      "Epoch  1, CIFAR-10 Batch 3:  loss 1.38553 valid_acc 0.4376\n",
      "Epoch  1, CIFAR-10 Batch 4:  loss 1.37326 valid_acc 0.477\n",
      "Epoch  1, CIFAR-10 Batch 5:  loss 1.56013 valid_acc 0.5002\n",
      "Epoch  2, CIFAR-10 Batch 1:  loss 1.35451 valid_acc 0.4938\n",
      "Epoch  2, CIFAR-10 Batch 2:  loss 1.20484 valid_acc 0.5106\n",
      "Epoch  2, CIFAR-10 Batch 3:  loss 1.06329 valid_acc 0.5186\n",
      "Epoch  2, CIFAR-10 Batch 4:  loss 1.06924 valid_acc 0.5546\n",
      "Epoch  2, CIFAR-10 Batch 5:  loss 1.04626 valid_acc 0.5618\n",
      "Epoch  3, CIFAR-10 Batch 1:  loss 1.16085 valid_acc 0.5406\n",
      "Epoch  3, CIFAR-10 Batch 2:  loss 0.908793 valid_acc 0.5534\n",
      "Epoch  3, CIFAR-10 Batch 3:  loss 0.890353 valid_acc 0.5618\n",
      "Epoch  3, CIFAR-10 Batch 4:  loss 0.793386 valid_acc 0.5952\n",
      "Epoch  3, CIFAR-10 Batch 5:  loss 0.916791 valid_acc 0.5946\n",
      "Epoch  4, CIFAR-10 Batch 1:  loss 1.01263 valid_acc 0.6006\n",
      "Epoch  4, CIFAR-10 Batch 2:  loss 0.679652 valid_acc 0.5818\n",
      "Epoch  4, CIFAR-10 Batch 3:  loss 0.72294 valid_acc 0.6042\n",
      "Epoch  4, CIFAR-10 Batch 4:  loss 0.773393 valid_acc 0.6146\n",
      "Epoch  4, CIFAR-10 Batch 5:  loss 0.814647 valid_acc 0.6234\n",
      "Epoch  5, CIFAR-10 Batch 1:  loss 0.809469 valid_acc 0.63\n",
      "Epoch  5, CIFAR-10 Batch 2:  loss 0.623123 valid_acc 0.6274\n",
      "Epoch  5, CIFAR-10 Batch 3:  loss 0.572463 valid_acc 0.6362\n",
      "Epoch  5, CIFAR-10 Batch 4:  loss 0.6601 valid_acc 0.6434\n",
      "Epoch  5, CIFAR-10 Batch 5:  loss 0.629243 valid_acc 0.6466\n",
      "Epoch  6, CIFAR-10 Batch 1:  loss 0.672706 valid_acc 0.6446\n",
      "Epoch  6, CIFAR-10 Batch 2:  loss 0.631198 valid_acc 0.6294\n",
      "Epoch  6, CIFAR-10 Batch 3:  loss 0.488585 valid_acc 0.6452\n",
      "Epoch  6, CIFAR-10 Batch 4:  loss 0.633572 valid_acc 0.6576\n",
      "Epoch  6, CIFAR-10 Batch 5:  loss 0.694422 valid_acc 0.6576\n",
      "Epoch  7, CIFAR-10 Batch 1:  loss 0.64771 valid_acc 0.6494\n",
      "Epoch  7, CIFAR-10 Batch 2:  loss 0.536069 valid_acc 0.6514\n",
      "Epoch  7, CIFAR-10 Batch 3:  loss 0.424715 valid_acc 0.6704\n",
      "Epoch  7, CIFAR-10 Batch 4:  loss 0.522129 valid_acc 0.6444\n",
      "Epoch  7, CIFAR-10 Batch 5:  loss 0.468636 valid_acc 0.6448\n",
      "Epoch  8, CIFAR-10 Batch 1:  loss 0.554649 valid_acc 0.6678\n",
      "Epoch  8, CIFAR-10 Batch 2:  loss 0.546363 valid_acc 0.66\n",
      "Epoch  8, CIFAR-10 Batch 3:  loss 0.475654 valid_acc 0.6504\n",
      "Epoch  8, CIFAR-10 Batch 4:  loss 0.395567 valid_acc 0.6682\n",
      "Epoch  8, CIFAR-10 Batch 5:  loss 0.487147 valid_acc 0.6602\n",
      "Epoch  9, CIFAR-10 Batch 1:  loss 0.514073 valid_acc 0.6692\n",
      "Epoch  9, CIFAR-10 Batch 2:  loss 0.434055 valid_acc 0.6556\n",
      "Epoch  9, CIFAR-10 Batch 3:  loss 0.406015 valid_acc 0.6514\n",
      "Epoch  9, CIFAR-10 Batch 4:  loss 0.446615 valid_acc 0.669\n",
      "Epoch  9, CIFAR-10 Batch 5:  loss 0.439448 valid_acc 0.6356\n",
      "Epoch 10, CIFAR-10 Batch 1:  loss 0.525101 valid_acc 0.6678\n",
      "Epoch 10, CIFAR-10 Batch 2:  loss 0.403538 valid_acc 0.6574\n",
      "Epoch 10, CIFAR-10 Batch 3:  loss 0.341752 valid_acc 0.65\n",
      "Epoch 10, CIFAR-10 Batch 4:  loss 0.341114 valid_acc 0.6956\n",
      "Epoch 10, CIFAR-10 Batch 5:  loss 0.38447 valid_acc 0.6472\n",
      "Epoch 11, CIFAR-10 Batch 1:  loss 0.563863 valid_acc 0.6762\n",
      "Epoch 11, CIFAR-10 Batch 2:  loss 0.286935 valid_acc 0.6624\n",
      "Epoch 11, CIFAR-10 Batch 3:  loss 0.261439 valid_acc 0.6694\n",
      "Epoch 11, CIFAR-10 Batch 4:  loss 0.328677 valid_acc 0.6822\n",
      "Epoch 11, CIFAR-10 Batch 5:  loss 0.352992 valid_acc 0.6674\n",
      "Epoch 12, CIFAR-10 Batch 1:  loss 0.536728 valid_acc 0.6734\n",
      "Epoch 12, CIFAR-10 Batch 2:  loss 0.296233 valid_acc 0.6572\n",
      "Epoch 12, CIFAR-10 Batch 3:  loss 0.308862 valid_acc 0.6732\n",
      "Epoch 12, CIFAR-10 Batch 4:  loss 0.282387 valid_acc 0.6776\n",
      "Epoch 12, CIFAR-10 Batch 5:  loss 0.287907 valid_acc 0.64\n",
      "Epoch 13, CIFAR-10 Batch 1:  loss 0.330001 valid_acc 0.6696\n",
      "Epoch 13, CIFAR-10 Batch 2:  loss 0.299258 valid_acc 0.6566\n",
      "Epoch 13, CIFAR-10 Batch 3:  loss 0.230446 valid_acc 0.6866\n",
      "Epoch 13, CIFAR-10 Batch 4:  loss 0.288623 valid_acc 0.6894\n",
      "Epoch 13, CIFAR-10 Batch 5:  loss 0.293078 valid_acc 0.6692\n",
      "Epoch 14, CIFAR-10 Batch 1:  loss 0.372353 valid_acc 0.6852\n",
      "Epoch 14, CIFAR-10 Batch 2:  loss 0.27856 valid_acc 0.6518\n",
      "Epoch 14, CIFAR-10 Batch 3:  loss 0.216166 valid_acc 0.6706\n",
      "Epoch 14, CIFAR-10 Batch 4:  loss 0.294659 valid_acc 0.6654\n",
      "Epoch 14, CIFAR-10 Batch 5:  loss 0.217881 valid_acc 0.657\n",
      "Epoch 15, CIFAR-10 Batch 1:  loss 0.237217 valid_acc 0.6712\n",
      "Epoch 15, CIFAR-10 Batch 2:  loss 0.192776 valid_acc 0.6672\n",
      "Epoch 15, CIFAR-10 Batch 3:  loss 0.130921 valid_acc 0.6712\n",
      "Epoch 15, CIFAR-10 Batch 4:  loss 0.152719 valid_acc 0.6742\n",
      "Epoch 15, CIFAR-10 Batch 5:  loss 0.215767 valid_acc 0.6742\n",
      "Epoch 16, CIFAR-10 Batch 1:  loss 0.219246 valid_acc 0.6858\n",
      "Epoch 16, CIFAR-10 Batch 2:  loss 0.164806 valid_acc 0.6598\n",
      "Epoch 16, CIFAR-10 Batch 3:  loss 0.173052 valid_acc 0.667\n",
      "Epoch 16, CIFAR-10 Batch 4:  loss 0.188806 valid_acc 0.6724\n",
      "Epoch 16, CIFAR-10 Batch 5:  loss 0.190845 valid_acc 0.6716\n",
      "Epoch 17, CIFAR-10 Batch 1:  loss 0.181171 valid_acc 0.6662\n",
      "Epoch 17, CIFAR-10 Batch 2:  loss 0.369288 valid_acc 0.673\n",
      "Epoch 17, CIFAR-10 Batch 3:  loss 0.16748 valid_acc 0.6774\n",
      "Epoch 17, CIFAR-10 Batch 4:  loss 0.325484 valid_acc 0.6738\n",
      "Epoch 17, CIFAR-10 Batch 5:  loss 0.151177 valid_acc 0.6664\n",
      "Epoch 18, CIFAR-10 Batch 1:  loss 0.337486 valid_acc 0.686\n",
      "Epoch 18, CIFAR-10 Batch 2:  loss 0.0955178 valid_acc 0.6748\n",
      "Epoch 18, CIFAR-10 Batch 3:  loss 0.13614 valid_acc 0.6816\n",
      "Epoch 18, CIFAR-10 Batch 4:  loss 0.202563 valid_acc 0.6742\n",
      "Epoch 18, CIFAR-10 Batch 5:  loss 0.127042 valid_acc 0.6642\n",
      "Epoch 19, CIFAR-10 Batch 1:  loss 0.158629 valid_acc 0.68\n",
      "Epoch 19, CIFAR-10 Batch 2:  loss 0.126924 valid_acc 0.6684\n",
      "Epoch 19, CIFAR-10 Batch 3:  loss 0.161358 valid_acc 0.6838\n",
      "Epoch 19, CIFAR-10 Batch 4:  loss 0.28392 valid_acc 0.682\n",
      "Epoch 19, CIFAR-10 Batch 5:  loss 0.20443 valid_acc 0.6656\n",
      "Epoch 20, CIFAR-10 Batch 1:  loss 0.136033 valid_acc 0.6736\n",
      "Epoch 20, CIFAR-10 Batch 2:  loss 0.169616 valid_acc 0.6684\n",
      "Epoch 20, CIFAR-10 Batch 3:  loss 0.168484 valid_acc 0.6598\n",
      "Epoch 20, CIFAR-10 Batch 4:  loss 0.278419 valid_acc 0.6678\n",
      "Epoch 20, CIFAR-10 Batch 5:  loss 0.246617 valid_acc 0.6604\n",
      "Epoch 21, CIFAR-10 Batch 1:  loss 0.143613 valid_acc 0.683\n",
      "Epoch 21, CIFAR-10 Batch 2:  loss 0.157206 valid_acc 0.6854\n",
      "Epoch 21, CIFAR-10 Batch 3:  loss 0.0697805 valid_acc 0.676\n",
      "Epoch 21, CIFAR-10 Batch 4:  loss 0.111117 valid_acc 0.6756\n",
      "Epoch 21, CIFAR-10 Batch 5:  loss 0.113174 valid_acc 0.6504\n",
      "Epoch 22, CIFAR-10 Batch 1:  loss 0.138431 valid_acc 0.6734\n",
      "Epoch 22, CIFAR-10 Batch 2:  loss 0.112625 valid_acc 0.6814\n",
      "Epoch 22, CIFAR-10 Batch 3:  loss 0.0678707 valid_acc 0.676\n",
      "Epoch 22, CIFAR-10 Batch 4:  loss 0.0739851 valid_acc 0.676\n",
      "Epoch 22, CIFAR-10 Batch 5:  loss 0.109704 valid_acc 0.6666\n",
      "Epoch 23, CIFAR-10 Batch 1:  loss 0.130071 valid_acc 0.6614\n",
      "Epoch 23, CIFAR-10 Batch 2:  loss 0.0877922 valid_acc 0.6722\n",
      "Epoch 23, CIFAR-10 Batch 3:  loss 0.103457 valid_acc 0.6922\n",
      "Epoch 23, CIFAR-10 Batch 4:  loss 0.186544 valid_acc 0.681\n",
      "Epoch 23, CIFAR-10 Batch 5:  loss 0.0950518 valid_acc 0.6764\n",
      "Epoch 24, CIFAR-10 Batch 1:  loss 0.147479 valid_acc 0.6762\n",
      "Epoch 24, CIFAR-10 Batch 2:  loss 0.131911 valid_acc 0.6712\n",
      "Epoch 24, CIFAR-10 Batch 3:  loss 0.0746473 valid_acc 0.6814\n",
      "Epoch 24, CIFAR-10 Batch 4:  loss 0.0479889 valid_acc 0.6818\n",
      "Epoch 24, CIFAR-10 Batch 5:  loss 0.067842 valid_acc 0.672\n",
      "Epoch 25, CIFAR-10 Batch 1:  loss 0.160727 valid_acc 0.6522\n",
      "Epoch 25, CIFAR-10 Batch 2:  loss 0.335369 valid_acc 0.6612\n",
      "Epoch 25, CIFAR-10 Batch 3:  loss 0.100327 valid_acc 0.6912\n",
      "Epoch 25, CIFAR-10 Batch 4:  loss 0.115707 valid_acc 0.6696\n",
      "Epoch 25, CIFAR-10 Batch 5:  loss 0.0681174 valid_acc 0.6718\n",
      "Epoch 26, CIFAR-10 Batch 1:  loss 0.0924635 valid_acc 0.6842\n",
      "Epoch 26, CIFAR-10 Batch 2:  loss 0.140282 valid_acc 0.6698\n",
      "Epoch 26, CIFAR-10 Batch 3:  loss 0.113758 valid_acc 0.6854\n",
      "Epoch 26, CIFAR-10 Batch 4:  loss 0.0636967 valid_acc 0.6802\n",
      "Epoch 26, CIFAR-10 Batch 5:  loss 0.250649 valid_acc 0.686\n",
      "Epoch 27, CIFAR-10 Batch 1:  loss 0.184016 valid_acc 0.6878\n",
      "Epoch 27, CIFAR-10 Batch 2:  loss 0.118439 valid_acc 0.6744\n",
      "Epoch 27, CIFAR-10 Batch 3:  loss 0.0416578 valid_acc 0.6814\n",
      "Epoch 27, CIFAR-10 Batch 4:  loss 0.0964263 valid_acc 0.676\n",
      "Epoch 27, CIFAR-10 Batch 5:  loss 0.182736 valid_acc 0.6716\n",
      "Epoch 28, CIFAR-10 Batch 1:  loss 0.4369 valid_acc 0.67\n",
      "Epoch 28, CIFAR-10 Batch 2:  loss 0.162115 valid_acc 0.694\n",
      "Epoch 28, CIFAR-10 Batch 3:  loss 0.0740584 valid_acc 0.6822\n",
      "Epoch 28, CIFAR-10 Batch 4:  loss 0.11929 valid_acc 0.6826\n",
      "Epoch 28, CIFAR-10 Batch 5:  loss 0.093296 valid_acc 0.6758\n",
      "Epoch 29, CIFAR-10 Batch 1:  loss 0.107626 valid_acc 0.6744\n",
      "Epoch 29, CIFAR-10 Batch 2:  loss 0.091674 valid_acc 0.68\n",
      "Epoch 29, CIFAR-10 Batch 3:  loss 0.0644739 valid_acc 0.6928\n",
      "Epoch 29, CIFAR-10 Batch 4:  loss 0.0593332 valid_acc 0.681\n",
      "Epoch 29, CIFAR-10 Batch 5:  loss 0.063203 valid_acc 0.6716\n",
      "Epoch 30, CIFAR-10 Batch 1:  loss 0.109855 valid_acc 0.672\n",
      "Epoch 30, CIFAR-10 Batch 2:  loss 0.233649 valid_acc 0.6814\n",
      "Epoch 30, CIFAR-10 Batch 3:  loss 0.0828426 valid_acc 0.677\n",
      "Epoch 30, CIFAR-10 Batch 4:  loss 0.0696931 valid_acc 0.6746\n",
      "Epoch 30, CIFAR-10 Batch 5:  loss 0.155126 valid_acc 0.6738\n"
     ]
    }
   ],
   "source": [
    "\"\"\"\n",
    "DON'T MODIFY ANYTHING IN THIS CELL\n",
    "\"\"\"\n",
    "save_model_path = './image_classification'\n",
    "\n",
    "print('Training...')\n",
    "with tf.Session() as sess:\n",
    "    # Initializing the variables\n",
    "    sess.run(tf.global_variables_initializer())\n",
    "    \n",
    "    # Training cycle\n",
    "    for epoch in range(epochs):\n",
    "        # Loop over all batches\n",
    "        n_batches = 5\n",
    "        for batch_i in range(1, n_batches + 1):\n",
    "            for batch_features, batch_labels in helper.load_preprocess_training_batch(batch_i, batch_size):\n",
    "                train_neural_network(sess, optimizer, keep_probability, batch_features, batch_labels)\n",
    "            print('Epoch {:>2}, CIFAR-10 Batch {}:  '.format(epoch + 1, batch_i), end='')\n",
    "            print_stats(sess, batch_features, batch_labels, cost, accuracy)\n",
    "            \n",
    "    # Save Model\n",
    "    saver = tf.train.Saver()\n",
    "    save_path = saver.save(sess, save_model_path)"
   ]
  },
  {
   "cell_type": "markdown",
   "metadata": {
    "deletable": true,
    "editable": true
   },
   "source": [
    "# Checkpoint\n",
    "The model has been saved to disk.\n",
    "## Test Model\n",
    "Test your model against the test dataset.  This will be your final accuracy. You should have an accuracy greater than 50%. If you don't, keep tweaking the model architecture and parameters."
   ]
  },
  {
   "cell_type": "code",
   "execution_count": 18,
   "metadata": {
    "collapsed": false,
    "deletable": true,
    "editable": true
   },
   "outputs": [
    {
     "name": "stdout",
     "output_type": "stream",
     "text": [
      "Testing Accuracy: 0.6667325949367089\n",
      "\n"
     ]
    },
    {
     "data": {
      "image/png": "[encoded data removed]",
      "text/plain": [
       "<matplotlib.figure.Figure at 0x7f0ded111f28>"
      ]
     },
     "metadata": {
      "image/png": {
       "height": 319,
       "width": 355
      }
     },
     "output_type": "display_data"
    }
   ],
   "source": [
    "\"\"\"\n",
    "DON'T MODIFY ANYTHING IN THIS CELL\n",
    "\"\"\"\n",
    "%matplotlib inline\n",
    "%config InlineBackend.figure_format = 'retina'\n",
    "\n",
    "import tensorflow as tf\n",
    "import pickle\n",
    "import helper\n",
    "import random\n",
    "\n",
    "# Set batch size if not already set\n",
    "try:\n",
    "    if batch_size:\n",
    "        pass\n",
    "except NameError:\n",
    "    batch_size = 64\n",
    "\n",
    "save_model_path = './image_classification'\n",
    "n_samples = 4\n",
    "top_n_predictions = 3\n",
    "\n",
    "def test_model():\n",
    "    \"\"\"\n",
    "    Test the saved model against the test dataset\n",
    "    \"\"\"\n",
    "\n",
    "    test_features, test_labels = pickle.load(open('preprocess_training.p', mode='rb'))\n",
    "    loaded_graph = tf.Graph()\n",
    "\n",
    "    with tf.Session(graph=loaded_graph) as sess:\n",
    "        # Load model\n",
    "        loader = tf.train.import_meta_graph(save_model_path + '.meta')\n",
    "        loader.restore(sess, save_model_path)\n",
    "\n",
    "        # Get Tensors from loaded model\n",
    "        loaded_x = loaded_graph.get_tensor_by_name('x:0')\n",
    "        loaded_y = loaded_graph.get_tensor_by_name('y:0')\n",
    "        loaded_keep_prob = loaded_graph.get_tensor_by_name('keep_prob:0')\n",
    "        loaded_logits = loaded_graph.get_tensor_by_name('logits:0')\n",
    "        loaded_acc = loaded_graph.get_tensor_by_name('accuracy:0')\n",
    "        \n",
    "        # Get accuracy in batches for memory limitations\n",
    "        test_batch_acc_total = 0\n",
    "        test_batch_count = 0\n",
    "        \n",
    "        for train_feature_batch, train_label_batch in helper.batch_features_labels(test_features, test_labels, batch_size):\n",
    "            test_batch_acc_total += sess.run(\n",
    "                loaded_acc,\n",
    "                feed_dict={loaded_x: train_feature_batch, loaded_y: train_label_batch, loaded_keep_prob: 1.0})\n",
    "            test_batch_count += 1\n",
    "\n",
    "        print('Testing Accuracy: {}\\n'.format(test_batch_acc_total/test_batch_count))\n",
    "\n",
    "        # Print Random Samples\n",
    "        random_test_features, random_test_labels = tuple(zip(*random.sample(list(zip(test_features, test_labels)), n_samples)))\n",
    "        random_test_predictions = sess.run(\n",
    "            tf.nn.top_k(tf.nn.softmax(loaded_logits), top_n_predictions),\n",
    "            feed_dict={loaded_x: random_test_features, loaded_y: random_test_labels, loaded_keep_prob: 1.0})\n",
    "        helper.display_image_predictions(random_test_features, random_test_labels, random_test_predictions)\n",
    "\n",
    "\n",
    "test_model()"
   ]
  },
  {
   "cell_type": "markdown",
   "metadata": {
    "deletable": true,
    "editable": true
   },
   "source": [
    "## Why 50-70% Accuracy?\n",
    "You might be wondering why you can't get an accuracy any higher. First things first, 50% isn't bad for a simple CNN.  Pure guessing would get you 10% accuracy. However, you might notice people are getting scores [well above 70%](http://rodrigob.github.io/are_we_there_yet/build/classification_datasets_results.html#43494641522d3130).  That's because we haven't taught you all there is to know about neural networks. We still need to cover a few more techniques.\n",
    "## Submitting This Project\n",
    "When submitting this project, make sure to run all the cells before saving the notebook.  Save the notebook file as \"dlnd_image_classification.ipynb\" and save it as a HTML file under \"File\" -> \"Download as\".  Include the \"helper.py\" and \"problem_unittests.py\" files in your submission."
   ]
  }
 ],
 "metadata": {
  "kernelspec": {
   "display_name": "Python 3",
   "language": "python",
   "name": "python3"
  },
  "language_info": {
   "codemirror_mode": {
    "name": "ipython",
    "version": 3
   },
   "file_extension": ".py",
   "mimetype": "text/x-python",
   "name": "python",
   "nbconvert_exporter": "python",
   "pygments_lexer": "ipython3",
   "version": "3.5.2"
  },
  "widgets": {
   "state": {},
   "version": "1.1.2"
  }
 },
 "nbformat": 4,
 "nbformat_minor": 0
}
