{
 "cells": [
  {
   "cell_type": "markdown",
   "metadata": {
    "collapsed": true,
    "deletable": true,
    "editable": true
   },
   "source": [
    "# Image Classification\n",
    "In this project, you'll classify images from the [CIFAR-10 dataset](https://www.cs.toronto.edu/~kriz/cifar.html).  The dataset consists of airplanes, dogs, cats, and other objects. You'll preprocess the images, then train a convolutional neural network on all the samples. The images need to be normalized and the labels need to be one-hot encoded.  You'll get to apply what you learned and build a convolutional, max pooling, dropout, and fully connected layers.  At the end, you'll get to see your neural network's predictions on the sample images.\n",
    "## Get the Data\n",
    "Run the following cell to download the [CIFAR-10 dataset for python](https://www.cs.toronto.edu/~kriz/cifar-10-python.tar.gz)."
   ]
  },
  {
   "cell_type": "code",
   "execution_count": 112,
   "metadata": {
    "collapsed": false,
    "deletable": true,
    "editable": true
   },
   "outputs": [
    {
     "name": "stdout",
     "output_type": "stream",
     "text": [
      "All files found!\n"
     ]
    }
   ],
   "source": [
    "\"\"\"\n",
    "DON'T MODIFY ANYTHING IN THIS CELL THAT IS BELOW THIS LINE\n",
    "\"\"\"\n",
    "from urllib.request import urlretrieve\n",
    "from os.path import isfile, isdir\n",
    "from tqdm import tqdm\n",
    "import problem_unittests as tests\n",
    "import tarfile\n",
    "\n",
    "cifar10_dataset_folder_path = 'cifar-10-batches-py'\n",
    "\n",
    "class DLProgress(tqdm):\n",
    "    last_block = 0\n",
    "\n",
    "    def hook(self, block_num=1, block_size=1, total_size=None):\n",
    "        self.total = total_size\n",
    "        self.update((block_num - self.last_block) * block_size)\n",
    "        self.last_block = block_num\n",
    "\n",
    "if not isfile('cifar-10-python.tar.gz'):\n",
    "    with DLProgress(unit='B', unit_scale=True, miniters=1, desc='CIFAR-10 Dataset') as pbar:\n",
    "        urlretrieve(\n",
    "            'https://www.cs.toronto.edu/~kriz/cifar-10-python.tar.gz',\n",
    "            'cifar-10-python.tar.gz',\n",
    "            pbar.hook)\n",
    "\n",
    "if not isdir(cifar10_dataset_folder_path):\n",
    "    with tarfile.open('cifar-10-python.tar.gz') as tar:\n",
    "        tar.extractall()\n",
    "        tar.close()\n",
    "\n",
    "\n",
    "tests.test_folder_path(cifar10_dataset_folder_path)"
   ]
  },
  {
   "cell_type": "markdown",
   "metadata": {
    "deletable": true,
    "editable": true
   },
   "source": [
    "## Explore the Data\n",
    "The dataset is broken into batches to prevent your machine from running out of memory.  The CIFAR-10 dataset consists of 5 batches, named `data_batch_1`, `data_batch_2`, etc.. Each batch contains the labels and images that are one of the following:\n",
    "* airplane\n",
    "* automobile\n",
    "* bird\n",
    "* cat\n",
    "* deer\n",
    "* dog\n",
    "* frog\n",
    "* horse\n",
    "* ship\n",
    "* truck\n",
    "\n",
    "Understanding a dataset is part of making predictions on the data.  Play around with the code cell below by changing the `batch_id` and `sample_id`. The `batch_id` is the id for a batch (1-5). The `sample_id` is the id for a image and label pair in the batch.\n",
    "\n",
    "Ask yourself \"What are all possible labels?\", \"What is the range of values for the image data?\", \"Are the labels in order or random?\".  Answers to questions like these will help you preprocess the data and end up with better predictions."
   ]
  },
  {
   "cell_type": "code",
   "execution_count": 113,
   "metadata": {
    "collapsed": false,
    "deletable": true,
    "editable": true
   },
   "outputs": [
    {
     "name": "stdout",
     "output_type": "stream",
     "text": [
      "\n",
      "Stats of batch 1:\n",
      "Samples: 10000\n",
      "Label Counts: {0: 1005, 1: 974, 2: 1032, 3: 1016, 4: 999, 5: 937, 6: 1030, 7: 1001, 8: 1025, 9: 981}\n",
      "First 20 Labels: [6, 9, 9, 4, 1, 1, 2, 7, 8, 3, 4, 7, 7, 2, 9, 9, 9, 3, 2, 6]\n",
      "\n",
      "Example of Image 5:\n",
      "Image - Min Value: 0 Max Value: 252\n",
      "Image - Shape: (32, 32, 3)\n",
      "Label - Label Id: 1 Name: automobile\n"
     ]
    },
    {
     "data": {
      "image/png": "[encoded data removed]",
      "text/plain": [
       "<matplotlib.figure.Figure at 0x7f0264112908>"
      ]
     },
     "metadata": {
      "image/png": {
       "height": 250,
       "width": 253
      }
     },
     "output_type": "display_data"
    }
   ],
   "source": [
    "%matplotlib inline\n",
    "%config InlineBackend.figure_format = 'retina'\n",
    "\n",
    "import helper\n",
    "import numpy as np\n",
    "\n",
    "# Explore the dataset\n",
    "batch_id = 1\n",
    "sample_id = 5\n",
    "helper.display_stats(cifar10_dataset_folder_path, batch_id, sample_id)"
   ]
  },
  {
   "cell_type": "markdown",
   "metadata": {
    "deletable": true,
    "editable": true
   },
   "source": [
    "## Implement Preprocess Functions\n",
    "### Normalize\n",
    "In the cell below, implement the `normalize` function to take in image data, `x`, and return it as a normalized Numpy array. The values should be in the range of 0 to 1, inclusive.  The return object should be the same shape as `x`."
   ]
  },
  {
   "cell_type": "code",
   "execution_count": 114,
   "metadata": {
    "collapsed": false,
    "deletable": true,
    "editable": true
   },
   "outputs": [
    {
     "name": "stdout",
     "output_type": "stream",
     "text": [
      "Tests Passed\n"
     ]
    }
   ],
   "source": [
    "def normalize(x):\n",
    "    \"\"\"\n",
    "    Normalize a list of sample image data in the range of 0 to 1\n",
    "    : x: List of image data.  The image shape is (32, 32, 3)\n",
    "    : return: Numpy array of normalize data\n",
    "    \"\"\"\n",
    "    # Here the maximum value is already known to us so it's better to use the actual value.\n",
    "    x = x/255.0\n",
    "    return np.array(x)\n",
    "\n",
    "\n",
    "\"\"\"\n",
    "DON'T MODIFY ANYTHING IN THIS CELL THAT IS BELOW THIS LINE\n",
    "\"\"\"\n",
    "tests.test_normalize(normalize)"
   ]
  },
  {
   "cell_type": "markdown",
   "metadata": {
    "deletable": true,
    "editable": true
   },
   "source": [
    "### One-hot encode\n",
    "Just like the previous code cell, you'll be implementing a function for preprocessing.  This time, you'll implement the `one_hot_encode` function. The input, `x`, are a list of labels.  Implement the function to return the list of labels as One-Hot encoded Numpy array.  The possible values for labels are 0 to 9. The one-hot encoding function should return the same encoding for each value between each call to `one_hot_encode`.  Make sure to save the map of encodings outside the function.\n",
    "\n",
    "Hint: Don't reinvent the wheel."
   ]
  },
  {
   "cell_type": "code",
   "execution_count": 115,
   "metadata": {
    "collapsed": false,
    "deletable": true,
    "editable": true
   },
   "outputs": [
    {
     "name": "stdout",
     "output_type": "stream",
     "text": [
      "Tests Passed\n"
     ]
    }
   ],
   "source": [
    "def one_hot_encode(x):\n",
    "    \"\"\"\n",
    "    One hot encode a list of sample labels. Return a one-hot encoded vector for each label.\n",
    "    : x: List of sample Labels\n",
    "    : return: Numpy array of one-hot encoded labels\n",
    "    \"\"\"\n",
    "    zero_vector = np.zeros(shape=(len(x),10))\n",
    "    for i in range(len(x)):\n",
    "        for j in range(10):\n",
    "            zero_vector[i][j] = (j==x[i])       \n",
    "    return zero_vector\n",
    "\n",
    "\n",
    "\"\"\"\n",
    "DON'T MODIFY ANYTHING IN THIS CELL THAT IS BELOW THIS LINE\n",
    "\"\"\"\n",
    "tests.test_one_hot_encode(one_hot_encode)"
   ]
  },
  {
   "cell_type": "markdown",
   "metadata": {
    "deletable": true,
    "editable": true
   },
   "source": [
    "### Randomize Data\n",
    "As you saw from exploring the data above, the order of the samples are randomized.  It doesn't hurt to randomize it again, but you don't need to for this dataset."
   ]
  },
  {
   "cell_type": "markdown",
   "metadata": {
    "deletable": true,
    "editable": true
   },
   "source": [
    "## Preprocess all the data and save it\n",
    "Running the code cell below will preprocess all the CIFAR-10 data and save it to file. The code below also uses 10% of the training data for validation."
   ]
  },
  {
   "cell_type": "code",
   "execution_count": 116,
   "metadata": {
    "collapsed": false,
    "deletable": true,
    "editable": true
   },
   "outputs": [],
   "source": [
    "\"\"\"\n",
    "DON'T MODIFY ANYTHING IN THIS CELL\n",
    "\"\"\"\n",
    "# Preprocess Training, Validation, and Testing Data\n",
    "helper.preprocess_and_save_data(cifar10_dataset_folder_path, normalize, one_hot_encode)"
   ]
  },
  {
   "cell_type": "markdown",
   "metadata": {
    "deletable": true,
    "editable": true
   },
   "source": [
    "# Check Point\n",
    "This is your first checkpoint.  If you ever decide to come back to this notebook or have to restart the notebook, you can start from here.  The preprocessed data has been saved to disk."
   ]
  },
  {
   "cell_type": "code",
   "execution_count": 117,
   "metadata": {
    "collapsed": true,
    "deletable": true,
    "editable": true
   },
   "outputs": [],
   "source": [
    "\"\"\"\n",
    "DON'T MODIFY ANYTHING IN THIS CELL\n",
    "\"\"\"\n",
    "import pickle\n",
    "import problem_unittests as tests\n",
    "import helper\n",
    "\n",
    "# Load the Preprocessed Validation data\n",
    "valid_features, valid_labels = pickle.load(open('preprocess_validation.p', mode='rb'))"
   ]
  },
  {
   "cell_type": "markdown",
   "metadata": {
    "deletable": true,
    "editable": true
   },
   "source": [
    "## Build the network\n",
    "For the neural network, you'll build each layer into a function.  Most of the code you've seen has been outside of functions. To test your code more thoroughly, we require that you put each layer in a function.  This allows us to give you better feedback and test for simple mistakes using our unittests before you submit your project.\n",
    "\n",
    ">**Note:** If you're finding it hard to dedicate enough time for this course each week, we've provided a small shortcut to this part of the project. In the next couple of problems, you'll have the option to use classes from the [TensorFlow Layers](https://www.tensorflow.org/api_docs/python/tf/layers) or [TensorFlow Layers (contrib)](https://www.tensorflow.org/api_guides/python/contrib.layers) packages to build each layer, except the layers you build in the \"Convolutional and Max Pooling Layer\" section.  TF Layers is similar to Keras's and TFLearn's abstraction to layers, so it's easy to pickup.\n",
    "\n",
    ">However, if you would like to get the most out of this course, try to solve all the problems _without_ using anything from the TF Layers packages. You **can** still use classes from other packages that happen to have the same name as ones you find in TF Layers! For example, instead of using the TF Layers version of the `conv2d` class, [tf.layers.conv2d](https://www.tensorflow.org/api_docs/python/tf/layers/conv2d), you would want to use the TF Neural Network version of `conv2d`, [tf.nn.conv2d](https://www.tensorflow.org/api_docs/python/tf/nn/conv2d). \n",
    "\n",
    "Let's begin!\n",
    "\n",
    "### Input\n",
    "The neural network needs to read the image data, one-hot encoded labels, and dropout keep probability. Implement the following functions\n",
    "* Implement `neural_net_image_input`\n",
    " * Return a [TF Placeholder](https://www.tensorflow.org/api_docs/python/tf/placeholder)\n",
    " * Set the shape using `image_shape` with batch size set to `None`.\n",
    " * Name the TensorFlow placeholder \"x\" using the TensorFlow `name` parameter in the [TF Placeholder](https://www.tensorflow.org/api_docs/python/tf/placeholder).\n",
    "* Implement `neural_net_label_input`\n",
    " * Return a [TF Placeholder](https://www.tensorflow.org/api_docs/python/tf/placeholder)\n",
    " * Set the shape using `n_classes` with batch size set to `None`.\n",
    " * Name the TensorFlow placeholder \"y\" using the TensorFlow `name` parameter in the [TF Placeholder](https://www.tensorflow.org/api_docs/python/tf/placeholder).\n",
    "* Implement `neural_net_keep_prob_input`\n",
    " * Return a [TF Placeholder](https://www.tensorflow.org/api_docs/python/tf/placeholder) for dropout keep probability.\n",
    " * Name the TensorFlow placeholder \"keep_prob\" using the TensorFlow `name` parameter in the [TF Placeholder](https://www.tensorflow.org/api_docs/python/tf/placeholder).\n",
    "\n",
    "These names will be used at the end of the project to load your saved model.\n",
    "\n",
    "Note: `None` for shapes in TensorFlow allow for a dynamic size."
   ]
  },
  {
   "cell_type": "code",
   "execution_count": 118,
   "metadata": {
    "collapsed": false,
    "deletable": true,
    "editable": true
   },
   "outputs": [
    {
     "name": "stdout",
     "output_type": "stream",
     "text": [
      "Image Input Tests Passed.\n",
      "Label Input Tests Passed.\n",
      "Keep Prob Tests Passed.\n"
     ]
    }
   ],
   "source": [
    "import tensorflow as tf\n",
    "\n",
    "def neural_net_image_input(image_shape):\n",
    "    \"\"\"\n",
    "    Return a Tensor for a bach of image input\n",
    "    : image_shape: Shape of the images\n",
    "    : return: Tensor for image input.\n",
    "    \"\"\"\n",
    "    return tf.placeholder(tf.float32,shape=[None,image_shape[0],image_shape[1],image_shape[2]], name='x')\n",
    "         \n",
    "\n",
    "\n",
    "def neural_net_label_input(n_classes):\n",
    "    \"\"\"\n",
    "    Return a Tensor for a batch of label input\n",
    "    : n_classes: Number of classes\n",
    "    : return: Tensor for label input.\n",
    "    \"\"\"\n",
    "    return tf.placeholder(tf.float32,shape=[None, n_classes], name='y')\n",
    "     \n",
    "\n",
    "\n",
    "def neural_net_keep_prob_input():\n",
    "    \"\"\"\n",
    "    Return a Tensor for keep probability\n",
    "    : return: Tensor for keep probability.\n",
    "    \"\"\"\n",
    "    return tf.placeholder(tf.float32, shape=None, name='keep_prob')\n",
    "    \n",
    "\n",
    "\n",
    "\"\"\"\n",
    "DON'T MODIFY ANYTHING IN THIS CELL THAT IS BELOW THIS LINE\n",
    "\"\"\"\n",
    "tf.reset_default_graph()\n",
    "tests.test_nn_image_inputs(neural_net_image_input)\n",
    "tests.test_nn_label_inputs(neural_net_label_input)\n",
    "tests.test_nn_keep_prob_inputs(neural_net_keep_prob_input)"
   ]
  },
  {
   "cell_type": "markdown",
   "metadata": {
    "deletable": true,
    "editable": true
   },
   "source": [
    "### Convolution and Max Pooling Layer\n",
    "Convolution layers have a lot of success with images. For this code cell, you should implement the function `conv2d_maxpool` to apply convolution then max pooling:\n",
    "* Create the weight and bias using `conv_ksize`, `conv_num_outputs` and the shape of `x_tensor`.\n",
    "* Apply a convolution to `x_tensor` using weight and `conv_strides`.\n",
    " * We recommend you use same padding, but you're welcome to use any padding.\n",
    "* Add bias\n",
    "* Add a nonlinear activation to the convolution.\n",
    "* Apply Max Pooling using `pool_ksize` and `pool_strides`.\n",
    " * We recommend you use same padding, but you're welcome to use any padding.\n",
    "\n",
    "**Note:** You **can't** use [TensorFlow Layers](https://www.tensorflow.org/api_docs/python/tf/layers) or [TensorFlow Layers (contrib)](https://www.tensorflow.org/api_guides/python/contrib.layers) for **this** layer, but you can still use TensorFlow's [Neural Network](https://www.tensorflow.org/api_docs/python/tf/nn) package. You may still use the shortcut option for all the **other** layers."
   ]
  },
  {
   "cell_type": "code",
   "execution_count": 119,
   "metadata": {
    "collapsed": false,
    "deletable": true,
    "editable": true
   },
   "outputs": [
    {
     "name": "stdout",
     "output_type": "stream",
     "text": [
      "Tests Passed\n"
     ]
    }
   ],
   "source": [
    "def conv2d_maxpool(x_tensor, conv_num_outputs, conv_ksize, conv_strides, pool_ksize, pool_strides):\n",
    "    \"\"\"\n",
    "    Apply convolution then max pooling to x_tensor\n",
    "    :param x_tensor: TensorFlow Tensor\n",
    "    :param conv_num_outputs: Number of outputs for the convolutional layer\n",
    "    :param conv_ksize: kernal size 2-D Tuple for the convolutional layer\n",
    "    :param conv_strides: Stride 2-D Tuple for convolution\n",
    "    :param pool_ksize: kernal size 2-D Tuple for pool\n",
    "    :param pool_strides: Stride 2-D Tuple for pool\n",
    "    : return: A tensor that represents convolution and max pooling of x_tensor\n",
    "    \"\"\"\n",
    "    # TODO: Implement Function\n",
    "    depth = int(x_tensor.get_shape().as_list()[3])\n",
    "    weights = tf.Variable(tf.truncated_normal([conv_ksize[0],conv_ksize[1],depth,conv_num_outputs]))\n",
    "    bias = tf.Variable(tf.truncated_normal([conv_num_outputs]))\n",
    "    \n",
    "    # Convolutional layer + Maxpooling layer\n",
    "    conv_layer = tf.nn.conv2d(x_tensor, weights, strides=[1,conv_strides[0],conv_strides[1], 1], padding='SAME')\n",
    "    conv_layer = tf.nn.bias_add(conv_layer, bias)\n",
    "    conv_layer = tf.nn.relu(conv_layer)\n",
    "    conv_layer = tf.nn.max_pool(conv_layer, ksize=[1, pool_ksize[0], pool_ksize[1],1], strides=[1, pool_strides[0], pool_strides[1], 1], padding=\"SAME\")\n",
    "    return conv_layer\n",
    "\n",
    "\n",
    "\n",
    "\n",
    "\"\"\"\n",
    "DON'T MODIFY ANYTHING IN THIS CELL THAT IS BELOW THIS LINE\n",
    "\"\"\"\n",
    "tests.test_con_pool(conv2d_maxpool)"
   ]
  },
  {
   "cell_type": "markdown",
   "metadata": {
    "deletable": true,
    "editable": true
   },
   "source": [
    "### Flatten Layer\n",
    "Implement the `flatten` function to change the dimension of `x_tensor` from a 4-D tensor to a 2-D tensor.  The output should be the shape (*Batch Size*, *Flattened Image Size*). Shortcut option: you can use classes from the [TensorFlow Layers](https://www.tensorflow.org/api_docs/python/tf/layers) or [TensorFlow Layers (contrib)](https://www.tensorflow.org/api_guides/python/contrib.layers) packages for this layer. For more of a challenge, only use other TensorFlow packages."
   ]
  },
  {
   "cell_type": "code",
   "execution_count": 120,
   "metadata": {
    "collapsed": false,
    "deletable": true,
    "editable": true
   },
   "outputs": [
    {
     "name": "stdout",
     "output_type": "stream",
     "text": [
      "Tests Passed\n"
     ]
    }
   ],
   "source": [
    "def flatten(x_tensor):\n",
    "    \"\"\"\n",
    "    Flatten x_tensor to (Batch Size, Flattened Image Size)\n",
    "    : x_tensor: A tensor of size (Batch Size, ...), where ... are the image dimensions.\n",
    "    : return: A tensor of size (Batch Size, Flattened Image Size).\n",
    "    \"\"\"\n",
    "    # Storing the dimensions of the tensor as a list into a variable to make it easily accessible.\n",
    "    list_dim = x_tensor.get_shape().as_list()\n",
    "    # Here the reshape function returns a tensor of reduced dimensionality, 2-D in this case with batch size as none.\n",
    "    flattened_tensor = tf.reshape(x_tensor, [-1, list_dim[1]*list_dim[2]*list_dim[3]])\n",
    "    return flattened_tensor\n",
    "\n",
    "\n",
    "\"\"\"\n",
    "DON'T MODIFY ANYTHING IN THIS CELL THAT IS BELOW THIS LINE\n",
    "\"\"\"\n",
    "tests.test_flatten(flatten)"
   ]
  },
  {
   "cell_type": "markdown",
   "metadata": {
    "deletable": true,
    "editable": true
   },
   "source": [
    "### Fully-Connected Layer\n",
    "Implement the `fully_conn` function to apply a fully connected layer to `x_tensor` with the shape (*Batch Size*, *num_outputs*). Shortcut option: you can use classes from the [TensorFlow Layers](https://www.tensorflow.org/api_docs/python/tf/layers) or [TensorFlow Layers (contrib)](https://www.tensorflow.org/api_guides/python/contrib.layers) packages for this layer. For more of a challenge, only use other TensorFlow packages."
   ]
  },
  {
   "cell_type": "code",
   "execution_count": 121,
   "metadata": {
    "collapsed": false,
    "deletable": true,
    "editable": true
   },
   "outputs": [
    {
     "name": "stdout",
     "output_type": "stream",
     "text": [
      "Tests Passed\n"
     ]
    }
   ],
   "source": [
    "def fully_conn(x_tensor, num_outputs):\n",
    "    \"\"\"\n",
    "    Apply a fully connected layer to x_tensor using weight and bias\n",
    "    : x_tensor: A 2-D tensor where the first dimension is batch size.\n",
    "    : num_outputs: The number of output that the new tensor should be.\n",
    "    : return: A 2-D tensor where the second dimension is num_outputs.\n",
    "    \"\"\"\n",
    "    dimension = x_tensor.get_shape().as_list()[1]\n",
    "    # Here I'm defining separate weights and bias for the fully connected layer..these weights live inside of this function.\n",
    "    weights_full = tf.Variable(tf.truncated_normal([dimension, num_outputs]))\n",
    "    bias_full = tf.Variable(tf.truncated_normal([num_outputs]))\n",
    "    # This is a regular hidden layer with weights and biases.\n",
    "    fully_connected = tf.add(tf.matmul(x_tensor, weights_full),bias_full)\n",
    "    fully_connected = tf.nn.relu(fully_connected)\n",
    "    return fully_connected\n",
    "\n",
    "\n",
    "\"\"\"\n",
    "DON'T MODIFY ANYTHING IN THIS CELL THAT IS BELOW THIS LINE\n",
    "\"\"\"\n",
    "tests.test_fully_conn(fully_conn)"
   ]
  },
  {
   "cell_type": "markdown",
   "metadata": {
    "deletable": true,
    "editable": true
   },
   "source": [
    "### Output Layer\n",
    "Implement the `output` function to apply a fully connected layer to `x_tensor` with the shape (*Batch Size*, *num_outputs*). Shortcut option: you can use classes from the [TensorFlow Layers](https://www.tensorflow.org/api_docs/python/tf/layers) or [TensorFlow Layers (contrib)](https://www.tensorflow.org/api_guides/python/contrib.layers) packages for this layer. For more of a challenge, only use other TensorFlow packages.\n",
    "\n",
    "**Note:** Activation, softmax, or cross entropy should **not** be applied to this."
   ]
  },
  {
   "cell_type": "code",
   "execution_count": 122,
   "metadata": {
    "collapsed": false,
    "deletable": true,
    "editable": true
   },
   "outputs": [
    {
     "name": "stdout",
     "output_type": "stream",
     "text": [
      "Tests Passed\n"
     ]
    }
   ],
   "source": [
    "def output(x_tensor, num_outputs):\n",
    "    \"\"\"\n",
    "    Apply a output layer to x_tensor using weight and bias\n",
    "    : x_tensor: A 2-D tensor where the first dimension is batch size.\n",
    "    : num_outputs: The number of output that the new tensor should be.\n",
    "    : return: A 2-D tensor where the second dimension is num_outputs.\n",
    "    \"\"\"\n",
    "    new_dimension = x_tensor.get_shape().as_list()[1]\n",
    "    # This is very similar to the fully connected layer.\n",
    "    weights_out = tf.Variable(tf.truncated_normal([new_dimension, num_outputs]))\n",
    "    bias_out = tf.Variable(tf.truncated_normal([num_outputs]))\n",
    "    #Implementing the output layer.\n",
    "    output_layer = tf.add(tf.matmul(x_tensor, weights_out), bias_out)\n",
    "    return output_layer\n",
    "\n",
    "\n",
    "\"\"\"\n",
    "DON'T MODIFY ANYTHING IN THIS CELL THAT IS BELOW THIS LINE\n",
    "\"\"\"\n",
    "tests.test_output(output)"
   ]
  },
  {
   "cell_type": "markdown",
   "metadata": {
    "deletable": true,
    "editable": true
   },
   "source": [
    "### Create Convolutional Model\n",
    "Implement the function `conv_net` to create a convolutional neural network model. The function takes in a batch of images, `x`, and outputs logits.  Use the layers you created above to create this model:\n",
    "\n",
    "* Apply 1, 2, or 3 Convolution and Max Pool layers\n",
    "* Apply a Flatten Layer\n",
    "* Apply 1, 2, or 3 Fully Connected Layers\n",
    "* Apply an Output Layer\n",
    "* Return the output\n",
    "* Apply [TensorFlow's Dropout](https://www.tensorflow.org/api_docs/python/tf/nn/dropout) to one or more layers in the model using `keep_prob`. "
   ]
  },
  {
   "cell_type": "code",
   "execution_count": 123,
   "metadata": {
    "collapsed": false,
    "deletable": true,
    "editable": true
   },
   "outputs": [
    {
     "name": "stdout",
     "output_type": "stream",
     "text": [
      "Neural Network Built!\n"
     ]
    }
   ],
   "source": [
    "def conv_net(x, keep_prob):\n",
    "    \"\"\"\n",
    "    Create a convolutional neural network model\n",
    "    : x: Placeholder tensor that holds image data.\n",
    "    : keep_prob: Placeholder tensor that hold dropout keep probability.\n",
    "    : return: Tensor that represents logits\n",
    "    \"\"\"\n",
    "    conv_ksize = (3,3)\n",
    "    conv_strides = (1,1)\n",
    "    pool_ksize = (3,3)\n",
    "    pool_strides = (2,2)\n",
    "    num_outputs = 10\n",
    "    keep_prob = 0.5\n",
    "    \n",
    "    # The first three convolutional + maxpooling layers\n",
    "    neural_net = conv2d_maxpool(x, 16, conv_ksize, conv_strides, pool_ksize, pool_strides)\n",
    "    neural_net = conv2d_maxpool(neural_net, 32, (1,1), (1,1), (3,3), (1,1))\n",
    "    neural_net = conv2d_maxpool(neural_net, 64, conv_ksize, conv_strides, pool_ksize, pool_strides)\n",
    "\n",
    "    # Layer to flatten the tensor from the convolutional layers\n",
    "    neural_net = flatten(neural_net)\n",
    "    \n",
    "    # Two fully connected layers with dropout\n",
    "    neural_net = fully_conn(neural_net, num_outputs)\n",
    "    neural_net = tf.nn.dropout(neural_net, keep_prob)\n",
    "    neural_net = fully_conn(neural_net, num_outputs)\n",
    "    \n",
    "    # Layer for output\n",
    "    neural_net = output(neural_net, num_outputs)\n",
    "    \n",
    "    # TODO: return output\n",
    "    return neural_net\n",
    "\n",
    "\n",
    "\"\"\"\n",
    "DON'T MODIFY ANYTHING IN THIS CELL THAT IS BELOW THIS LINE\n",
    "\"\"\"\n",
    "\n",
    "##############################\n",
    "## Build the Neural Network ##\n",
    "##############################\n",
    "\n",
    "# Remove previous weights, bias, inputs, etc..\n",
    "tf.reset_default_graph()\n",
    "\n",
    "# Inputs\n",
    "x = neural_net_image_input((32, 32, 3))\n",
    "y = neural_net_label_input(10)\n",
    "keep_prob = neural_net_keep_prob_input()\n",
    "\n",
    "# Model\n",
    "logits = conv_net(x, keep_prob)\n",
    "\n",
    "# Name logits Tensor, so that is can be loaded from disk after training\n",
    "logits = tf.identity(logits, name='logits')\n",
    "\n",
    "# Loss and Optimizer\n",
    "cost = tf.reduce_mean(tf.nn.softmax_cross_entropy_with_logits(logits=logits, labels=y))\n",
    "optimizer = tf.train.AdamOptimizer().minimize(cost)\n",
    "\n",
    "# Accuracy\n",
    "correct_pred = tf.equal(tf.argmax(logits, 1), tf.argmax(y, 1))\n",
    "accuracy = tf.reduce_mean(tf.cast(correct_pred, tf.float32), name='accuracy')\n",
    "\n",
    "tests.test_conv_net(conv_net)"
   ]
  },
  {
   "cell_type": "markdown",
   "metadata": {
    "deletable": true,
    "editable": true
   },
   "source": [
    "## Train the Neural Network\n",
    "### Single Optimization\n",
    "Implement the function `train_neural_network` to do a single optimization.  The optimization should use `optimizer` to optimize in `session` with a `feed_dict` of the following:\n",
    "* `x` for image input\n",
    "* `y` for labels\n",
    "* `keep_prob` for keep probability for dropout\n",
    "\n",
    "This function will be called for each batch, so `tf.global_variables_initializer()` has already been called.\n",
    "\n",
    "Note: Nothing needs to be returned. This function is only optimizing the neural network."
   ]
  },
  {
   "cell_type": "code",
   "execution_count": 124,
   "metadata": {
    "collapsed": false,
    "deletable": true,
    "editable": true
   },
   "outputs": [
    {
     "name": "stdout",
     "output_type": "stream",
     "text": [
      "Tests Passed\n"
     ]
    }
   ],
   "source": [
    "def train_neural_network(session, optimizer, keep_probability, feature_batch, label_batch):\n",
    "    \"\"\"\n",
    "    Optimize the session on a batch of images and labels\n",
    "    : session: Current TensorFlow session\n",
    "    : optimizer: TensorFlow optimizer function\n",
    "    : keep_probability: keep probability\n",
    "    : feature_batch: Batch of Numpy image data\n",
    "    : label_batch: Batch of Numpy label data\n",
    "    \"\"\"\n",
    "    # Optimizing the neural network\n",
    "    session.run(optimizer, feed_dict={x:feature_batch, y:label_batch, keep_prob:keep_probability})\n",
    "    pass\n",
    "\n",
    "\n",
    "\"\"\"\n",
    "DON'T MODIFY ANYTHING IN THIS CELL THAT IS BELOW THIS LINE\n",
    "\"\"\"\n",
    "tests.test_train_nn(train_neural_network)"
   ]
  },
  {
   "cell_type": "markdown",
   "metadata": {
    "deletable": true,
    "editable": true
   },
   "source": [
    "### Show Stats\n",
    "Implement the function `print_stats` to print loss and validation accuracy.  Use the global variables `valid_features` and `valid_labels` to calculate validation accuracy.  Use a keep probability of `1.0` to calculate the loss and validation accuracy."
   ]
  },
  {
   "cell_type": "code",
   "execution_count": 125,
   "metadata": {
    "collapsed": false,
    "deletable": true,
    "editable": true
   },
   "outputs": [],
   "source": [
    "def print_stats(session, feature_batch, label_batch, cost, accuracy):\n",
    "    \"\"\"\n",
    "    Print information about loss and validation accuracy\n",
    "    : session: Current TensorFlow session\n",
    "    : feature_batch: Batch of Numpy image data\n",
    "    : label_batch: Batch of Numpy label data\n",
    "    : cost: TensorFlow cost function\n",
    "    : accuracy: TensorFlow accuracy function\n",
    "    \"\"\"\n",
    "   # Calculating loss and validation accuracy.\n",
    "    loss = sess.run(cost, feed_dict={x: feature_batch, y: label_batch, keep_prob: 1.})\n",
    "    valid_acc = sess.run(accuracy, feed_dict={\n",
    "                x: valid_features,\n",
    "                y: valid_labels,\n",
    "                keep_prob: 1.})\n",
    "    print(\"loss\", loss, \"valid_acc\", valid_acc)\n",
    "    pass"
   ]
  },
  {
   "cell_type": "markdown",
   "metadata": {
    "deletable": true,
    "editable": true
   },
   "source": [
    "### Hyperparameters\n",
    "Tune the following parameters:\n",
    "* Set `epochs` to the number of iterations until the network stops learning or start overfitting\n",
    "* Set `batch_size` to the highest number that your machine has memory for.  Most people set them to common sizes of memory:\n",
    " * 64\n",
    " * 128\n",
    " * 256\n",
    " * ...\n",
    "* Set `keep_probability` to the probability of keeping a node using dropout"
   ]
  },
  {
   "cell_type": "code",
   "execution_count": 126,
   "metadata": {
    "collapsed": true,
    "deletable": true,
    "editable": true
   },
   "outputs": [],
   "source": [
    "# TODO: Tune Parameters\n",
    "epochs = 100\n",
    "batch_size = 128\n",
    "keep_probability = 0.5"
   ]
  },
  {
   "cell_type": "markdown",
   "metadata": {
    "deletable": true,
    "editable": true
   },
   "source": [
    "### Train on a Single CIFAR-10 Batch\n",
    "Instead of training the neural network on all the CIFAR-10 batches of data, let's use a single batch. This should save time while you iterate on the model to get a better accuracy.  Once the final validation accuracy is 50% or greater, run the model on all the data in the next section."
   ]
  },
  {
   "cell_type": "code",
   "execution_count": 127,
   "metadata": {
    "collapsed": false,
    "deletable": true,
    "editable": true
   },
   "outputs": [
    {
     "name": "stdout",
     "output_type": "stream",
     "text": [
      "Checking the Training on a Single Batch...\n",
      "Epoch  1, CIFAR-10 Batch 1:  loss 3.59929 valid_acc 0.0948\n",
      "Epoch  2, CIFAR-10 Batch 1:  loss 3.37481 valid_acc 0.0946\n",
      "Epoch  3, CIFAR-10 Batch 1:  loss 3.20654 valid_acc 0.0946\n",
      "Epoch  4, CIFAR-10 Batch 1:  loss 3.07815 valid_acc 0.0946\n",
      "Epoch  5, CIFAR-10 Batch 1:  loss 2.97758 valid_acc 0.0946\n",
      "Epoch  6, CIFAR-10 Batch 1:  loss 2.89257 valid_acc 0.0946\n",
      "Epoch  7, CIFAR-10 Batch 1:  loss 2.8163 valid_acc 0.0946\n",
      "Epoch  8, CIFAR-10 Batch 1:  loss 2.74659 valid_acc 0.0946\n",
      "Epoch  9, CIFAR-10 Batch 1:  loss 2.68321 valid_acc 0.0946\n",
      "Epoch 10, CIFAR-10 Batch 1:  loss 2.62611 valid_acc 0.0946\n",
      "Epoch 11, CIFAR-10 Batch 1:  loss 2.57513 valid_acc 0.0946\n",
      "Epoch 12, CIFAR-10 Batch 1:  loss 2.53012 valid_acc 0.0946\n",
      "Epoch 13, CIFAR-10 Batch 1:  loss 2.49084 valid_acc 0.0946\n",
      "Epoch 14, CIFAR-10 Batch 1:  loss 2.45696 valid_acc 0.0946\n",
      "Epoch 15, CIFAR-10 Batch 1:  loss 2.42814 valid_acc 0.0946\n",
      "Epoch 16, CIFAR-10 Batch 1:  loss 2.40395 valid_acc 0.0946\n",
      "Epoch 17, CIFAR-10 Batch 1:  loss 2.38392 valid_acc 0.0946\n",
      "Epoch 18, CIFAR-10 Batch 1:  loss 2.36753 valid_acc 0.0946\n",
      "Epoch 19, CIFAR-10 Batch 1:  loss 2.35427 valid_acc 0.0946\n",
      "Epoch 20, CIFAR-10 Batch 1:  loss 2.34363 valid_acc 0.0946\n",
      "Epoch 21, CIFAR-10 Batch 1:  loss 2.33516 valid_acc 0.0946\n",
      "Epoch 22, CIFAR-10 Batch 1:  loss 2.32844 valid_acc 0.0946\n",
      "Epoch 23, CIFAR-10 Batch 1:  loss 2.32313 valid_acc 0.0946\n",
      "Epoch 24, CIFAR-10 Batch 1:  loss 2.31895 valid_acc 0.0946\n",
      "Epoch 25, CIFAR-10 Batch 1:  loss 2.31565 valid_acc 0.0946\n",
      "Epoch 26, CIFAR-10 Batch 1:  loss 2.31304 valid_acc 0.0946\n",
      "Epoch 27, CIFAR-10 Batch 1:  loss 2.31099 valid_acc 0.0946\n",
      "Epoch 28, CIFAR-10 Batch 1:  loss 2.30937 valid_acc 0.0946\n",
      "Epoch 29, CIFAR-10 Batch 1:  loss 2.3081 valid_acc 0.0946\n",
      "Epoch 30, CIFAR-10 Batch 1:  loss 2.30709 valid_acc 0.0998\n",
      "Epoch 31, CIFAR-10 Batch 1:  loss 2.30629 valid_acc 0.0998\n",
      "Epoch 32, CIFAR-10 Batch 1:  loss 2.30567 valid_acc 0.0998\n",
      "Epoch 33, CIFAR-10 Batch 1:  loss 2.30517 valid_acc 0.0998\n",
      "Epoch 34, CIFAR-10 Batch 1:  loss 2.30479 valid_acc 0.0998\n",
      "Epoch 35, CIFAR-10 Batch 1:  loss 2.30448 valid_acc 0.0998\n",
      "Epoch 36, CIFAR-10 Batch 1:  loss 2.30424 valid_acc 0.0998\n",
      "Epoch 37, CIFAR-10 Batch 1:  loss 2.30405 valid_acc 0.105\n",
      "Epoch 38, CIFAR-10 Batch 1:  loss 2.3039 valid_acc 0.105\n",
      "Epoch 39, CIFAR-10 Batch 1:  loss 2.30379 valid_acc 0.105\n",
      "Epoch 40, CIFAR-10 Batch 1:  loss 2.3037 valid_acc 0.105\n",
      "Epoch 41, CIFAR-10 Batch 1:  loss 2.30363 valid_acc 0.105\n",
      "Epoch 42, CIFAR-10 Batch 1:  loss 2.30357 valid_acc 0.105\n",
      "Epoch 43, CIFAR-10 Batch 1:  loss 2.30353 valid_acc 0.105\n",
      "Epoch 44, CIFAR-10 Batch 1:  loss 2.30349 valid_acc 0.105\n",
      "Epoch 45, CIFAR-10 Batch 1:  loss 2.30347 valid_acc 0.105\n",
      "Epoch 46, CIFAR-10 Batch 1:  loss 2.30345 valid_acc 0.105\n",
      "Epoch 47, CIFAR-10 Batch 1:  loss 2.30343 valid_acc 0.105\n",
      "Epoch 48, CIFAR-10 Batch 1:  loss 2.30342 valid_acc 0.105\n",
      "Epoch 49, CIFAR-10 Batch 1:  loss 2.30341 valid_acc 0.105\n",
      "Epoch 50, CIFAR-10 Batch 1:  loss 2.3034 valid_acc 0.105\n",
      "Epoch 51, CIFAR-10 Batch 1:  loss 2.3034 valid_acc 0.105\n",
      "Epoch 52, CIFAR-10 Batch 1:  loss 2.30339 valid_acc 0.105\n",
      "Epoch 53, CIFAR-10 Batch 1:  loss 2.30339 valid_acc 0.105\n",
      "Epoch 54, CIFAR-10 Batch 1:  loss 2.30339 valid_acc 0.105\n",
      "Epoch 55, CIFAR-10 Batch 1:  loss 2.30338 valid_acc 0.105\n",
      "Epoch 56, CIFAR-10 Batch 1:  loss 2.30338 valid_acc 0.105\n",
      "Epoch 57, CIFAR-10 Batch 1:  loss 2.30338 valid_acc 0.105\n",
      "Epoch 58, CIFAR-10 Batch 1:  loss 2.30338 valid_acc 0.105\n",
      "Epoch 59, CIFAR-10 Batch 1:  loss 2.30338 valid_acc 0.105\n",
      "Epoch 60, CIFAR-10 Batch 1:  loss 2.30337 valid_acc 0.105\n",
      "Epoch 61, CIFAR-10 Batch 1:  loss 2.30337 valid_acc 0.105\n",
      "Epoch 62, CIFAR-10 Batch 1:  loss 2.30337 valid_acc 0.105\n",
      "Epoch 63, CIFAR-10 Batch 1:  loss 2.30337 valid_acc 0.105\n",
      "Epoch 64, CIFAR-10 Batch 1:  loss 2.30337 valid_acc 0.105\n",
      "Epoch 65, CIFAR-10 Batch 1:  loss 2.30337 valid_acc 0.105\n",
      "Epoch 66, CIFAR-10 Batch 1:  loss 2.30337 valid_acc 0.105\n",
      "Epoch 67, CIFAR-10 Batch 1:  loss 2.30337 valid_acc 0.105\n",
      "Epoch 68, CIFAR-10 Batch 1:  loss 2.30337 valid_acc 0.105\n",
      "Epoch 69, CIFAR-10 Batch 1:  loss 2.30336 valid_acc 0.105\n",
      "Epoch 70, CIFAR-10 Batch 1:  loss 2.30336 valid_acc 0.105\n",
      "Epoch 71, CIFAR-10 Batch 1:  loss 2.30336 valid_acc 0.105\n",
      "Epoch 72, CIFAR-10 Batch 1:  loss 2.30336 valid_acc 0.105\n",
      "Epoch 73, CIFAR-10 Batch 1:  loss 2.30336 valid_acc 0.105\n",
      "Epoch 74, CIFAR-10 Batch 1:  loss 2.30336 valid_acc 0.105\n",
      "Epoch 75, CIFAR-10 Batch 1:  loss 2.30336 valid_acc 0.105\n",
      "Epoch 76, CIFAR-10 Batch 1:  loss 2.30336 valid_acc 0.105\n",
      "Epoch 77, CIFAR-10 Batch 1:  loss 2.30336 valid_acc 0.105\n",
      "Epoch 78, CIFAR-10 Batch 1:  loss 2.30336 valid_acc 0.105\n",
      "Epoch 79, CIFAR-10 Batch 1:  loss 2.30336 valid_acc 0.105\n",
      "Epoch 80, CIFAR-10 Batch 1:  loss 2.30336 valid_acc 0.105\n",
      "Epoch 81, CIFAR-10 Batch 1:  loss 2.30335 valid_acc 0.105\n",
      "Epoch 82, CIFAR-10 Batch 1:  loss 2.30335 valid_acc 0.105\n",
      "Epoch 83, CIFAR-10 Batch 1:  loss 2.30335 valid_acc 0.105\n",
      "Epoch 84, CIFAR-10 Batch 1:  loss 2.30335 valid_acc 0.105\n",
      "Epoch 85, CIFAR-10 Batch 1:  loss 2.30335 valid_acc 0.105\n",
      "Epoch 86, CIFAR-10 Batch 1:  loss 2.30335 valid_acc 0.105\n",
      "Epoch 87, CIFAR-10 Batch 1:  loss 2.30335 valid_acc 0.105\n",
      "Epoch 88, CIFAR-10 Batch 1:  loss 2.30335 valid_acc 0.105\n",
      "Epoch 89, CIFAR-10 Batch 1:  loss 2.30335 valid_acc 0.105\n",
      "Epoch 90, CIFAR-10 Batch 1:  loss 2.30335 valid_acc 0.105\n",
      "Epoch 91, CIFAR-10 Batch 1:  loss 2.30335 valid_acc 0.105\n",
      "Epoch 92, CIFAR-10 Batch 1:  loss 2.30335 valid_acc 0.105\n",
      "Epoch 93, CIFAR-10 Batch 1:  loss 2.30334 valid_acc 0.105\n",
      "Epoch 94, CIFAR-10 Batch 1:  loss 2.30334 valid_acc 0.105\n",
      "Epoch 95, CIFAR-10 Batch 1:  loss 2.30334 valid_acc 0.105\n",
      "Epoch 96, CIFAR-10 Batch 1:  loss 2.30334 valid_acc 0.105\n",
      "Epoch 97, CIFAR-10 Batch 1:  loss 2.30334 valid_acc 0.105\n",
      "Epoch 98, CIFAR-10 Batch 1:  loss 2.30334 valid_acc 0.105\n",
      "Epoch 99, CIFAR-10 Batch 1:  loss 2.30334 valid_acc 0.105\n",
      "Epoch 100, CIFAR-10 Batch 1:  loss 2.30334 valid_acc 0.105\n"
     ]
    }
   ],
   "source": [
    "\"\"\"\n",
    "DON'T MODIFY ANYTHING IN THIS CELL\n",
    "\"\"\"\n",
    "print('Checking the Training on a Single Batch...')\n",
    "with tf.Session() as sess:\n",
    "    # Initializing the variables\n",
    "    sess.run(tf.global_variables_initializer())\n",
    "    \n",
    "    # Training cycle\n",
    "    for epoch in range(epochs):\n",
    "        batch_i = 1\n",
    "        for batch_features, batch_labels in helper.load_preprocess_training_batch(batch_i, batch_size):\n",
    "            train_neural_network(sess, optimizer, keep_probability, batch_features, batch_labels)\n",
    "        print('Epoch {:>2}, CIFAR-10 Batch {}:  '.format(epoch + 1, batch_i), end='')\n",
    "        print_stats(sess, batch_features, batch_labels, cost, accuracy)"
   ]
  },
  {
   "cell_type": "markdown",
   "metadata": {
    "deletable": true,
    "editable": true
   },
   "source": [
    "### Fully Train the Model\n",
    "Now that you got a good accuracy with a single CIFAR-10 batch, try it with all five batches."
   ]
  },
  {
   "cell_type": "code",
   "execution_count": 128,
   "metadata": {
    "collapsed": false,
    "deletable": true,
    "editable": true
   },
   "outputs": [
    {
     "name": "stdout",
     "output_type": "stream",
     "text": [
      "Training...\n",
      "Epoch  1, CIFAR-10 Batch 1:  loss 4.9419 valid_acc 0.103\n",
      "Epoch  1, CIFAR-10 Batch 2:  loss 3.8122 valid_acc 0.103\n",
      "Epoch  1, CIFAR-10 Batch 3:  loss 3.80813 valid_acc 0.103\n",
      "Epoch  1, CIFAR-10 Batch 4:  loss 3.1388 valid_acc 0.097\n",
      "Epoch  1, CIFAR-10 Batch 5:  loss 3.24236 valid_acc 0.097\n",
      "Epoch  2, CIFAR-10 Batch 1:  loss 3.25897 valid_acc 0.0972\n",
      "Epoch  2, CIFAR-10 Batch 2:  loss 2.70895 valid_acc 0.097\n",
      "Epoch  2, CIFAR-10 Batch 3:  loss 2.71701 valid_acc 0.097\n",
      "Epoch  2, CIFAR-10 Batch 4:  loss 2.37395 valid_acc 0.097\n",
      "Epoch  2, CIFAR-10 Batch 5:  loss 2.44588 valid_acc 0.097\n",
      "Epoch  3, CIFAR-10 Batch 1:  loss 2.53645 valid_acc 0.097\n",
      "Epoch  3, CIFAR-10 Batch 2:  loss 2.35479 valid_acc 0.097\n",
      "Epoch  3, CIFAR-10 Batch 3:  loss 2.36866 valid_acc 0.097\n",
      "Epoch  3, CIFAR-10 Batch 4:  loss 2.2741 valid_acc 0.097\n",
      "Epoch  3, CIFAR-10 Batch 5:  loss 2.30144 valid_acc 0.097\n",
      "Epoch  4, CIFAR-10 Batch 1:  loss 2.35455 valid_acc 0.097\n",
      "Epoch  4, CIFAR-10 Batch 2:  loss 2.30552 valid_acc 0.097\n",
      "Epoch  4, CIFAR-10 Batch 3:  loss 2.30876 valid_acc 0.097\n",
      "Epoch  4, CIFAR-10 Batch 4:  loss 2.28859 valid_acc 0.097\n",
      "Epoch  4, CIFAR-10 Batch 5:  loss 2.29647 valid_acc 0.097\n",
      "Epoch  5, CIFAR-10 Batch 1:  loss 2.31357 valid_acc 0.097\n",
      "Epoch  5, CIFAR-10 Batch 2:  loss 2.30366 valid_acc 0.097\n",
      "Epoch  5, CIFAR-10 Batch 3:  loss 2.30236 valid_acc 0.097\n",
      "Epoch  5, CIFAR-10 Batch 4:  loss 2.29745 valid_acc 0.097\n",
      "Epoch  5, CIFAR-10 Batch 5:  loss 2.30109 valid_acc 0.097\n",
      "Epoch  6, CIFAR-10 Batch 1:  loss 2.30538 valid_acc 0.097\n",
      "Epoch  6, CIFAR-10 Batch 2:  loss 2.3038 valid_acc 0.097\n",
      "Epoch  6, CIFAR-10 Batch 3:  loss 2.30088 valid_acc 0.097\n",
      "Epoch  6, CIFAR-10 Batch 4:  loss 2.3001 valid_acc 0.097\n",
      "Epoch  6, CIFAR-10 Batch 5:  loss 2.30215 valid_acc 0.0942\n",
      "Epoch  7, CIFAR-10 Batch 1:  loss 2.3037 valid_acc 0.097\n",
      "Epoch  7, CIFAR-10 Batch 2:  loss 2.30364 valid_acc 0.097\n",
      "Epoch  7, CIFAR-10 Batch 3:  loss 2.30001 valid_acc 0.102\n",
      "Epoch  7, CIFAR-10 Batch 4:  loss 2.30074 valid_acc 0.0942\n",
      "Epoch  7, CIFAR-10 Batch 5:  loss 2.30208 valid_acc 0.0942\n",
      "Epoch  8, CIFAR-10 Batch 1:  loss 2.30336 valid_acc 0.097\n",
      "Epoch  8, CIFAR-10 Batch 2:  loss 2.30358 valid_acc 0.0998\n",
      "Epoch  8, CIFAR-10 Batch 3:  loss 2.29958 valid_acc 0.102\n",
      "Epoch  8, CIFAR-10 Batch 4:  loss 2.30084 valid_acc 0.0942\n",
      "Epoch  8, CIFAR-10 Batch 5:  loss 2.30191 valid_acc 0.0942\n",
      "Epoch  9, CIFAR-10 Batch 1:  loss 2.30332 valid_acc 0.0978\n",
      "Epoch  9, CIFAR-10 Batch 2:  loss 2.3036 valid_acc 0.0998\n",
      "Epoch  9, CIFAR-10 Batch 3:  loss 2.29939 valid_acc 0.102\n",
      "Epoch  9, CIFAR-10 Batch 4:  loss 2.30079 valid_acc 0.0942\n",
      "Epoch  9, CIFAR-10 Batch 5:  loss 2.30178 valid_acc 0.0942\n",
      "Epoch 10, CIFAR-10 Batch 1:  loss 2.3033 valid_acc 0.0978\n",
      "Epoch 10, CIFAR-10 Batch 2:  loss 2.30363 valid_acc 0.0998\n",
      "Epoch 10, CIFAR-10 Batch 3:  loss 2.29927 valid_acc 0.102\n",
      "Epoch 10, CIFAR-10 Batch 4:  loss 2.30071 valid_acc 0.0942\n",
      "Epoch 10, CIFAR-10 Batch 5:  loss 2.30167 valid_acc 0.0942\n",
      "Epoch 11, CIFAR-10 Batch 1:  loss 2.3033 valid_acc 0.0978\n",
      "Epoch 11, CIFAR-10 Batch 2:  loss 2.30365 valid_acc 0.0998\n",
      "Epoch 11, CIFAR-10 Batch 3:  loss 2.29919 valid_acc 0.102\n",
      "Epoch 11, CIFAR-10 Batch 4:  loss 2.30063 valid_acc 0.0942\n",
      "Epoch 11, CIFAR-10 Batch 5:  loss 2.30158 valid_acc 0.0942\n",
      "Epoch 12, CIFAR-10 Batch 1:  loss 2.30329 valid_acc 0.0978\n",
      "Epoch 12, CIFAR-10 Batch 2:  loss 2.30366 valid_acc 0.0998\n",
      "Epoch 12, CIFAR-10 Batch 3:  loss 2.29913 valid_acc 0.102\n",
      "Epoch 12, CIFAR-10 Batch 4:  loss 2.30055 valid_acc 0.0942\n",
      "Epoch 12, CIFAR-10 Batch 5:  loss 2.3015 valid_acc 0.0942\n",
      "Epoch 13, CIFAR-10 Batch 1:  loss 2.30327 valid_acc 0.0978\n",
      "Epoch 13, CIFAR-10 Batch 2:  loss 2.30366 valid_acc 0.0998\n",
      "Epoch 13, CIFAR-10 Batch 3:  loss 2.29908 valid_acc 0.102\n",
      "Epoch 13, CIFAR-10 Batch 4:  loss 2.30047 valid_acc 0.0942\n",
      "Epoch 13, CIFAR-10 Batch 5:  loss 2.30144 valid_acc 0.0942\n",
      "Epoch 14, CIFAR-10 Batch 1:  loss 2.30324 valid_acc 0.0978\n",
      "Epoch 14, CIFAR-10 Batch 2:  loss 2.30365 valid_acc 0.0998\n",
      "Epoch 14, CIFAR-10 Batch 3:  loss 2.29904 valid_acc 0.102\n",
      "Epoch 14, CIFAR-10 Batch 4:  loss 2.30041 valid_acc 0.0942\n",
      "Epoch 14, CIFAR-10 Batch 5:  loss 2.30138 valid_acc 0.0942\n",
      "Epoch 15, CIFAR-10 Batch 1:  loss 2.30321 valid_acc 0.0978\n",
      "Epoch 15, CIFAR-10 Batch 2:  loss 2.30365 valid_acc 0.0998\n",
      "Epoch 15, CIFAR-10 Batch 3:  loss 2.29901 valid_acc 0.102\n",
      "Epoch 15, CIFAR-10 Batch 4:  loss 2.30035 valid_acc 0.0942\n",
      "Epoch 15, CIFAR-10 Batch 5:  loss 2.30133 valid_acc 0.0942\n",
      "Epoch 16, CIFAR-10 Batch 1:  loss 2.30318 valid_acc 0.0978\n",
      "Epoch 16, CIFAR-10 Batch 2:  loss 2.30364 valid_acc 0.0998\n",
      "Epoch 16, CIFAR-10 Batch 3:  loss 2.29899 valid_acc 0.102\n",
      "Epoch 16, CIFAR-10 Batch 4:  loss 2.30031 valid_acc 0.0942\n",
      "Epoch 16, CIFAR-10 Batch 5:  loss 2.30129 valid_acc 0.0942\n",
      "Epoch 17, CIFAR-10 Batch 1:  loss 2.30316 valid_acc 0.0978\n",
      "Epoch 17, CIFAR-10 Batch 2:  loss 2.30363 valid_acc 0.0998\n",
      "Epoch 17, CIFAR-10 Batch 3:  loss 2.29897 valid_acc 0.102\n",
      "Epoch 17, CIFAR-10 Batch 4:  loss 2.30027 valid_acc 0.0942\n",
      "Epoch 17, CIFAR-10 Batch 5:  loss 2.30126 valid_acc 0.0942\n",
      "Epoch 18, CIFAR-10 Batch 1:  loss 2.30313 valid_acc 0.0978\n",
      "Epoch 18, CIFAR-10 Batch 2:  loss 2.30362 valid_acc 0.0998\n",
      "Epoch 18, CIFAR-10 Batch 3:  loss 2.29896 valid_acc 0.102\n",
      "Epoch 18, CIFAR-10 Batch 4:  loss 2.30024 valid_acc 0.0942\n",
      "Epoch 18, CIFAR-10 Batch 5:  loss 2.30124 valid_acc 0.0942\n",
      "Epoch 19, CIFAR-10 Batch 1:  loss 2.30312 valid_acc 0.0978\n",
      "Epoch 19, CIFAR-10 Batch 2:  loss 2.30361 valid_acc 0.0998\n",
      "Epoch 19, CIFAR-10 Batch 3:  loss 2.29895 valid_acc 0.102\n",
      "Epoch 19, CIFAR-10 Batch 4:  loss 2.30022 valid_acc 0.0942\n",
      "Epoch 19, CIFAR-10 Batch 5:  loss 2.30122 valid_acc 0.0942\n",
      "Epoch 20, CIFAR-10 Batch 1:  loss 2.3031 valid_acc 0.0978\n",
      "Epoch 20, CIFAR-10 Batch 2:  loss 2.30361 valid_acc 0.0998\n",
      "Epoch 20, CIFAR-10 Batch 3:  loss 2.29894 valid_acc 0.102\n",
      "Epoch 20, CIFAR-10 Batch 4:  loss 2.30021 valid_acc 0.0942\n",
      "Epoch 20, CIFAR-10 Batch 5:  loss 2.3012 valid_acc 0.0942\n",
      "Epoch 21, CIFAR-10 Batch 1:  loss 2.30309 valid_acc 0.0978\n",
      "Epoch 21, CIFAR-10 Batch 2:  loss 2.30361 valid_acc 0.0998\n",
      "Epoch 21, CIFAR-10 Batch 3:  loss 2.29893 valid_acc 0.102\n",
      "Epoch 21, CIFAR-10 Batch 4:  loss 2.30019 valid_acc 0.0942\n",
      "Epoch 21, CIFAR-10 Batch 5:  loss 2.30119 valid_acc 0.0942\n",
      "Epoch 22, CIFAR-10 Batch 1:  loss 2.30308 valid_acc 0.0978\n",
      "Epoch 22, CIFAR-10 Batch 2:  loss 2.30361 valid_acc 0.0998\n",
      "Epoch 22, CIFAR-10 Batch 3:  loss 2.29892 valid_acc 0.102\n",
      "Epoch 22, CIFAR-10 Batch 4:  loss 2.30018 valid_acc 0.0942\n",
      "Epoch 22, CIFAR-10 Batch 5:  loss 2.30118 valid_acc 0.0942\n",
      "Epoch 23, CIFAR-10 Batch 1:  loss 2.30307 valid_acc 0.0978\n",
      "Epoch 23, CIFAR-10 Batch 2:  loss 2.30361 valid_acc 0.0998\n",
      "Epoch 23, CIFAR-10 Batch 3:  loss 2.29891 valid_acc 0.102\n",
      "Epoch 23, CIFAR-10 Batch 4:  loss 2.30018 valid_acc 0.0942\n",
      "Epoch 23, CIFAR-10 Batch 5:  loss 2.30117 valid_acc 0.0942\n",
      "Epoch 24, CIFAR-10 Batch 1:  loss 2.30307 valid_acc 0.0978\n",
      "Epoch 24, CIFAR-10 Batch 2:  loss 2.30361 valid_acc 0.0998\n",
      "Epoch 24, CIFAR-10 Batch 3:  loss 2.2989 valid_acc 0.102\n",
      "Epoch 24, CIFAR-10 Batch 4:  loss 2.30017 valid_acc 0.0942\n",
      "Epoch 24, CIFAR-10 Batch 5:  loss 2.30117 valid_acc 0.0942\n",
      "Epoch 25, CIFAR-10 Batch 1:  loss 2.30307 valid_acc 0.0978\n",
      "Epoch 25, CIFAR-10 Batch 2:  loss 2.30361 valid_acc 0.0998\n",
      "Epoch 25, CIFAR-10 Batch 3:  loss 2.29889 valid_acc 0.102\n",
      "Epoch 25, CIFAR-10 Batch 4:  loss 2.30016 valid_acc 0.0942\n",
      "Epoch 25, CIFAR-10 Batch 5:  loss 2.30116 valid_acc 0.0942\n",
      "Epoch 26, CIFAR-10 Batch 1:  loss 2.30306 valid_acc 0.0978\n",
      "Epoch 26, CIFAR-10 Batch 2:  loss 2.30362 valid_acc 0.0998\n",
      "Epoch 26, CIFAR-10 Batch 3:  loss 2.29887 valid_acc 0.102\n",
      "Epoch 26, CIFAR-10 Batch 4:  loss 2.30016 valid_acc 0.0942\n",
      "Epoch 26, CIFAR-10 Batch 5:  loss 2.30115 valid_acc 0.0942\n",
      "Epoch 27, CIFAR-10 Batch 1:  loss 2.30306 valid_acc 0.0978\n",
      "Epoch 27, CIFAR-10 Batch 2:  loss 2.30362 valid_acc 0.0998\n",
      "Epoch 27, CIFAR-10 Batch 3:  loss 2.29886 valid_acc 0.102\n",
      "Epoch 27, CIFAR-10 Batch 4:  loss 2.30015 valid_acc 0.0942\n",
      "Epoch 27, CIFAR-10 Batch 5:  loss 2.30114 valid_acc 0.0942\n",
      "Epoch 28, CIFAR-10 Batch 1:  loss 2.30306 valid_acc 0.0978\n",
      "Epoch 28, CIFAR-10 Batch 2:  loss 2.30363 valid_acc 0.0998\n",
      "Epoch 28, CIFAR-10 Batch 3:  loss 2.29884 valid_acc 0.102\n",
      "Epoch 28, CIFAR-10 Batch 4:  loss 2.30015 valid_acc 0.0942\n",
      "Epoch 28, CIFAR-10 Batch 5:  loss 2.30113 valid_acc 0.0942\n",
      "Epoch 29, CIFAR-10 Batch 1:  loss 2.30306 valid_acc 0.0978\n",
      "Epoch 29, CIFAR-10 Batch 2:  loss 2.30364 valid_acc 0.0998\n",
      "Epoch 29, CIFAR-10 Batch 3:  loss 2.29882 valid_acc 0.102\n",
      "Epoch 29, CIFAR-10 Batch 4:  loss 2.30014 valid_acc 0.0942\n",
      "Epoch 29, CIFAR-10 Batch 5:  loss 2.30112 valid_acc 0.0942\n",
      "Epoch 30, CIFAR-10 Batch 1:  loss 2.30306 valid_acc 0.0978\n",
      "Epoch 30, CIFAR-10 Batch 2:  loss 2.30365 valid_acc 0.0998\n",
      "Epoch 30, CIFAR-10 Batch 3:  loss 2.29879 valid_acc 0.102\n",
      "Epoch 30, CIFAR-10 Batch 4:  loss 2.30013 valid_acc 0.0942\n",
      "Epoch 30, CIFAR-10 Batch 5:  loss 2.30111 valid_acc 0.0942\n",
      "Epoch 31, CIFAR-10 Batch 1:  loss 2.30305 valid_acc 0.0978\n",
      "Epoch 31, CIFAR-10 Batch 2:  loss 2.30366 valid_acc 0.0998\n",
      "Epoch 31, CIFAR-10 Batch 3:  loss 2.29876 valid_acc 0.102\n",
      "Epoch 31, CIFAR-10 Batch 4:  loss 2.30012 valid_acc 0.0942\n",
      "Epoch 31, CIFAR-10 Batch 5:  loss 2.30109 valid_acc 0.0942\n",
      "Epoch 32, CIFAR-10 Batch 1:  loss 2.30305 valid_acc 0.0978\n",
      "Epoch 32, CIFAR-10 Batch 2:  loss 2.30367 valid_acc 0.0998\n",
      "Epoch 32, CIFAR-10 Batch 3:  loss 2.29872 valid_acc 0.102\n",
      "Epoch 32, CIFAR-10 Batch 4:  loss 2.30011 valid_acc 0.0942\n",
      "Epoch 32, CIFAR-10 Batch 5:  loss 2.30107 valid_acc 0.0942\n",
      "Epoch 33, CIFAR-10 Batch 1:  loss 2.30305 valid_acc 0.0978\n",
      "Epoch 33, CIFAR-10 Batch 2:  loss 2.30369 valid_acc 0.0998\n",
      "Epoch 33, CIFAR-10 Batch 3:  loss 2.29868 valid_acc 0.102\n",
      "Epoch 33, CIFAR-10 Batch 4:  loss 2.3001 valid_acc 0.0942\n",
      "Epoch 33, CIFAR-10 Batch 5:  loss 2.30105 valid_acc 0.0942\n",
      "Epoch 34, CIFAR-10 Batch 1:  loss 2.30305 valid_acc 0.0978\n",
      "Epoch 34, CIFAR-10 Batch 2:  loss 2.30371 valid_acc 0.0998\n",
      "Epoch 34, CIFAR-10 Batch 3:  loss 2.29863 valid_acc 0.103\n",
      "Epoch 34, CIFAR-10 Batch 4:  loss 2.30008 valid_acc 0.0942\n",
      "Epoch 34, CIFAR-10 Batch 5:  loss 2.30103 valid_acc 0.0942\n",
      "Epoch 35, CIFAR-10 Batch 1:  loss 2.30305 valid_acc 0.0978\n",
      "Epoch 35, CIFAR-10 Batch 2:  loss 2.30373 valid_acc 0.0998\n",
      "Epoch 35, CIFAR-10 Batch 3:  loss 2.29857 valid_acc 0.103\n",
      "Epoch 35, CIFAR-10 Batch 4:  loss 2.30007 valid_acc 0.0942\n",
      "Epoch 35, CIFAR-10 Batch 5:  loss 2.301 valid_acc 0.0942\n",
      "Epoch 36, CIFAR-10 Batch 1:  loss 2.30304 valid_acc 0.0978\n",
      "Epoch 36, CIFAR-10 Batch 2:  loss 2.30375 valid_acc 0.0998\n",
      "Epoch 36, CIFAR-10 Batch 3:  loss 2.2985 valid_acc 0.103\n",
      "Epoch 36, CIFAR-10 Batch 4:  loss 2.30005 valid_acc 0.0942\n",
      "Epoch 36, CIFAR-10 Batch 5:  loss 2.30097 valid_acc 0.0942\n",
      "Epoch 37, CIFAR-10 Batch 1:  loss 2.30304 valid_acc 0.0978\n",
      "Epoch 37, CIFAR-10 Batch 2:  loss 2.30378 valid_acc 0.0998\n",
      "Epoch 37, CIFAR-10 Batch 3:  loss 2.29842 valid_acc 0.103\n",
      "Epoch 37, CIFAR-10 Batch 4:  loss 2.30003 valid_acc 0.0942\n",
      "Epoch 37, CIFAR-10 Batch 5:  loss 2.30093 valid_acc 0.0942\n",
      "Epoch 38, CIFAR-10 Batch 1:  loss 2.30304 valid_acc 0.0978\n",
      "Epoch 38, CIFAR-10 Batch 2:  loss 2.3038 valid_acc 0.0998\n",
      "Epoch 38, CIFAR-10 Batch 3:  loss 2.29834 valid_acc 0.103\n",
      "Epoch 38, CIFAR-10 Batch 4:  loss 2.30001 valid_acc 0.0942\n",
      "Epoch 38, CIFAR-10 Batch 5:  loss 2.30089 valid_acc 0.0942\n",
      "Epoch 39, CIFAR-10 Batch 1:  loss 2.30303 valid_acc 0.0978\n",
      "Epoch 39, CIFAR-10 Batch 2:  loss 2.30383 valid_acc 0.0998\n",
      "Epoch 39, CIFAR-10 Batch 3:  loss 2.29825 valid_acc 0.103\n",
      "Epoch 39, CIFAR-10 Batch 4:  loss 2.29999 valid_acc 0.0942\n",
      "Epoch 39, CIFAR-10 Batch 5:  loss 2.30085 valid_acc 0.0942\n",
      "Epoch 40, CIFAR-10 Batch 1:  loss 2.30303 valid_acc 0.0978\n",
      "Epoch 40, CIFAR-10 Batch 2:  loss 2.30386 valid_acc 0.0998\n",
      "Epoch 40, CIFAR-10 Batch 3:  loss 2.29816 valid_acc 0.0942\n",
      "Epoch 40, CIFAR-10 Batch 4:  loss 2.29997 valid_acc 0.0942\n",
      "Epoch 40, CIFAR-10 Batch 5:  loss 2.30081 valid_acc 0.0942\n",
      "Epoch 41, CIFAR-10 Batch 1:  loss 2.30302 valid_acc 0.0978\n",
      "Epoch 41, CIFAR-10 Batch 2:  loss 2.30388 valid_acc 0.0998\n",
      "Epoch 41, CIFAR-10 Batch 3:  loss 2.29807 valid_acc 0.0942\n",
      "Epoch 41, CIFAR-10 Batch 4:  loss 2.29995 valid_acc 0.0942\n",
      "Epoch 41, CIFAR-10 Batch 5:  loss 2.30077 valid_acc 0.0942\n",
      "Epoch 42, CIFAR-10 Batch 1:  loss 2.30301 valid_acc 0.0978\n",
      "Epoch 42, CIFAR-10 Batch 2:  loss 2.3039 valid_acc 0.0998\n",
      "Epoch 42, CIFAR-10 Batch 3:  loss 2.29799 valid_acc 0.0942\n",
      "Epoch 42, CIFAR-10 Batch 4:  loss 2.29993 valid_acc 0.0942\n",
      "Epoch 42, CIFAR-10 Batch 5:  loss 2.30073 valid_acc 0.0942\n",
      "Epoch 43, CIFAR-10 Batch 1:  loss 2.303 valid_acc 0.0978\n",
      "Epoch 43, CIFAR-10 Batch 2:  loss 2.30391 valid_acc 0.0998\n",
      "Epoch 43, CIFAR-10 Batch 3:  loss 2.29791 valid_acc 0.0942\n",
      "Epoch 43, CIFAR-10 Batch 4:  loss 2.29992 valid_acc 0.0942\n",
      "Epoch 43, CIFAR-10 Batch 5:  loss 2.30069 valid_acc 0.0942\n",
      "Epoch 44, CIFAR-10 Batch 1:  loss 2.30299 valid_acc 0.0978\n",
      "Epoch 44, CIFAR-10 Batch 2:  loss 2.30392 valid_acc 0.0998\n",
      "Epoch 44, CIFAR-10 Batch 3:  loss 2.29784 valid_acc 0.0942\n",
      "Epoch 44, CIFAR-10 Batch 4:  loss 2.29991 valid_acc 0.0942\n",
      "Epoch 44, CIFAR-10 Batch 5:  loss 2.30066 valid_acc 0.0942\n",
      "Epoch 45, CIFAR-10 Batch 1:  loss 2.30298 valid_acc 0.0978\n",
      "Epoch 45, CIFAR-10 Batch 2:  loss 2.30393 valid_acc 0.0998\n",
      "Epoch 45, CIFAR-10 Batch 3:  loss 2.29778 valid_acc 0.0942\n",
      "Epoch 45, CIFAR-10 Batch 4:  loss 2.29991 valid_acc 0.0942\n",
      "Epoch 45, CIFAR-10 Batch 5:  loss 2.30063 valid_acc 0.0942\n",
      "Epoch 46, CIFAR-10 Batch 1:  loss 2.30296 valid_acc 0.0978\n",
      "Epoch 46, CIFAR-10 Batch 2:  loss 2.30393 valid_acc 0.0998\n",
      "Epoch 46, CIFAR-10 Batch 3:  loss 2.29773 valid_acc 0.0942\n",
      "Epoch 46, CIFAR-10 Batch 4:  loss 2.29991 valid_acc 0.0942\n",
      "Epoch 46, CIFAR-10 Batch 5:  loss 2.3006 valid_acc 0.0942\n",
      "Epoch 47, CIFAR-10 Batch 1:  loss 2.30295 valid_acc 0.0978\n",
      "Epoch 47, CIFAR-10 Batch 2:  loss 2.30393 valid_acc 0.0998\n",
      "Epoch 47, CIFAR-10 Batch 3:  loss 2.29769 valid_acc 0.0942\n",
      "Epoch 47, CIFAR-10 Batch 4:  loss 2.29991 valid_acc 0.0942\n",
      "Epoch 47, CIFAR-10 Batch 5:  loss 2.30058 valid_acc 0.0942\n",
      "Epoch 48, CIFAR-10 Batch 1:  loss 2.30294 valid_acc 0.0978\n",
      "Epoch 48, CIFAR-10 Batch 2:  loss 2.30393 valid_acc 0.0998\n",
      "Epoch 48, CIFAR-10 Batch 3:  loss 2.29766 valid_acc 0.0942\n",
      "Epoch 48, CIFAR-10 Batch 4:  loss 2.29992 valid_acc 0.0942\n",
      "Epoch 48, CIFAR-10 Batch 5:  loss 2.30056 valid_acc 0.0942\n",
      "Epoch 49, CIFAR-10 Batch 1:  loss 2.30293 valid_acc 0.0978\n",
      "Epoch 49, CIFAR-10 Batch 2:  loss 2.30392 valid_acc 0.0998\n",
      "Epoch 49, CIFAR-10 Batch 3:  loss 2.29763 valid_acc 0.0942\n",
      "Epoch 49, CIFAR-10 Batch 4:  loss 2.29993 valid_acc 0.0942\n",
      "Epoch 49, CIFAR-10 Batch 5:  loss 2.30055 valid_acc 0.0942\n",
      "Epoch 50, CIFAR-10 Batch 1:  loss 2.30291 valid_acc 0.0978\n",
      "Epoch 50, CIFAR-10 Batch 2:  loss 2.30392 valid_acc 0.0998\n",
      "Epoch 50, CIFAR-10 Batch 3:  loss 2.2976 valid_acc 0.0942\n",
      "Epoch 50, CIFAR-10 Batch 4:  loss 2.29994 valid_acc 0.0942\n",
      "Epoch 50, CIFAR-10 Batch 5:  loss 2.30054 valid_acc 0.0942\n",
      "Epoch 51, CIFAR-10 Batch 1:  loss 2.3029 valid_acc 0.0978\n",
      "Epoch 51, CIFAR-10 Batch 2:  loss 2.30392 valid_acc 0.0998\n",
      "Epoch 51, CIFAR-10 Batch 3:  loss 2.29758 valid_acc 0.0942\n",
      "Epoch 51, CIFAR-10 Batch 4:  loss 2.29996 valid_acc 0.0942\n",
      "Epoch 51, CIFAR-10 Batch 5:  loss 2.30053 valid_acc 0.0942\n",
      "Epoch 52, CIFAR-10 Batch 1:  loss 2.30289 valid_acc 0.0978\n",
      "Epoch 52, CIFAR-10 Batch 2:  loss 2.30392 valid_acc 0.0998\n",
      "Epoch 52, CIFAR-10 Batch 3:  loss 2.29757 valid_acc 0.0942\n",
      "Epoch 52, CIFAR-10 Batch 4:  loss 2.29997 valid_acc 0.0942\n",
      "Epoch 52, CIFAR-10 Batch 5:  loss 2.30052 valid_acc 0.0942\n",
      "Epoch 53, CIFAR-10 Batch 1:  loss 2.30288 valid_acc 0.0978\n",
      "Epoch 53, CIFAR-10 Batch 2:  loss 2.30392 valid_acc 0.0998\n",
      "Epoch 53, CIFAR-10 Batch 3:  loss 2.29755 valid_acc 0.0942\n",
      "Epoch 53, CIFAR-10 Batch 4:  loss 2.29998 valid_acc 0.0942\n",
      "Epoch 53, CIFAR-10 Batch 5:  loss 2.30051 valid_acc 0.0942\n",
      "Epoch 54, CIFAR-10 Batch 1:  loss 2.30287 valid_acc 0.0978\n",
      "Epoch 54, CIFAR-10 Batch 2:  loss 2.30393 valid_acc 0.0998\n",
      "Epoch 54, CIFAR-10 Batch 3:  loss 2.29753 valid_acc 0.0942\n",
      "Epoch 54, CIFAR-10 Batch 4:  loss 2.29999 valid_acc 0.0942\n",
      "Epoch 54, CIFAR-10 Batch 5:  loss 2.30051 valid_acc 0.0942\n",
      "Epoch 55, CIFAR-10 Batch 1:  loss 2.30287 valid_acc 0.0978\n",
      "Epoch 55, CIFAR-10 Batch 2:  loss 2.30393 valid_acc 0.0998\n",
      "Epoch 55, CIFAR-10 Batch 3:  loss 2.29752 valid_acc 0.0942\n",
      "Epoch 55, CIFAR-10 Batch 4:  loss 2.29999 valid_acc 0.0942\n",
      "Epoch 55, CIFAR-10 Batch 5:  loss 2.3005 valid_acc 0.0942\n",
      "Epoch 56, CIFAR-10 Batch 1:  loss 2.30286 valid_acc 0.0978\n",
      "Epoch 56, CIFAR-10 Batch 2:  loss 2.30393 valid_acc 0.0998\n",
      "Epoch 56, CIFAR-10 Batch 3:  loss 2.29751 valid_acc 0.0942\n",
      "Epoch 56, CIFAR-10 Batch 4:  loss 2.3 valid_acc 0.0942\n",
      "Epoch 56, CIFAR-10 Batch 5:  loss 2.3005 valid_acc 0.0942\n",
      "Epoch 57, CIFAR-10 Batch 1:  loss 2.30285 valid_acc 0.0978\n",
      "Epoch 57, CIFAR-10 Batch 2:  loss 2.30393 valid_acc 0.0998\n",
      "Epoch 57, CIFAR-10 Batch 3:  loss 2.29749 valid_acc 0.0942\n",
      "Epoch 57, CIFAR-10 Batch 4:  loss 2.3 valid_acc 0.0942\n",
      "Epoch 57, CIFAR-10 Batch 5:  loss 2.30049 valid_acc 0.0942\n",
      "Epoch 58, CIFAR-10 Batch 1:  loss 2.30285 valid_acc 0.0978\n",
      "Epoch 58, CIFAR-10 Batch 2:  loss 2.30393 valid_acc 0.0998\n",
      "Epoch 58, CIFAR-10 Batch 3:  loss 2.29748 valid_acc 0.0942\n",
      "Epoch 58, CIFAR-10 Batch 4:  loss 2.30001 valid_acc 0.0942\n",
      "Epoch 58, CIFAR-10 Batch 5:  loss 2.30049 valid_acc 0.0942\n",
      "Epoch 59, CIFAR-10 Batch 1:  loss 2.30284 valid_acc 0.0978\n",
      "Epoch 59, CIFAR-10 Batch 2:  loss 2.30393 valid_acc 0.0998\n",
      "Epoch 59, CIFAR-10 Batch 3:  loss 2.29748 valid_acc 0.0942\n",
      "Epoch 59, CIFAR-10 Batch 4:  loss 2.30001 valid_acc 0.0942\n",
      "Epoch 59, CIFAR-10 Batch 5:  loss 2.30049 valid_acc 0.0942\n",
      "Epoch 60, CIFAR-10 Batch 1:  loss 2.30284 valid_acc 0.0978\n",
      "Epoch 60, CIFAR-10 Batch 2:  loss 2.30393 valid_acc 0.0998\n",
      "Epoch 60, CIFAR-10 Batch 3:  loss 2.29747 valid_acc 0.0942\n",
      "Epoch 60, CIFAR-10 Batch 4:  loss 2.30001 valid_acc 0.0942\n",
      "Epoch 60, CIFAR-10 Batch 5:  loss 2.30048 valid_acc 0.0942\n",
      "Epoch 61, CIFAR-10 Batch 1:  loss 2.30284 valid_acc 0.0978\n",
      "Epoch 61, CIFAR-10 Batch 2:  loss 2.30393 valid_acc 0.0998\n",
      "Epoch 61, CIFAR-10 Batch 3:  loss 2.29746 valid_acc 0.0942\n",
      "Epoch 61, CIFAR-10 Batch 4:  loss 2.30001 valid_acc 0.0942\n",
      "Epoch 61, CIFAR-10 Batch 5:  loss 2.30048 valid_acc 0.0942\n",
      "Epoch 62, CIFAR-10 Batch 1:  loss 2.30283 valid_acc 0.0978\n",
      "Epoch 62, CIFAR-10 Batch 2:  loss 2.30393 valid_acc 0.0998\n",
      "Epoch 62, CIFAR-10 Batch 3:  loss 2.29746 valid_acc 0.0942\n",
      "Epoch 62, CIFAR-10 Batch 4:  loss 2.30002 valid_acc 0.0942\n",
      "Epoch 62, CIFAR-10 Batch 5:  loss 2.30048 valid_acc 0.0942\n",
      "Epoch 63, CIFAR-10 Batch 1:  loss 2.30283 valid_acc 0.0978\n",
      "Epoch 63, CIFAR-10 Batch 2:  loss 2.30393 valid_acc 0.0998\n",
      "Epoch 63, CIFAR-10 Batch 3:  loss 2.29746 valid_acc 0.0942\n",
      "Epoch 63, CIFAR-10 Batch 4:  loss 2.30002 valid_acc 0.0942\n",
      "Epoch 63, CIFAR-10 Batch 5:  loss 2.30048 valid_acc 0.0942\n",
      "Epoch 64, CIFAR-10 Batch 1:  loss 2.30283 valid_acc 0.0978\n",
      "Epoch 64, CIFAR-10 Batch 2:  loss 2.30393 valid_acc 0.0998\n",
      "Epoch 64, CIFAR-10 Batch 3:  loss 2.29746 valid_acc 0.0942\n",
      "Epoch 64, CIFAR-10 Batch 4:  loss 2.30002 valid_acc 0.0942\n",
      "Epoch 64, CIFAR-10 Batch 5:  loss 2.30048 valid_acc 0.0942\n",
      "Epoch 65, CIFAR-10 Batch 1:  loss 2.30283 valid_acc 0.0978\n",
      "Epoch 65, CIFAR-10 Batch 2:  loss 2.30392 valid_acc 0.0998\n",
      "Epoch 65, CIFAR-10 Batch 3:  loss 2.29746 valid_acc 0.0942\n",
      "Epoch 65, CIFAR-10 Batch 4:  loss 2.30002 valid_acc 0.0942\n",
      "Epoch 65, CIFAR-10 Batch 5:  loss 2.30047 valid_acc 0.0942\n",
      "Epoch 66, CIFAR-10 Batch 1:  loss 2.30283 valid_acc 0.0978\n",
      "Epoch 66, CIFAR-10 Batch 2:  loss 2.30392 valid_acc 0.0998\n",
      "Epoch 66, CIFAR-10 Batch 3:  loss 2.29746 valid_acc 0.0942\n",
      "Epoch 66, CIFAR-10 Batch 4:  loss 2.30002 valid_acc 0.0942\n",
      "Epoch 66, CIFAR-10 Batch 5:  loss 2.30047 valid_acc 0.0942\n",
      "Epoch 67, CIFAR-10 Batch 1:  loss 2.30283 valid_acc 0.0978\n",
      "Epoch 67, CIFAR-10 Batch 2:  loss 2.30392 valid_acc 0.0998\n",
      "Epoch 67, CIFAR-10 Batch 3:  loss 2.29746 valid_acc 0.0942\n",
      "Epoch 67, CIFAR-10 Batch 4:  loss 2.30002 valid_acc 0.0942\n",
      "Epoch 67, CIFAR-10 Batch 5:  loss 2.30047 valid_acc 0.0942\n",
      "Epoch 68, CIFAR-10 Batch 1:  loss 2.30283 valid_acc 0.0978\n",
      "Epoch 68, CIFAR-10 Batch 2:  loss 2.30391 valid_acc 0.0998\n",
      "Epoch 68, CIFAR-10 Batch 3:  loss 2.29746 valid_acc 0.0942\n",
      "Epoch 68, CIFAR-10 Batch 4:  loss 2.30002 valid_acc 0.0942\n",
      "Epoch 68, CIFAR-10 Batch 5:  loss 2.30047 valid_acc 0.0942\n",
      "Epoch 69, CIFAR-10 Batch 1:  loss 2.30283 valid_acc 0.0978\n",
      "Epoch 69, CIFAR-10 Batch 2:  loss 2.30391 valid_acc 0.0998\n",
      "Epoch 69, CIFAR-10 Batch 3:  loss 2.29746 valid_acc 0.0942\n",
      "Epoch 69, CIFAR-10 Batch 4:  loss 2.30002 valid_acc 0.0942\n",
      "Epoch 69, CIFAR-10 Batch 5:  loss 2.30047 valid_acc 0.0942\n",
      "Epoch 70, CIFAR-10 Batch 1:  loss 2.30283 valid_acc 0.0978\n",
      "Epoch 70, CIFAR-10 Batch 2:  loss 2.30391 valid_acc 0.0998\n",
      "Epoch 70, CIFAR-10 Batch 3:  loss 2.29746 valid_acc 0.0942\n",
      "Epoch 70, CIFAR-10 Batch 4:  loss 2.30002 valid_acc 0.0942\n",
      "Epoch 70, CIFAR-10 Batch 5:  loss 2.30047 valid_acc 0.0942\n",
      "Epoch 71, CIFAR-10 Batch 1:  loss 2.30283 valid_acc 0.0978\n",
      "Epoch 71, CIFAR-10 Batch 2:  loss 2.3039 valid_acc 0.0998\n",
      "Epoch 71, CIFAR-10 Batch 3:  loss 2.29746 valid_acc 0.0942\n",
      "Epoch 71, CIFAR-10 Batch 4:  loss 2.30003 valid_acc 0.0942\n",
      "Epoch 71, CIFAR-10 Batch 5:  loss 2.30047 valid_acc 0.0942\n",
      "Epoch 72, CIFAR-10 Batch 1:  loss 2.30283 valid_acc 0.0978\n",
      "Epoch 72, CIFAR-10 Batch 2:  loss 2.3039 valid_acc 0.0998\n",
      "Epoch 72, CIFAR-10 Batch 3:  loss 2.29747 valid_acc 0.0942\n",
      "Epoch 72, CIFAR-10 Batch 4:  loss 2.30003 valid_acc 0.0942\n",
      "Epoch 72, CIFAR-10 Batch 5:  loss 2.30047 valid_acc 0.0942\n",
      "Epoch 73, CIFAR-10 Batch 1:  loss 2.30283 valid_acc 0.0978\n",
      "Epoch 73, CIFAR-10 Batch 2:  loss 2.3039 valid_acc 0.0998\n",
      "Epoch 73, CIFAR-10 Batch 3:  loss 2.29747 valid_acc 0.0942\n",
      "Epoch 73, CIFAR-10 Batch 4:  loss 2.30003 valid_acc 0.0942\n",
      "Epoch 73, CIFAR-10 Batch 5:  loss 2.30047 valid_acc 0.0942\n",
      "Epoch 74, CIFAR-10 Batch 1:  loss 2.30283 valid_acc 0.0978\n",
      "Epoch 74, CIFAR-10 Batch 2:  loss 2.3039 valid_acc 0.0998\n",
      "Epoch 74, CIFAR-10 Batch 3:  loss 2.29747 valid_acc 0.0942\n",
      "Epoch 74, CIFAR-10 Batch 4:  loss 2.30003 valid_acc 0.0942\n",
      "Epoch 74, CIFAR-10 Batch 5:  loss 2.30047 valid_acc 0.0942\n",
      "Epoch 75, CIFAR-10 Batch 1:  loss 2.30283 valid_acc 0.0978\n",
      "Epoch 75, CIFAR-10 Batch 2:  loss 2.3039 valid_acc 0.0998\n",
      "Epoch 75, CIFAR-10 Batch 3:  loss 2.29747 valid_acc 0.0942\n",
      "Epoch 75, CIFAR-10 Batch 4:  loss 2.30003 valid_acc 0.0942\n",
      "Epoch 75, CIFAR-10 Batch 5:  loss 2.30047 valid_acc 0.0942\n",
      "Epoch 76, CIFAR-10 Batch 1:  loss 2.30284 valid_acc 0.0978\n",
      "Epoch 76, CIFAR-10 Batch 2:  loss 2.3039 valid_acc 0.0998\n",
      "Epoch 76, CIFAR-10 Batch 3:  loss 2.29747 valid_acc 0.0942\n",
      "Epoch 76, CIFAR-10 Batch 4:  loss 2.30003 valid_acc 0.0942\n",
      "Epoch 76, CIFAR-10 Batch 5:  loss 2.30048 valid_acc 0.0942\n",
      "Epoch 77, CIFAR-10 Batch 1:  loss 2.30284 valid_acc 0.0978\n",
      "Epoch 77, CIFAR-10 Batch 2:  loss 2.3039 valid_acc 0.0998\n",
      "Epoch 77, CIFAR-10 Batch 3:  loss 2.29748 valid_acc 0.0942\n",
      "Epoch 77, CIFAR-10 Batch 4:  loss 2.30003 valid_acc 0.0942\n",
      "Epoch 77, CIFAR-10 Batch 5:  loss 2.30048 valid_acc 0.0942\n",
      "Epoch 78, CIFAR-10 Batch 1:  loss 2.30284 valid_acc 0.0978\n",
      "Epoch 78, CIFAR-10 Batch 2:  loss 2.3039 valid_acc 0.0998\n",
      "Epoch 78, CIFAR-10 Batch 3:  loss 2.29748 valid_acc 0.0942\n",
      "Epoch 78, CIFAR-10 Batch 4:  loss 2.30003 valid_acc 0.0942\n",
      "Epoch 78, CIFAR-10 Batch 5:  loss 2.30048 valid_acc 0.0942\n",
      "Epoch 79, CIFAR-10 Batch 1:  loss 2.30284 valid_acc 0.0978\n",
      "Epoch 79, CIFAR-10 Batch 2:  loss 2.3039 valid_acc 0.0998\n",
      "Epoch 79, CIFAR-10 Batch 3:  loss 2.29748 valid_acc 0.0942\n",
      "Epoch 79, CIFAR-10 Batch 4:  loss 2.30003 valid_acc 0.0942\n",
      "Epoch 79, CIFAR-10 Batch 5:  loss 2.30048 valid_acc 0.0942\n",
      "Epoch 80, CIFAR-10 Batch 1:  loss 2.30284 valid_acc 0.0978\n",
      "Epoch 80, CIFAR-10 Batch 2:  loss 2.3039 valid_acc 0.0998\n",
      "Epoch 80, CIFAR-10 Batch 3:  loss 2.29748 valid_acc 0.0942\n",
      "Epoch 80, CIFAR-10 Batch 4:  loss 2.30003 valid_acc 0.0942\n",
      "Epoch 80, CIFAR-10 Batch 5:  loss 2.30048 valid_acc 0.0942\n",
      "Epoch 81, CIFAR-10 Batch 1:  loss 2.30284 valid_acc 0.0978\n",
      "Epoch 81, CIFAR-10 Batch 2:  loss 2.3039 valid_acc 0.0998\n",
      "Epoch 81, CIFAR-10 Batch 3:  loss 2.29748 valid_acc 0.0942\n",
      "Epoch 81, CIFAR-10 Batch 4:  loss 2.30003 valid_acc 0.0942\n",
      "Epoch 81, CIFAR-10 Batch 5:  loss 2.30048 valid_acc 0.0942\n",
      "Epoch 82, CIFAR-10 Batch 1:  loss 2.30284 valid_acc 0.0978\n",
      "Epoch 82, CIFAR-10 Batch 2:  loss 2.3039 valid_acc 0.0998\n",
      "Epoch 82, CIFAR-10 Batch 3:  loss 2.29749 valid_acc 0.0942\n",
      "Epoch 82, CIFAR-10 Batch 4:  loss 2.30003 valid_acc 0.0942\n",
      "Epoch 82, CIFAR-10 Batch 5:  loss 2.30048 valid_acc 0.0942\n",
      "Epoch 83, CIFAR-10 Batch 1:  loss 2.30284 valid_acc 0.0978\n",
      "Epoch 83, CIFAR-10 Batch 2:  loss 2.3039 valid_acc 0.0998\n",
      "Epoch 83, CIFAR-10 Batch 3:  loss 2.29749 valid_acc 0.0942\n",
      "Epoch 83, CIFAR-10 Batch 4:  loss 2.30003 valid_acc 0.0942\n",
      "Epoch 83, CIFAR-10 Batch 5:  loss 2.30048 valid_acc 0.0942\n",
      "Epoch 84, CIFAR-10 Batch 1:  loss 2.30284 valid_acc 0.0978\n",
      "Epoch 84, CIFAR-10 Batch 2:  loss 2.3039 valid_acc 0.0998\n",
      "Epoch 84, CIFAR-10 Batch 3:  loss 2.29749 valid_acc 0.0942\n",
      "Epoch 84, CIFAR-10 Batch 4:  loss 2.30003 valid_acc 0.0942\n",
      "Epoch 84, CIFAR-10 Batch 5:  loss 2.30048 valid_acc 0.0942\n",
      "Epoch 85, CIFAR-10 Batch 1:  loss 2.30284 valid_acc 0.0978\n",
      "Epoch 85, CIFAR-10 Batch 2:  loss 2.3039 valid_acc 0.0998\n",
      "Epoch 85, CIFAR-10 Batch 3:  loss 2.29749 valid_acc 0.0942\n",
      "Epoch 85, CIFAR-10 Batch 4:  loss 2.30003 valid_acc 0.0942\n",
      "Epoch 85, CIFAR-10 Batch 5:  loss 2.30048 valid_acc 0.0942\n",
      "Epoch 86, CIFAR-10 Batch 1:  loss 2.30285 valid_acc 0.0978\n",
      "Epoch 86, CIFAR-10 Batch 2:  loss 2.3039 valid_acc 0.0998\n",
      "Epoch 86, CIFAR-10 Batch 3:  loss 2.29749 valid_acc 0.0942\n",
      "Epoch 86, CIFAR-10 Batch 4:  loss 2.30003 valid_acc 0.0942\n",
      "Epoch 86, CIFAR-10 Batch 5:  loss 2.30048 valid_acc 0.0942\n",
      "Epoch 87, CIFAR-10 Batch 1:  loss 2.30285 valid_acc 0.0978\n",
      "Epoch 87, CIFAR-10 Batch 2:  loss 2.3039 valid_acc 0.0998\n",
      "Epoch 87, CIFAR-10 Batch 3:  loss 2.2975 valid_acc 0.0942\n",
      "Epoch 87, CIFAR-10 Batch 4:  loss 2.30003 valid_acc 0.0942\n",
      "Epoch 87, CIFAR-10 Batch 5:  loss 2.30049 valid_acc 0.0942\n",
      "Epoch 88, CIFAR-10 Batch 1:  loss 2.30285 valid_acc 0.0978\n",
      "Epoch 88, CIFAR-10 Batch 2:  loss 2.3039 valid_acc 0.0998\n",
      "Epoch 88, CIFAR-10 Batch 3:  loss 2.2975 valid_acc 0.0942\n",
      "Epoch 88, CIFAR-10 Batch 4:  loss 2.30003 valid_acc 0.0942\n",
      "Epoch 88, CIFAR-10 Batch 5:  loss 2.30049 valid_acc 0.0942\n",
      "Epoch 89, CIFAR-10 Batch 1:  loss 2.30285 valid_acc 0.0978\n",
      "Epoch 89, CIFAR-10 Batch 2:  loss 2.3039 valid_acc 0.0998\n",
      "Epoch 89, CIFAR-10 Batch 3:  loss 2.2975 valid_acc 0.0942\n",
      "Epoch 89, CIFAR-10 Batch 4:  loss 2.30003 valid_acc 0.0942\n",
      "Epoch 89, CIFAR-10 Batch 5:  loss 2.30049 valid_acc 0.0942\n",
      "Epoch 90, CIFAR-10 Batch 1:  loss 2.30285 valid_acc 0.0978\n",
      "Epoch 90, CIFAR-10 Batch 2:  loss 2.3039 valid_acc 0.0998\n",
      "Epoch 90, CIFAR-10 Batch 3:  loss 2.2975 valid_acc 0.0942\n",
      "Epoch 90, CIFAR-10 Batch 4:  loss 2.30003 valid_acc 0.0942\n",
      "Epoch 90, CIFAR-10 Batch 5:  loss 2.30049 valid_acc 0.0942\n",
      "Epoch 91, CIFAR-10 Batch 1:  loss 2.30285 valid_acc 0.0978\n",
      "Epoch 91, CIFAR-10 Batch 2:  loss 2.3039 valid_acc 0.0998\n",
      "Epoch 91, CIFAR-10 Batch 3:  loss 2.2975 valid_acc 0.0942\n",
      "Epoch 91, CIFAR-10 Batch 4:  loss 2.30003 valid_acc 0.0942\n",
      "Epoch 91, CIFAR-10 Batch 5:  loss 2.30049 valid_acc 0.0942\n",
      "Epoch 92, CIFAR-10 Batch 1:  loss 2.30285 valid_acc 0.0978\n",
      "Epoch 92, CIFAR-10 Batch 2:  loss 2.3039 valid_acc 0.0998\n",
      "Epoch 92, CIFAR-10 Batch 3:  loss 2.29751 valid_acc 0.0942\n",
      "Epoch 92, CIFAR-10 Batch 4:  loss 2.30004 valid_acc 0.0942\n",
      "Epoch 92, CIFAR-10 Batch 5:  loss 2.30049 valid_acc 0.0942\n",
      "Epoch 93, CIFAR-10 Batch 1:  loss 2.30285 valid_acc 0.0978\n",
      "Epoch 93, CIFAR-10 Batch 2:  loss 2.3039 valid_acc 0.0998\n",
      "Epoch 93, CIFAR-10 Batch 3:  loss 2.29751 valid_acc 0.0942\n",
      "Epoch 93, CIFAR-10 Batch 4:  loss 2.30004 valid_acc 0.0942\n",
      "Epoch 93, CIFAR-10 Batch 5:  loss 2.30049 valid_acc 0.0942\n",
      "Epoch 94, CIFAR-10 Batch 1:  loss 2.30285 valid_acc 0.0978\n",
      "Epoch 94, CIFAR-10 Batch 2:  loss 2.3039 valid_acc 0.0998\n",
      "Epoch 94, CIFAR-10 Batch 3:  loss 2.29751 valid_acc 0.0942\n",
      "Epoch 94, CIFAR-10 Batch 4:  loss 2.30004 valid_acc 0.0942\n",
      "Epoch 94, CIFAR-10 Batch 5:  loss 2.30049 valid_acc 0.0942\n",
      "Epoch 95, CIFAR-10 Batch 1:  loss 2.30285 valid_acc 0.0978\n",
      "Epoch 95, CIFAR-10 Batch 2:  loss 2.3039 valid_acc 0.0998\n",
      "Epoch 95, CIFAR-10 Batch 3:  loss 2.29751 valid_acc 0.0942\n",
      "Epoch 95, CIFAR-10 Batch 4:  loss 2.30004 valid_acc 0.0942\n",
      "Epoch 95, CIFAR-10 Batch 5:  loss 2.30049 valid_acc 0.0942\n",
      "Epoch 96, CIFAR-10 Batch 1:  loss 2.30286 valid_acc 0.0978\n",
      "Epoch 96, CIFAR-10 Batch 2:  loss 2.3039 valid_acc 0.0998\n",
      "Epoch 96, CIFAR-10 Batch 3:  loss 2.29751 valid_acc 0.0942\n",
      "Epoch 96, CIFAR-10 Batch 4:  loss 2.30004 valid_acc 0.0942\n",
      "Epoch 96, CIFAR-10 Batch 5:  loss 2.30049 valid_acc 0.0942\n",
      "Epoch 97, CIFAR-10 Batch 1:  loss 2.30286 valid_acc 0.0978\n",
      "Epoch 97, CIFAR-10 Batch 2:  loss 2.3039 valid_acc 0.0998\n",
      "Epoch 97, CIFAR-10 Batch 3:  loss 2.29752 valid_acc 0.0942\n",
      "Epoch 97, CIFAR-10 Batch 4:  loss 2.30004 valid_acc 0.0942\n",
      "Epoch 97, CIFAR-10 Batch 5:  loss 2.3005 valid_acc 0.0942\n",
      "Epoch 98, CIFAR-10 Batch 1:  loss 2.30286 valid_acc 0.0978\n",
      "Epoch 98, CIFAR-10 Batch 2:  loss 2.3039 valid_acc 0.0998\n",
      "Epoch 98, CIFAR-10 Batch 3:  loss 2.29752 valid_acc 0.0942\n",
      "Epoch 98, CIFAR-10 Batch 4:  loss 2.30004 valid_acc 0.0942\n",
      "Epoch 98, CIFAR-10 Batch 5:  loss 2.3005 valid_acc 0.0942\n",
      "Epoch 99, CIFAR-10 Batch 1:  loss 2.30286 valid_acc 0.0978\n",
      "Epoch 99, CIFAR-10 Batch 2:  loss 2.3039 valid_acc 0.0998\n",
      "Epoch 99, CIFAR-10 Batch 3:  loss 2.29752 valid_acc 0.0942\n",
      "Epoch 99, CIFAR-10 Batch 4:  loss 2.30004 valid_acc 0.0942\n",
      "Epoch 99, CIFAR-10 Batch 5:  loss 2.3005 valid_acc 0.0942\n",
      "Epoch 100, CIFAR-10 Batch 1:  loss 2.30286 valid_acc 0.0978\n",
      "Epoch 100, CIFAR-10 Batch 2:  loss 2.3039 valid_acc 0.0998\n",
      "Epoch 100, CIFAR-10 Batch 3:  loss 2.29752 valid_acc 0.0942\n",
      "Epoch 100, CIFAR-10 Batch 4:  loss 2.30004 valid_acc 0.0942\n",
      "Epoch 100, CIFAR-10 Batch 5:  loss 2.3005 valid_acc 0.0942\n"
     ]
    }
   ],
   "source": [
    "\"\"\"\n",
    "DON'T MODIFY ANYTHING IN THIS CELL\n",
    "\"\"\"\n",
    "save_model_path = './image_classification'\n",
    "\n",
    "print('Training...')\n",
    "with tf.Session() as sess:\n",
    "    # Initializing the variables\n",
    "    sess.run(tf.global_variables_initializer())\n",
    "    \n",
    "    # Training cycle\n",
    "    for epoch in range(epochs):\n",
    "        # Loop over all batches\n",
    "        n_batches = 5\n",
    "        for batch_i in range(1, n_batches + 1):\n",
    "            for batch_features, batch_labels in helper.load_preprocess_training_batch(batch_i, batch_size):\n",
    "                train_neural_network(sess, optimizer, keep_probability, batch_features, batch_labels)\n",
    "            print('Epoch {:>2}, CIFAR-10 Batch {}:  '.format(epoch + 1, batch_i), end='')\n",
    "            print_stats(sess, batch_features, batch_labels, cost, accuracy)\n",
    "            \n",
    "    # Save Model\n",
    "    saver = tf.train.Saver()\n",
    "    save_path = saver.save(sess, save_model_path)"
   ]
  },
  {
   "cell_type": "markdown",
   "metadata": {
    "deletable": true,
    "editable": true
   },
   "source": [
    "# Checkpoint\n",
    "The model has been saved to disk.\n",
    "## Test Model\n",
    "Test your model against the test dataset.  This will be your final accuracy. You should have an accuracy greater than 50%. If you don't, keep tweaking the model architecture and parameters."
   ]
  },
  {
   "cell_type": "code",
   "execution_count": 129,
   "metadata": {
    "collapsed": false,
    "deletable": true,
    "editable": true
   },
   "outputs": [
    {
     "name": "stdout",
     "output_type": "stream",
     "text": [
      "Testing Accuracy: 0.10096914556962025\n",
      "\n"
     ]
    },
    {
     "data": {
      "image/png": "[encoded data removed]",
      "text/plain": [
       "<matplotlib.figure.Figure at 0x7f027aef3ef0>"
      ]
     },
     "metadata": {
      "image/png": {
       "height": 319,
       "width": 355
      }
     },
     "output_type": "display_data"
    }
   ],
   "source": [
    "\"\"\"\n",
    "DON'T MODIFY ANYTHING IN THIS CELL\n",
    "\"\"\"\n",
    "%matplotlib inline\n",
    "%config InlineBackend.figure_format = 'retina'\n",
    "\n",
    "import tensorflow as tf\n",
    "import pickle\n",
    "import helper\n",
    "import random\n",
    "\n",
    "# Set batch size if not already set\n",
    "try:\n",
    "    if batch_size:\n",
    "        pass\n",
    "except NameError:\n",
    "    batch_size = 64\n",
    "\n",
    "save_model_path = './image_classification'\n",
    "n_samples = 4\n",
    "top_n_predictions = 3\n",
    "\n",
    "def test_model():\n",
    "    \"\"\"\n",
    "    Test the saved model against the test dataset\n",
    "    \"\"\"\n",
    "\n",
    "    test_features, test_labels = pickle.load(open('preprocess_training.p', mode='rb'))\n",
    "    loaded_graph = tf.Graph()\n",
    "\n",
    "    with tf.Session(graph=loaded_graph) as sess:\n",
    "        # Load model\n",
    "        loader = tf.train.import_meta_graph(save_model_path + '.meta')\n",
    "        loader.restore(sess, save_model_path)\n",
    "\n",
    "        # Get Tensors from loaded model\n",
    "        loaded_x = loaded_graph.get_tensor_by_name('x:0')\n",
    "        loaded_y = loaded_graph.get_tensor_by_name('y:0')\n",
    "        loaded_keep_prob = loaded_graph.get_tensor_by_name('keep_prob:0')\n",
    "        loaded_logits = loaded_graph.get_tensor_by_name('logits:0')\n",
    "        loaded_acc = loaded_graph.get_tensor_by_name('accuracy:0')\n",
    "        \n",
    "        # Get accuracy in batches for memory limitations\n",
    "        test_batch_acc_total = 0\n",
    "        test_batch_count = 0\n",
    "        \n",
    "        for train_feature_batch, train_label_batch in helper.batch_features_labels(test_features, test_labels, batch_size):\n",
    "            test_batch_acc_total += sess.run(\n",
    "                loaded_acc,\n",
    "                feed_dict={loaded_x: train_feature_batch, loaded_y: train_label_batch, loaded_keep_prob: 1.0})\n",
    "            test_batch_count += 1\n",
    "\n",
    "        print('Testing Accuracy: {}\\n'.format(test_batch_acc_total/test_batch_count))\n",
    "\n",
    "        # Print Random Samples\n",
    "        random_test_features, random_test_labels = tuple(zip(*random.sample(list(zip(test_features, test_labels)), n_samples)))\n",
    "        random_test_predictions = sess.run(\n",
    "            tf.nn.top_k(tf.nn.softmax(loaded_logits), top_n_predictions),\n",
    "            feed_dict={loaded_x: random_test_features, loaded_y: random_test_labels, loaded_keep_prob: 1.0})\n",
    "        helper.display_image_predictions(random_test_features, random_test_labels, random_test_predictions)\n",
    "\n",
    "\n",
    "test_model()"
   ]
  },
  {
   "cell_type": "markdown",
   "metadata": {
    "deletable": true,
    "editable": true
   },
   "source": [
    "## Why 50-70% Accuracy?\n",
    "You might be wondering why you can't get an accuracy any higher. First things first, 50% isn't bad for a simple CNN.  Pure guessing would get you 10% accuracy. However, you might notice people are getting scores [well above 70%](http://rodrigob.github.io/are_we_there_yet/build/classification_datasets_results.html#43494641522d3130).  That's because we haven't taught you all there is to know about neural networks. We still need to cover a few more techniques.\n",
    "## Submitting This Project\n",
    "When submitting this project, make sure to run all the cells before saving the notebook.  Save the notebook file as \"dlnd_image_classification.ipynb\" and save it as a HTML file under \"File\" -> \"Download as\".  Include the \"helper.py\" and \"problem_unittests.py\" files in your submission."
   ]
  }
 ],
 "metadata": {
  "kernelspec": {
   "display_name": "Python 3",
   "language": "python",
   "name": "python3"
  },
  "language_info": {
   "codemirror_mode": {
    "name": "ipython",
    "version": 3
   },
   "file_extension": ".py",
   "mimetype": "text/x-python",
   "name": "python",
   "nbconvert_exporter": "python",
   "pygments_lexer": "ipython3",
   "version": "3.5.2"
  },
  "widgets": {
   "state": {},
   "version": "1.1.2"
  }
 },
 "nbformat": 4,
 "nbformat_minor": 0
}
